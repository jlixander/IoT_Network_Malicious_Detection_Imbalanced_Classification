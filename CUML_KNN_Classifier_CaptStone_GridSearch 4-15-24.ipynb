{
 "cells": [
  {
   "cell_type": "markdown",
   "metadata": {
    "id": "scfLT2i0MLyD"
   },
   "source": [
    "# Prepare Environment\n",
    "### Load Libraries and dependencies"
   ]
  },
  {
   "cell_type": "code",
   "execution_count": 1,
   "metadata": {
    "colab": {
     "base_uri": "https://localhost:8080/",
     "height": 35
    },
    "id": "4nLrk46BllED",
    "outputId": "52ee4841-1bb7-4369-f318-8743bd31f3d3"
   },
   "outputs": [
    {
     "data": {
      "text/plain": [
       "'24.02.02'"
      ]
     },
     "execution_count": 1,
     "metadata": {},
     "output_type": "execute_result"
    }
   ],
   "source": [
    "import cudf\n",
    "cudf.__version__"
   ]
  },
  {
   "cell_type": "code",
   "execution_count": 2,
   "metadata": {
    "colab": {
     "base_uri": "https://localhost:8080/",
     "height": 35
    },
    "id": "xgAFgI15ddf6",
    "outputId": "1be5e016-8e53-4144-c539-b33138efefef"
   },
   "outputs": [
    {
     "data": {
      "text/plain": [
       "'24.02.00'"
      ]
     },
     "execution_count": 2,
     "metadata": {},
     "output_type": "execute_result"
    }
   ],
   "source": [
    "import cuml\n",
    "cuml.__version__"
   ]
  },
  {
   "cell_type": "code",
   "execution_count": 3,
   "metadata": {
    "id": "4B5c6qNqwDjx"
   },
   "outputs": [],
   "source": [
    "import numpy as np\n",
    "import cupy as cp\n",
    "import pandas as pd\n",
    "import matplotlib.pyplot as plt\n",
    "import seaborn as sns\n",
    "\n",
    "#import dask_ml.model_selection as dcv\n",
    "from sklearn.model_selection import GridSearchCV\n",
    "from dask.distributed import Client, wait\n",
    "from dask_cuda import LocalCUDACluster\n",
    "\n",
    "from sklearn.metrics import make_scorer, precision_score, recall_score, f1_score, confusion_matrix, roc_curve, auc\n",
    "from sklearn.preprocessing import StandardScaler\n",
    "from cuml.neighbors import KNeighborsClassifier as cuNearestNeighbors\n",
    "from cuml.model_selection import train_test_split\n",
    "from cuml.metrics.accuracy import accuracy_score\n",
    "\n",
    "\n",
    "import time\n",
    "import os\n",
    "import pickle\n",
    "from contextlib import contextmanager"
   ]
  },
  {
   "cell_type": "code",
   "execution_count": 4,
   "metadata": {
    "colab": {
     "base_uri": "https://localhost:8080/"
    },
    "id": "0-Iu-ZJxpi5n",
    "outputId": "8009d0b6-3899-4d64-cd02-b3276e9c5543"
   },
   "outputs": [
    {
     "data": {
      "text/plain": [
       "0"
      ]
     },
     "execution_count": 4,
     "metadata": {},
     "output_type": "execute_result"
    }
   ],
   "source": [
    "#Clear GPU memory when restarting kernel\n",
    "import gc\n",
    "import torch\n",
    "torch.cuda.empty_cache()\n",
    "gc.collect()"
   ]
  },
  {
   "cell_type": "markdown",
   "metadata": {
    "id": "vykiCCFXoiJ4"
   },
   "source": [
    "### Define Timer Function"
   ]
  },
  {
   "cell_type": "code",
   "execution_count": 5,
   "metadata": {
    "id": "wc1xMWoooD0O"
   },
   "outputs": [],
   "source": [
    "# Helping time blocks of code\n",
    "@contextmanager\n",
    "def timed(txt):\n",
    "    t0 = time.time()\n",
    "    yield\n",
    "    t1 = time.time()\n",
    "    print(\"%32s time:  %8.5f\" % (txt, t1 - t0))"
   ]
  },
  {
   "cell_type": "code",
   "execution_count": 6,
   "metadata": {
    "id": "fLk_Ix1xqAf1"
   },
   "outputs": [],
   "source": [
    "#Set global seed var\n",
    "seed = 40"
   ]
  },
  {
   "cell_type": "code",
   "execution_count": 7,
   "metadata": {},
   "outputs": [],
   "source": [
    "### Silence WArnings\n",
    "import warnings\n",
    "warnings.filterwarnings(\"ignore\")  # Reduce number of messages/warnings displayed"
   ]
  },
  {
   "cell_type": "markdown",
   "metadata": {},
   "source": [
    "# Set GPU memory when restarting kernel"
   ]
  },
  {
   "cell_type": "code",
   "execution_count": 8,
   "metadata": {},
   "outputs": [
    {
     "name": "stdout",
     "output_type": "stream",
     "text": [
      "Fri Apr 26 15:47:52 2024       \n",
      "+---------------------------------------------------------------------------------------+\n",
      "| NVIDIA-SMI 535.171.04             Driver Version: 535.171.04   CUDA Version: 12.2     |\n",
      "|-----------------------------------------+----------------------+----------------------+\n",
      "| GPU  Name                 Persistence-M | Bus-Id        Disp.A | Volatile Uncorr. ECC |\n",
      "| Fan  Temp   Perf          Pwr:Usage/Cap |         Memory-Usage | GPU-Util  Compute M. |\n",
      "|                                         |                      |               MIG M. |\n",
      "|=========================================+======================+======================|\n",
      "|   0  NVIDIA GeForce RTX 3090        Off | 00000000:01:00.0 Off |                  N/A |\n",
      "|  0%   34C    P3              41W / 420W |    478MiB / 24576MiB |     18%      Default |\n",
      "|                                         |                      |                  N/A |\n",
      "+-----------------------------------------+----------------------+----------------------+\n",
      "|   1  NVIDIA GeForce RTX 2060 ...    Off | 00000000:03:00.0  On |                  N/A |\n",
      "| 29%   51C    P0              61W / 184W |    138MiB /  8192MiB |     33%      Default |\n",
      "|                                         |                      |                  N/A |\n",
      "+-----------------------------------------+----------------------+----------------------+\n",
      "                                                                                         \n",
      "+---------------------------------------------------------------------------------------+\n",
      "| Processes:                                                                            |\n",
      "|  GPU   GI   CI        PID   Type   Process name                            GPU Memory |\n",
      "|        ID   ID                                                             Usage      |\n",
      "|=======================================================================================|\n",
      "|    0   N/A  N/A      1500      G   /usr/lib/xorg/Xorg                          243MiB |\n",
      "|    0   N/A  N/A      1778      G   /usr/bin/gnome-shell                        159MiB |\n",
      "|    0   N/A  N/A      3860      G   ...seed-version=20240426-050101.464000       51MiB |\n",
      "|    1   N/A  N/A      1500      G   /usr/lib/xorg/Xorg                          133MiB |\n",
      "+---------------------------------------------------------------------------------------+\n"
     ]
    }
   ],
   "source": [
    "!nvidia-smi"
   ]
  },
  {
   "cell_type": "code",
   "execution_count": 9,
   "metadata": {},
   "outputs": [
    {
     "name": "stdout",
     "output_type": "stream",
     "text": [
      "GPU 0: NVIDIA GeForce RTX 3090 (UUID: GPU-f95b02b8-3c1a-8104-7eb1-25ec537b65e4)\n",
      "GPU 1: NVIDIA GeForce RTX 2060 SUPER (UUID: GPU-9234d598-4065-602a-8139-1b0b2bc70750)\n"
     ]
    }
   ],
   "source": [
    "#Print GPU list\n",
    "os.environ[\"CUDA_DEVICE_ORDER\"]=\"PCI_BUS_ID\" \n",
    "!nvidia-smi -L"
   ]
  },
  {
   "cell_type": "code",
   "execution_count": 10,
   "metadata": {},
   "outputs": [
    {
     "name": "stdout",
     "output_type": "stream",
     "text": [
      "CUDA available: True\n"
     ]
    }
   ],
   "source": [
    "# Check if CUDA is available\n",
    "cuda_available = torch.cuda.is_available()\n",
    "print(f\"CUDA available: {cuda_available}\")"
   ]
  },
  {
   "cell_type": "markdown",
   "metadata": {},
   "source": [
    "### Spin up CUDA Cluster"
   ]
  },
  {
   "cell_type": "code",
   "execution_count": 11,
   "metadata": {},
   "outputs": [
    {
     "data": {
      "text/html": [
       "<div>\n",
       "    <div style=\"width: 24px; height: 24px; background-color: #e1e1e1; border: 3px solid #9D9D9D; border-radius: 5px; position: absolute;\"> </div>\n",
       "    <div style=\"margin-left: 48px;\">\n",
       "        <h3 style=\"margin-bottom: 0px;\">Client</h3>\n",
       "        <p style=\"color: #9D9D9D; margin-bottom: 0px;\">Client-df88891e-0405-11ef-90a2-00d8612cd4a2</p>\n",
       "        <table style=\"width: 100%; text-align: left;\">\n",
       "\n",
       "        <tr>\n",
       "        \n",
       "            <td style=\"text-align: left;\"><strong>Connection method:</strong> Cluster object</td>\n",
       "            <td style=\"text-align: left;\"><strong>Cluster type:</strong> dask_cuda.LocalCUDACluster</td>\n",
       "        \n",
       "        </tr>\n",
       "\n",
       "        \n",
       "            <tr>\n",
       "                <td style=\"text-align: left;\">\n",
       "                    <strong>Dashboard: </strong> <a href=\"http://127.0.0.1:8787/status\" target=\"_blank\">http://127.0.0.1:8787/status</a>\n",
       "                </td>\n",
       "                <td style=\"text-align: left;\"></td>\n",
       "            </tr>\n",
       "        \n",
       "\n",
       "        </table>\n",
       "\n",
       "        \n",
       "\n",
       "        \n",
       "            <details>\n",
       "            <summary style=\"margin-bottom: 20px;\"><h3 style=\"display: inline;\">Cluster Info</h3></summary>\n",
       "            <div class=\"jp-RenderedHTMLCommon jp-RenderedHTML jp-mod-trusted jp-OutputArea-output\">\n",
       "    <div style=\"width: 24px; height: 24px; background-color: #e1e1e1; border: 3px solid #9D9D9D; border-radius: 5px; position: absolute;\">\n",
       "    </div>\n",
       "    <div style=\"margin-left: 48px;\">\n",
       "        <h3 style=\"margin-bottom: 0px; margin-top: 0px;\">LocalCUDACluster</h3>\n",
       "        <p style=\"color: #9D9D9D; margin-bottom: 0px;\">2cd7ac4c</p>\n",
       "        <table style=\"width: 100%; text-align: left;\">\n",
       "            <tr>\n",
       "                <td style=\"text-align: left;\">\n",
       "                    <strong>Dashboard:</strong> <a href=\"http://127.0.0.1:8787/status\" target=\"_blank\">http://127.0.0.1:8787/status</a>\n",
       "                </td>\n",
       "                <td style=\"text-align: left;\">\n",
       "                    <strong>Workers:</strong> 1\n",
       "                </td>\n",
       "            </tr>\n",
       "            <tr>\n",
       "                <td style=\"text-align: left;\">\n",
       "                    <strong>Total threads:</strong> 1\n",
       "                </td>\n",
       "                <td style=\"text-align: left;\">\n",
       "                    <strong>Total memory:</strong> 39.03 GiB\n",
       "                </td>\n",
       "            </tr>\n",
       "            \n",
       "            <tr>\n",
       "    <td style=\"text-align: left;\"><strong>Status:</strong> running</td>\n",
       "    <td style=\"text-align: left;\"><strong>Using processes:</strong> True</td>\n",
       "</tr>\n",
       "\n",
       "            \n",
       "        </table>\n",
       "\n",
       "        <details>\n",
       "            <summary style=\"margin-bottom: 20px;\">\n",
       "                <h3 style=\"display: inline;\">Scheduler Info</h3>\n",
       "            </summary>\n",
       "\n",
       "            <div style=\"\">\n",
       "    <div>\n",
       "        <div style=\"width: 24px; height: 24px; background-color: #FFF7E5; border: 3px solid #FF6132; border-radius: 5px; position: absolute;\"> </div>\n",
       "        <div style=\"margin-left: 48px;\">\n",
       "            <h3 style=\"margin-bottom: 0px;\">Scheduler</h3>\n",
       "            <p style=\"color: #9D9D9D; margin-bottom: 0px;\">Scheduler-4f8ea98a-e70c-4b12-9b60-28d1a93e7328</p>\n",
       "            <table style=\"width: 100%; text-align: left;\">\n",
       "                <tr>\n",
       "                    <td style=\"text-align: left;\">\n",
       "                        <strong>Comm:</strong> ucx://127.0.0.1:48867\n",
       "                    </td>\n",
       "                    <td style=\"text-align: left;\">\n",
       "                        <strong>Workers:</strong> 1\n",
       "                    </td>\n",
       "                </tr>\n",
       "                <tr>\n",
       "                    <td style=\"text-align: left;\">\n",
       "                        <strong>Dashboard:</strong> <a href=\"http://127.0.0.1:8787/status\" target=\"_blank\">http://127.0.0.1:8787/status</a>\n",
       "                    </td>\n",
       "                    <td style=\"text-align: left;\">\n",
       "                        <strong>Total threads:</strong> 1\n",
       "                    </td>\n",
       "                </tr>\n",
       "                <tr>\n",
       "                    <td style=\"text-align: left;\">\n",
       "                        <strong>Started:</strong> Just now\n",
       "                    </td>\n",
       "                    <td style=\"text-align: left;\">\n",
       "                        <strong>Total memory:</strong> 39.03 GiB\n",
       "                    </td>\n",
       "                </tr>\n",
       "            </table>\n",
       "        </div>\n",
       "    </div>\n",
       "\n",
       "    <details style=\"margin-left: 48px;\">\n",
       "        <summary style=\"margin-bottom: 20px;\">\n",
       "            <h3 style=\"display: inline;\">Workers</h3>\n",
       "        </summary>\n",
       "\n",
       "        \n",
       "        <div style=\"margin-bottom: 20px;\">\n",
       "            <div style=\"width: 24px; height: 24px; background-color: #DBF5FF; border: 3px solid #4CC9FF; border-radius: 5px; position: absolute;\"> </div>\n",
       "            <div style=\"margin-left: 48px;\">\n",
       "            <details>\n",
       "                <summary>\n",
       "                    <h4 style=\"margin-bottom: 0px; display: inline;\">Worker: 0</h4>\n",
       "                </summary>\n",
       "                <table style=\"width: 100%; text-align: left;\">\n",
       "                    <tr>\n",
       "                        <td style=\"text-align: left;\">\n",
       "                            <strong>Comm: </strong> ucx://127.0.0.1:48911\n",
       "                        </td>\n",
       "                        <td style=\"text-align: left;\">\n",
       "                            <strong>Total threads: </strong> 1\n",
       "                        </td>\n",
       "                    </tr>\n",
       "                    <tr>\n",
       "                        <td style=\"text-align: left;\">\n",
       "                            <strong>Dashboard: </strong> <a href=\"http://127.0.0.1:33879/status\" target=\"_blank\">http://127.0.0.1:33879/status</a>\n",
       "                        </td>\n",
       "                        <td style=\"text-align: left;\">\n",
       "                            <strong>Memory: </strong> 39.03 GiB\n",
       "                        </td>\n",
       "                    </tr>\n",
       "                    <tr>\n",
       "                        <td style=\"text-align: left;\">\n",
       "                            <strong>Nanny: </strong> ucx://127.0.0.1:48961\n",
       "                        </td>\n",
       "                        <td style=\"text-align: left;\"></td>\n",
       "                    </tr>\n",
       "                    <tr>\n",
       "                        <td colspan=\"2\" style=\"text-align: left;\">\n",
       "                            <strong>Local directory: </strong> /tmp/dask-scratch-space/worker-5e836n7k\n",
       "                        </td>\n",
       "                    </tr>\n",
       "\n",
       "                    \n",
       "\n",
       "                    \n",
       "\n",
       "                </table>\n",
       "            </details>\n",
       "            </div>\n",
       "        </div>\n",
       "        \n",
       "\n",
       "    </details>\n",
       "</div>\n",
       "\n",
       "        </details>\n",
       "    </div>\n",
       "</div>\n",
       "            </details>\n",
       "        \n",
       "\n",
       "    </div>\n",
       "</div>"
      ],
      "text/plain": [
       "<Client: 'ucx://127.0.0.1:48867' processes=1 threads=1, memory=39.03 GiB>"
      ]
     },
     "execution_count": 11,
     "metadata": {},
     "output_type": "execute_result"
    },
    {
     "name": "stderr",
     "output_type": "stream",
     "text": [
      "2024-04-26 16:11:17,337 - distributed.scheduler - WARNING - Worker failed to heartbeat within 300 seconds. Closing: <WorkerState 'ucx://127.0.0.1:48911', name: 0, status: running, memory: 0, processing: 0>\n",
      "2024-04-26 16:11:17,339 - distributed.scheduler - WARNING - Received heartbeat from unregistered worker 'ucx://127.0.0.1:48911'.\n",
      "2024-04-26 16:11:19,650 - distributed.nanny - WARNING - Restarting worker\n",
      "2024-04-26 16:34:36,901 - distributed.scheduler - WARNING - Worker failed to heartbeat within 300 seconds. Closing: <WorkerState 'ucx://127.0.0.1:56299', name: 0, status: running, memory: 0, processing: 0>\n",
      "2024-04-26 16:34:36,903 - distributed.scheduler - WARNING - Received heartbeat from unregistered worker 'ucx://127.0.0.1:56299'.\n",
      "2024-04-26 16:34:39,319 - distributed.nanny - WARNING - Restarting worker\n"
     ]
    }
   ],
   "source": [
    "#3090: GPU-f95b02b8-3c1a-8104-7eb1-25ec537b65e4\n",
    "#2060S: GPU-9234d598-4065-602a-8139-1b0b2bc70750\n",
    "\n",
    "cluster = LocalCUDACluster(protocol=\"ucx\", #use ucx for inter-gpu training (RDMA, exclude cpu)\n",
    "                           enable_tcp_over_ucx=None,\n",
    "                           CUDA_VISIBLE_DEVICES= \"0\")\n",
    "client = Client(cluster)\n",
    "\n",
    "client"
   ]
  },
  {
   "cell_type": "markdown",
   "metadata": {
    "id": "Ua5-VTaZmr5S"
   },
   "source": [
    "# Load Dataset"
   ]
  },
  {
   "cell_type": "code",
   "execution_count": 12,
   "metadata": {},
   "outputs": [
    {
     "name": "stdout",
     "output_type": "stream",
     "text": [
      "<class 'pandas.core.frame.DataFrame'>\n",
      "<class 'pandas.core.series.Series'>\n",
      "<class 'pandas.core.frame.DataFrame'>\n",
      "<class 'pandas.core.series.Series'>\n"
     ]
    }
   ],
   "source": [
    "#Read smote data back to nb ad cuda df\n",
    "X_train = pd.read_parquet(r\"../../capstone_data/archive/SMOTE_train_test_split/X_train_smote.parquet\")\n",
    "y_train = pd.read_parquet(r\"../../capstone_data/archive/SMOTE_train_test_split/y_train_smote.parquet\")['label']\n",
    "X_test = pd.read_parquet(r\"../../capstone_data/archive/SMOTE_train_test_split/X_test_smote.parquet\")\n",
    "y_test = pd.read_parquet(r\"../../capstone_data/archive/SMOTE_train_test_split/y_test_smote.parquet\")['label']\n",
    "\n",
    "print(type(X_train))\n",
    "print(type(y_train))\n",
    "print(type(X_test))\n",
    "print(type(y_test))"
   ]
  },
  {
   "cell_type": "markdown",
   "metadata": {},
   "source": [
    "# Scale Dataset"
   ]
  },
  {
   "cell_type": "code",
   "execution_count": 13,
   "metadata": {},
   "outputs": [],
   "source": [
    "#define numeric columns to be scaled\n",
    "numeric_columns = ['duration', #extremely right skewed\n",
    "                   'orig_bytes', #extremely right skewed\n",
    "                   'resp_bytes', #extremely right skewed\n",
    "                   'orig_pkts', #extremely right skewed\n",
    "                   'resp_pkts', #extremely right skewed\n",
    "                   'orig_ip_bytes', ##extremely right skewed\n",
    "                   'resp_ip_bytes'] #extremely right skewed"
   ]
  },
  {
   "cell_type": "code",
   "execution_count": 14,
   "metadata": {},
   "outputs": [],
   "source": [
    "# Scale data for KNN/SVC Algorithms\n",
    "scaler = StandardScaler()\n",
    "\n",
    "\n",
    "numeric_columns = ['duration', #extremely right skewed\n",
    "                   'orig_bytes', #extremely right skewed\n",
    "                   'resp_bytes', #extremely right skewed\n",
    "                   'orig_pkts', #extremely right skewed\n",
    "                   'resp_pkts', #extremely right skewed\n",
    "                   'orig_ip_bytes', ##extremely right skewed\n",
    "                   'resp_ip_bytes'] #extremely right skewed\n",
    "\n",
    "#Log transformation for extremely right skewed distributions\n",
    "constant = 1e-6\n",
    "X_train[numeric_columns] = X_train[numeric_columns].apply(lambda x: np.log(x + constant))\n",
    "X_test[numeric_columns] = X_test[numeric_columns].apply(lambda x: np.log(x + constant))"
   ]
  },
  {
   "cell_type": "markdown",
   "metadata": {
    "id": "ruw4pdFcp432"
   },
   "source": [
    "# Perform Gridsearch Hyperparameter Tuning\n",
    "n_neighbors = 71 was found to be the optimal parameter."
   ]
  },
  {
   "cell_type": "code",
   "execution_count": 15,
   "metadata": {},
   "outputs": [],
   "source": [
    "#Convert data to gpu loadable type\n",
    "X_train_gpu = cudf.DataFrame.from_pandas(X_train)\n",
    "X_test_gpu = cudf.DataFrame.from_pandas(X_test)\n",
    "y_train_gpu = cudf.Series.from_pandas(y_train)\n",
    "y_test_gpu = cudf.Series.from_pandas(y_test)"
   ]
  },
  {
   "cell_type": "code",
   "execution_count": 16,
   "metadata": {},
   "outputs": [],
   "source": [
    "# %%time\n",
    "# from tqdm import tqdm\n",
    "\n",
    "# neighbors_settings = range(15, 501,2)\n",
    "\n",
    "# scores = []\n",
    "# for n_neighbors in tqdm(neighbors_settings, desc=\"Testing different n_neighbors\"):\n",
    "#     # Build the model\n",
    "#     knn = cuNearestNeighbors(n_neighbors=n_neighbors)\n",
    "#     knn.fit(X_train_gpu, y_train_gpu)\n",
    "\n",
    "#     # Make predictions\n",
    "#     y_pred = knn.predict(X_test_gpu)\n",
    "\n",
    "#     # Evaluate accuracy\n",
    "#     accuracy = accuracy_score(y_test_gpu, y_pred)\n",
    "#     scores.append(accuracy)\n",
    "#     print(f\"n_neighbors: {n_neighbors}, Accuracy: {accuracy}\")\n",
    "\n",
    "# # Determine the best n_neighbors value\n",
    "# best_n_neighbors = neighbors_settings[np.argmax(scores)]\n",
    "# print(f\"Best number of neighbors: {best_n_neighbors}\")"
   ]
  },
  {
   "cell_type": "markdown",
   "metadata": {},
   "source": [
    "# Train and Test with Official Parameters"
   ]
  },
  {
   "cell_type": "code",
   "execution_count": 17,
   "metadata": {},
   "outputs": [
    {
     "name": "stdout",
     "output_type": "stream",
     "text": [
      "CPU times: user 303 ms, sys: 51.2 ms, total: 355 ms\n",
      "Wall time: 394 ms\n"
     ]
    }
   ],
   "source": [
    "%%time\n",
    "#Executes in 0.317secs\n",
    "## Initialize model and fit\n",
    "\n",
    "knn = cuNearestNeighbors(n_neighbors=71)\n",
    "model = knn.fit(X_train_gpu, y_train_gpu)"
   ]
  },
  {
   "cell_type": "code",
   "execution_count": 18,
   "metadata": {},
   "outputs": [
    {
     "name": "stderr",
     "output_type": "stream",
     "text": [
      "2024-04-26 16:11:17,340 - distributed.worker - ERROR - Scheduler was unaware of this worker 'ucx://127.0.0.1:48911'. Shutting down.\n",
      "2024-04-26 16:11:17,347 - distributed.core - INFO - Connection to ucx://127.0.0.1:48867 has been closed.\n"
     ]
    },
    {
     "name": "stdout",
     "output_type": "stream",
     "text": [
      "CPU times: user 23min 20s, sys: 3.79 s, total: 23min 24s\n",
      "Wall time: 23min 17s\n"
     ]
    }
   ],
   "source": [
    "%%time\n",
    "\n",
    "#CPU times: user 23min 33s, sys: 3.73 s, total: 23min 37s\n",
    "# Wall time: 23min 29s\n",
    "#Make predictions\n",
    "y_pred = model.predict(X_test_gpu)"
   ]
  },
  {
   "cell_type": "markdown",
   "metadata": {},
   "source": [
    "# Evaluate Model"
   ]
  },
  {
   "cell_type": "code",
   "execution_count": 19,
   "metadata": {},
   "outputs": [],
   "source": [
    "#load model if already trained\n",
    "# filename = '../trained_models/cuKNN_model_HPO_81accuracy.pkl'\n",
    "\n",
    "# with open(filename, 'rb') as file:\n",
    "#     model = pickle.load(file)\n",
    "\n",
    "# y_pred = model.predict(X_test)"
   ]
  },
  {
   "cell_type": "code",
   "execution_count": 20,
   "metadata": {},
   "outputs": [
    {
     "name": "stderr",
     "output_type": "stream",
     "text": [
      "2024-04-26 16:11:19,348 - distributed.nanny - ERROR - Worker process died unexpectedly\n"
     ]
    },
    {
     "name": "stdout",
     "output_type": "stream",
     "text": [
      "Accuracy: 0.8142149448394775\n",
      "Precision: 0.852946341218178\n",
      "Recall: 0.8142021702410308\n",
      "F1 Score: 0.8089700064736209\n"
     ]
    }
   ],
   "source": [
    "#Calculate metrics\n",
    "accuracy = accuracy_score(y_test, y_pred)\n",
    "precision = precision_score(y_test, y_pred.to_pandas(), average='macro')\n",
    "recall = recall_score(y_test, y_pred.to_pandas(), average='macro')\n",
    "f1 = f1_score(y_test, y_pred.to_pandas(), average='macro')\n",
    "\n",
    "print(\"Accuracy:\", accuracy)\n",
    "print(\"Precision:\", precision)\n",
    "print(\"Recall:\", recall)\n",
    "print(\"F1 Score:\", f1)"
   ]
  },
  {
   "cell_type": "markdown",
   "metadata": {},
   "source": [
    "### Confusion Matrix"
   ]
  },
  {
   "cell_type": "code",
   "execution_count": 21,
   "metadata": {},
   "outputs": [
    {
     "data": {
      "image/png": "[encoded data removed]",
      "text/plain": [
       "<Figure size 800x600 with 2 Axes>"
      ]
     },
     "metadata": {},
     "output_type": "display_data"
    }
   ],
   "source": [
    "# Create confusion matrix\n",
    "cm = confusion_matrix(y_test, y_pred.to_pandas())\n",
    "\n",
    "# Plot confusion matrix\n",
    "plt.figure(figsize=(8, 6))\n",
    "sns.heatmap(cm, annot=True, fmt='g', cmap='Blues', xticklabels=['Malicious', 'Benign'], yticklabels=['Malicious', 'Benign'])\n",
    "plt.xlabel('Predicted labels')\n",
    "plt.ylabel('True labels')\n",
    "plt.title('KNN Binary Classifier Confusion Matrix')\n",
    "plt.savefig('../../Graphs/Conf_Mat/KNN_HPO_CM_nneighbors71.png')\n",
    "plt.show()"
   ]
  },
  {
   "cell_type": "markdown",
   "metadata": {
    "id": "JkxLtPCMsott"
   },
   "source": [
    "### ROC Curve"
   ]
  },
  {
   "cell_type": "code",
   "execution_count": 22,
   "metadata": {
    "id": "DtmJJCAHrq92"
   },
   "outputs": [
    {
     "name": "stderr",
     "output_type": "stream",
     "text": [
      "2024-04-26 16:34:36,904 - distributed.worker - ERROR - Scheduler was unaware of this worker 'ucx://127.0.0.1:56299'. Shutting down.\n",
      "2024-04-26 16:34:36,910 - distributed.core - INFO - Connection to ucx://127.0.0.1:48867 has been closed.\n",
      "2024-04-26 16:34:38,911 - distributed.nanny - ERROR - Worker process died unexpectedly\n"
     ]
    },
    {
     "data": {
      "text/html": [
       "<div>\n",
       "<style scoped>\n",
       "    .dataframe tbody tr th:only-of-type {\n",
       "        vertical-align: middle;\n",
       "    }\n",
       "\n",
       "    .dataframe tbody tr th {\n",
       "        vertical-align: top;\n",
       "    }\n",
       "\n",
       "    .dataframe thead th {\n",
       "        text-align: right;\n",
       "    }\n",
       "</style>\n",
       "<table border=\"1\" class=\"dataframe\">\n",
       "  <thead>\n",
       "    <tr style=\"text-align: right;\">\n",
       "      <th></th>\n",
       "      <th>0</th>\n",
       "      <th>1</th>\n",
       "    </tr>\n",
       "  </thead>\n",
       "  <tbody>\n",
       "    <tr>\n",
       "      <th>1705238</th>\n",
       "      <td>0.633803</td>\n",
       "      <td>0.366197</td>\n",
       "    </tr>\n",
       "    <tr>\n",
       "      <th>13645399</th>\n",
       "      <td>0.690141</td>\n",
       "      <td>0.309859</td>\n",
       "    </tr>\n",
       "    <tr>\n",
       "      <th>1483525</th>\n",
       "      <td>0.690141</td>\n",
       "      <td>0.309859</td>\n",
       "    </tr>\n",
       "    <tr>\n",
       "      <th>5277299</th>\n",
       "      <td>0.014085</td>\n",
       "      <td>0.985916</td>\n",
       "    </tr>\n",
       "    <tr>\n",
       "      <th>1209595</th>\n",
       "      <td>0.647888</td>\n",
       "      <td>0.352113</td>\n",
       "    </tr>\n",
       "    <tr>\n",
       "      <th>...</th>\n",
       "      <td>...</td>\n",
       "      <td>...</td>\n",
       "    </tr>\n",
       "    <tr>\n",
       "      <th>12659077</th>\n",
       "      <td>0.690141</td>\n",
       "      <td>0.309859</td>\n",
       "    </tr>\n",
       "    <tr>\n",
       "      <th>4656283</th>\n",
       "      <td>0.000000</td>\n",
       "      <td>1.000000</td>\n",
       "    </tr>\n",
       "    <tr>\n",
       "      <th>11929098</th>\n",
       "      <td>0.788733</td>\n",
       "      <td>0.211268</td>\n",
       "    </tr>\n",
       "    <tr>\n",
       "      <th>12833138</th>\n",
       "      <td>0.704226</td>\n",
       "      <td>0.295775</td>\n",
       "    </tr>\n",
       "    <tr>\n",
       "      <th>11343829</th>\n",
       "      <td>0.788733</td>\n",
       "      <td>0.211268</td>\n",
       "    </tr>\n",
       "  </tbody>\n",
       "</table>\n",
       "<p>4390079 rows × 2 columns</p>\n",
       "</div>"
      ],
      "text/plain": [
       "                 0         1\n",
       "1705238   0.633803  0.366197\n",
       "13645399  0.690141  0.309859\n",
       "1483525   0.690141  0.309859\n",
       "5277299   0.014085  0.985916\n",
       "1209595   0.647888  0.352113\n",
       "...            ...       ...\n",
       "12659077  0.690141  0.309859\n",
       "4656283   0.000000  1.000000\n",
       "11929098  0.788733  0.211268\n",
       "12833138  0.704226  0.295775\n",
       "11343829  0.788733  0.211268\n",
       "\n",
       "[4390079 rows x 2 columns]"
      ]
     },
     "execution_count": 22,
     "metadata": {},
     "output_type": "execute_result"
    }
   ],
   "source": [
    "y_probs = model.predict_proba(X_test)\n",
    "y_probs"
   ]
  },
  {
   "cell_type": "code",
   "execution_count": 23,
   "metadata": {
    "id": "t4WO5wPqytad"
   },
   "outputs": [
    {
     "data": {
      "image/png": "[encoded data removed]",
      "text/plain": [
       "<Figure size 800x600 with 1 Axes>"
      ]
     },
     "metadata": {},
     "output_type": "display_data"
    }
   ],
   "source": [
    "#Calculate prediction performance metrics\n",
    "fpr, tpr, thresholds = roc_curve(y_test, y_probs[1])\n",
    "roc_auc = auc(fpr, tpr)\n",
    "\n",
    "# Plot ROC curve\n",
    "plt.figure(figsize=(8, 6))\n",
    "plt.plot(fpr, tpr, color='darkorange', lw=2, label=f'ROC curve (AUC = {roc_auc:.6f})')\n",
    "plt.plot([0, 1], [0, 1], color='navy', lw=2, linestyle='--')\n",
    "plt.xlim([-0.005, 1.0])\n",
    "plt.ylim([-0.005, 1.05])\n",
    "plt.xlabel('False Positive Rate')\n",
    "plt.ylabel('True Positive Rate')\n",
    "plt.title('ROC Curve for KNN Classifier')\n",
    "plt.legend(loc=\"lower right\")\n",
    "plt.savefig('../../Graphs/ROC_CUR/KNN_HPO_ROC_nneighbors71.png')\n",
    "plt.show()"
   ]
  },
  {
   "cell_type": "markdown",
   "metadata": {},
   "source": [
    "# Saving Trained Model"
   ]
  },
  {
   "cell_type": "code",
   "execution_count": 24,
   "metadata": {},
   "outputs": [],
   "source": [
    "# Save the trained model using pickle\n",
    "# model_filename = 'trained_models/cuKNN_model_HPO_81accuracy.pkl'\n",
    "# with open(model_filename, 'wb') as file:\n",
    "#     pickle.dump(model, file)"
   ]
  },
  {
   "cell_type": "code",
   "execution_count": null,
   "metadata": {},
   "outputs": [],
   "source": []
  }
 ],
 "metadata": {
  "accelerator": "GPU",
  "colab": {
   "provenance": []
  },
  "kernelspec": {
   "display_name": "Python 3 (ipykernel)",
   "language": "python",
   "name": "python3"
  },
  "language_info": {
   "codemirror_mode": {
    "name": "ipython",
    "version": 3
   },
   "file_extension": ".py",
   "mimetype": "text/x-python",
   "name": "python",
   "nbconvert_exporter": "python",
   "pygments_lexer": "ipython3",
   "version": "3.10.14"
  }
 },
 "nbformat": 4,
 "nbformat_minor": 4
}
