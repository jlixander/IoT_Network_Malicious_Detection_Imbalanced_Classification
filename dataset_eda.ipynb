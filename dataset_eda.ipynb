{
 "cells": [
  {
   "cell_type": "markdown",
   "id": "cbca1332-5a90-42c3-a8d3-8fe92ef43aae",
   "metadata": {},
   "source": [
    "# I - Import Libraries"
   ]
  },
  {
   "cell_type": "code",
   "execution_count": 1,
   "id": "74e68a3b-eba4-49a9-b754-bb5de98c785a",
   "metadata": {},
   "outputs": [],
   "source": [
    "import pandas as pd\n",
    "import numpy as np\n",
    "import cupy as cp\n",
    "import math\n",
    "import time"
   ]
  },
  {
   "cell_type": "code",
   "execution_count": 2,
   "id": "9e82ad1c-3e7e-44a4-94df-8d3aa3e03ed8",
   "metadata": {},
   "outputs": [
    {
     "data": {
      "text/plain": [
       "0"
      ]
     },
     "execution_count": 2,
     "metadata": {},
     "output_type": "execute_result"
    }
   ],
   "source": [
    "# Clear GPU Memory\n",
    "import gc\n",
    "import torch\n",
    "torch.cuda.empty_cache()\n",
    "gc.collect()"
   ]
  },
  {
   "cell_type": "code",
   "execution_count": 3,
   "id": "12e03925-b962-4113-a81c-32869e210e18",
   "metadata": {},
   "outputs": [
    {
     "name": "stdout",
     "output_type": "stream",
     "text": [
      "[(0, _CudaDeviceProperties(name='NVIDIA GeForce RTX 2060 SUPER', major=7, minor=5, total_memory=7974MB, multi_processor_count=34))]\n"
     ]
    }
   ],
   "source": [
    "#Show GPU list\n",
    "print([(i, torch.cuda.get_device_properties(i)) for i in range(torch.cuda.device_count())])"
   ]
  },
  {
   "cell_type": "markdown",
   "id": "4aa912d5-d002-46c9-9e92-94be4e231266",
   "metadata": {},
   "source": [
    "# II - Load Dataset"
   ]
  },
  {
   "cell_type": "code",
   "execution_count": 4,
   "id": "2eb84d49-48ad-4615-9f7f-8b30f1947ad0",
   "metadata": {},
   "outputs": [],
   "source": [
    "# Load the CSV file\n",
    "df = pd.read_csv(r\"../../capstone_data/archive/combined_file.csv\", low_memory=False)\n",
    "#df= df.sample(frac=0.90, random_state=40) #sample a percent as needed"
   ]
  },
  {
   "cell_type": "markdown",
   "id": "8efa51d9-af96-4afb-9c92-5068e86a708c",
   "metadata": {},
   "source": [
    "# III - Data Preprocessing\n",
    "### A. Drop Columns"
   ]
  },
  {
   "cell_type": "code",
   "execution_count": 5,
   "id": "49aa3e20-25e9-4d2b-ba05-a84c66982ad5",
   "metadata": {},
   "outputs": [],
   "source": [
    "# Drop specified columns\n",
    "columns_to_drop = ['detailed-label', \n",
    "                   'uid', 'service', \n",
    "                   'tunnel_parents', \n",
    "                   'local_resp', \n",
    "                   'local_orig', \n",
    "                   'missed_bytes']\n",
    "df = df.drop(columns=columns_to_drop)"
   ]
  },
  {
   "cell_type": "markdown",
   "id": "c63557e8-38c7-4e1f-bcde-9fad8a96ee13",
   "metadata": {},
   "source": [
    "### B. Fix Null Values"
   ]
  },
  {
   "cell_type": "code",
   "execution_count": 6,
   "id": "1ecc2002-9831-4df3-aef0-1c7c6b16c120",
   "metadata": {},
   "outputs": [],
   "source": [
    "# Replace '-' with '0' in specific numeric columns\n",
    "columns_to_zero = ['duration', 'orig_bytes', 'resp_bytes']\n",
    "for col in columns_to_zero:\n",
    "    df[col] = df[col].replace('-', '0')\n",
    "\n",
    "# Replace '-' with 'Unk' in 'history' col\n",
    "df['history'] = df['history'].replace('-', 'Unk')\n",
    "\n",
    "# Identifiy list of numerical features in a list and coerce to numeric type\n",
    "numeric_columns = ['duration', \n",
    "                   'orig_bytes', \n",
    "                   'resp_bytes', \n",
    "                   'orig_pkts', \n",
    "                   'resp_pkts', \n",
    "                   'orig_ip_bytes', \n",
    "                   'resp_ip_bytes']\n",
    "for col in numeric_columns:\n",
    "    df[col] = pd.to_numeric(df[col])\n",
    "\n"
   ]
  },
  {
   "cell_type": "markdown",
   "id": "c3c78c3e-0caf-414a-917d-206d4e0e5c7c",
   "metadata": {},
   "source": [
    "### C. Discretize TimeStamp Col to hourly"
   ]
  },
  {
   "cell_type": "code",
   "execution_count": 7,
   "id": "46778c9d-8488-4578-9620-f0825b6729f3",
   "metadata": {},
   "outputs": [],
   "source": [
    "# Convert 'ts' to hour of the day\n",
    "df['hour'] = pd.to_datetime(df['ts'], unit='s').dt.hour\n",
    "df = df.drop(columns=['ts'])"
   ]
  },
  {
   "cell_type": "markdown",
   "id": "0dfefb87-73e9-4ff7-a811-c6533bb51de1",
   "metadata": {},
   "source": [
    "### D. Convert Target Variable to Binary"
   ]
  },
  {
   "cell_type": "code",
   "execution_count": 8,
   "id": "47756feb-6112-4b38-ad77-55751f457c24",
   "metadata": {},
   "outputs": [],
   "source": [
    "#Reclasify 'label' to binary. As 'Benign' for benign observations, \"Malicious\" for all others.\n",
    "df['label'] = df['label'].str.contains('Malicious').astype(int)"
   ]
  },
  {
   "cell_type": "markdown",
   "id": "d221a7d5-bcab-4517-8705-f076d92c4aa9",
   "metadata": {},
   "source": [
    "### E. Fix Class Imbalance\n",
    "#### E1. Undersampling"
   ]
  },
  {
   "cell_type": "code",
   "execution_count": 9,
   "id": "74a9a38e-05ee-483f-8fba-343eab1df2fe",
   "metadata": {},
   "outputs": [],
   "source": [
    "#Balance the dataset by undersampling the majority class (Malicious Type)\n",
    "df_majority = df[df['label']==1]\n",
    "df_minority = df[df['label']==0]\n",
    "from sklearn.utils import resample,shuffle\n",
    "df_majority_undersampled = resample(df_majority, #undersample majority class\n",
    "                                    replace=False,    # sample without replacement\n",
    "                                    n_samples=len(df_minority),  # to match minority class\n",
    "                                    random_state=40) # reproducible results\n",
    "df = pd.concat([df_majority_undersampled, df_minority]) #combine classes"
   ]
  },
  {
   "cell_type": "markdown",
   "id": "e6f45b13-9a93-4df6-81b4-3da579cb8df5",
   "metadata": {},
   "source": [
    "#### E2. SMOTE"
   ]
  },
  {
   "cell_type": "code",
   "execution_count": null,
   "id": "b6407f53-4df2-4a5e-9d73-68c1fe923803",
   "metadata": {},
   "outputs": [],
   "source": []
  },
  {
   "cell_type": "code",
   "execution_count": null,
   "id": "37796611-7989-4d0a-af9d-18d0f5ee53f0",
   "metadata": {},
   "outputs": [],
   "source": []
  },
  {
   "cell_type": "code",
   "execution_count": null,
   "id": "a089e964-1672-4520-bebf-5090be5f45c4",
   "metadata": {},
   "outputs": [],
   "source": []
  },
  {
   "cell_type": "markdown",
   "id": "9ae30171-8533-4c45-bec8-e0b9fb7659a0",
   "metadata": {},
   "source": [
    "### Verify Transformations"
   ]
  },
  {
   "cell_type": "code",
   "execution_count": 10,
   "id": "c8f30d66-40e2-4054-8f82-73aa9b7c6007",
   "metadata": {},
   "outputs": [
    {
     "data": {
      "text/html": [
       "<div>\n",
       "<style scoped>\n",
       "    .dataframe tbody tr th:only-of-type {\n",
       "        vertical-align: middle;\n",
       "    }\n",
       "\n",
       "    .dataframe tbody tr th {\n",
       "        vertical-align: top;\n",
       "    }\n",
       "\n",
       "    .dataframe thead th {\n",
       "        text-align: right;\n",
       "    }\n",
       "</style>\n",
       "<table border=\"1\" class=\"dataframe\">\n",
       "  <thead>\n",
       "    <tr style=\"text-align: right;\">\n",
       "      <th></th>\n",
       "      <th>id.orig_h</th>\n",
       "      <th>id.orig_p</th>\n",
       "      <th>id.resp_h</th>\n",
       "      <th>id.resp_p</th>\n",
       "      <th>proto</th>\n",
       "      <th>duration</th>\n",
       "      <th>orig_bytes</th>\n",
       "      <th>resp_bytes</th>\n",
       "      <th>conn_state</th>\n",
       "      <th>history</th>\n",
       "      <th>orig_pkts</th>\n",
       "      <th>orig_ip_bytes</th>\n",
       "      <th>resp_pkts</th>\n",
       "      <th>resp_ip_bytes</th>\n",
       "      <th>label</th>\n",
       "      <th>hour</th>\n",
       "    </tr>\n",
       "  </thead>\n",
       "  <tbody>\n",
       "    <tr>\n",
       "      <th>20727743</th>\n",
       "      <td>192.168.100.111</td>\n",
       "      <td>56407.0</td>\n",
       "      <td>181.53.62.185</td>\n",
       "      <td>23.0</td>\n",
       "      <td>tcp</td>\n",
       "      <td>0.000000</td>\n",
       "      <td>0</td>\n",
       "      <td>0</td>\n",
       "      <td>S0</td>\n",
       "      <td>S</td>\n",
       "      <td>1.0</td>\n",
       "      <td>40.0</td>\n",
       "      <td>0.0</td>\n",
       "      <td>0.0</td>\n",
       "      <td>1</td>\n",
       "      <td>19</td>\n",
       "    </tr>\n",
       "    <tr>\n",
       "      <th>5932810</th>\n",
       "      <td>192.168.1.196</td>\n",
       "      <td>29446.0</td>\n",
       "      <td>209.97.190.136</td>\n",
       "      <td>80.0</td>\n",
       "      <td>tcp</td>\n",
       "      <td>2.114547</td>\n",
       "      <td>0</td>\n",
       "      <td>0</td>\n",
       "      <td>RSTOS0</td>\n",
       "      <td>I</td>\n",
       "      <td>2.0</td>\n",
       "      <td>80.0</td>\n",
       "      <td>0.0</td>\n",
       "      <td>0.0</td>\n",
       "      <td>1</td>\n",
       "      <td>4</td>\n",
       "    </tr>\n",
       "    <tr>\n",
       "      <th>16371171</th>\n",
       "      <td>192.168.1.195</td>\n",
       "      <td>6944.0</td>\n",
       "      <td>162.248.88.215</td>\n",
       "      <td>62336.0</td>\n",
       "      <td>tcp</td>\n",
       "      <td>0.000000</td>\n",
       "      <td>0</td>\n",
       "      <td>0</td>\n",
       "      <td>OTH</td>\n",
       "      <td>C</td>\n",
       "      <td>0.0</td>\n",
       "      <td>0.0</td>\n",
       "      <td>0.0</td>\n",
       "      <td>0.0</td>\n",
       "      <td>1</td>\n",
       "      <td>22</td>\n",
       "    </tr>\n",
       "    <tr>\n",
       "      <th>24291095</th>\n",
       "      <td>192.168.100.111</td>\n",
       "      <td>9418.0</td>\n",
       "      <td>208.66.190.248</td>\n",
       "      <td>81.0</td>\n",
       "      <td>tcp</td>\n",
       "      <td>0.000000</td>\n",
       "      <td>0</td>\n",
       "      <td>0</td>\n",
       "      <td>S0</td>\n",
       "      <td>S</td>\n",
       "      <td>1.0</td>\n",
       "      <td>40.0</td>\n",
       "      <td>0.0</td>\n",
       "      <td>0.0</td>\n",
       "      <td>1</td>\n",
       "      <td>6</td>\n",
       "    </tr>\n",
       "    <tr>\n",
       "      <th>17642410</th>\n",
       "      <td>192.168.1.195</td>\n",
       "      <td>26749.0</td>\n",
       "      <td>162.248.88.215</td>\n",
       "      <td>62336.0</td>\n",
       "      <td>tcp</td>\n",
       "      <td>0.000000</td>\n",
       "      <td>0</td>\n",
       "      <td>0</td>\n",
       "      <td>OTH</td>\n",
       "      <td>C</td>\n",
       "      <td>0.0</td>\n",
       "      <td>0.0</td>\n",
       "      <td>0.0</td>\n",
       "      <td>0.0</td>\n",
       "      <td>1</td>\n",
       "      <td>22</td>\n",
       "    </tr>\n",
       "  </tbody>\n",
       "</table>\n",
       "</div>"
      ],
      "text/plain": [
       "                id.orig_h  id.orig_p       id.resp_h  id.resp_p proto  \\\n",
       "20727743  192.168.100.111    56407.0   181.53.62.185       23.0   tcp   \n",
       "5932810     192.168.1.196    29446.0  209.97.190.136       80.0   tcp   \n",
       "16371171    192.168.1.195     6944.0  162.248.88.215    62336.0   tcp   \n",
       "24291095  192.168.100.111     9418.0  208.66.190.248       81.0   tcp   \n",
       "17642410    192.168.1.195    26749.0  162.248.88.215    62336.0   tcp   \n",
       "\n",
       "          duration  orig_bytes  resp_bytes conn_state history  orig_pkts  \\\n",
       "20727743  0.000000           0           0         S0       S        1.0   \n",
       "5932810   2.114547           0           0     RSTOS0       I        2.0   \n",
       "16371171  0.000000           0           0        OTH       C        0.0   \n",
       "24291095  0.000000           0           0         S0       S        1.0   \n",
       "17642410  0.000000           0           0        OTH       C        0.0   \n",
       "\n",
       "          orig_ip_bytes  resp_pkts  resp_ip_bytes  label  hour  \n",
       "20727743           40.0        0.0            0.0      1    19  \n",
       "5932810            80.0        0.0            0.0      1     4  \n",
       "16371171            0.0        0.0            0.0      1    22  \n",
       "24291095           40.0        0.0            0.0      1     6  \n",
       "17642410            0.0        0.0            0.0      1    22  "
      ]
     },
     "execution_count": 10,
     "metadata": {},
     "output_type": "execute_result"
    }
   ],
   "source": [
    "# Show the first few rows to verify the transformations\n",
    "df.head()"
   ]
  },
  {
   "cell_type": "code",
   "execution_count": 11,
   "id": "107dcc53-b6a5-4e88-925f-577c349de202",
   "metadata": {},
   "outputs": [
    {
     "data": {
      "text/plain": [
       "8913785"
      ]
     },
     "execution_count": 11,
     "metadata": {},
     "output_type": "execute_result"
    }
   ],
   "source": [
    "len(df['id.resp_h'].unique())"
   ]
  },
  {
   "cell_type": "markdown",
   "id": "6c6ce031-4667-483c-875e-af39d500de32",
   "metadata": {},
   "source": [
    "### F. Label-Encode or One-hot-Encode categorical Columns\n",
    "#### F1. Label Encoding"
   ]
  },
  {
   "cell_type": "code",
   "execution_count": 12,
   "id": "94a551bf-be5f-44b8-94a0-76fdadeab777",
   "metadata": {},
   "outputs": [],
   "source": [
    "from sklearn.preprocessing import LabelEncoder\n",
    "\n",
    "le = LabelEncoder() #initialize sklearn encoder\n",
    "df['label'] = le.fit_transform(df['label'])"
   ]
  },
  {
   "cell_type": "markdown",
   "id": "70cad36f-324f-4e2c-a606-0168a0841686",
   "metadata": {},
   "source": [
    "#### F2. One-Hot-Encoding\n",
    "OHE - Could not be used to due excessive memory allocation\n",
    "Dummy encoding - Could not be used to due excessive memory allocation\n",
    "Label-Encoder - Being used due to its memory efficient ability. However, cannot be used with algorithms that interpret integers as having a meaningful order or magnitude. (Logistic Reg/Neural Network/SVM/KNN/Hierarchical Clustering/PCA/"
   ]
  },
  {
   "cell_type": "code",
   "execution_count": 13,
   "id": "c341ecb9-2769-4ff3-81da-614dab602568",
   "metadata": {},
   "outputs": [],
   "source": [
    "from sklearn.preprocessing import OneHotEncoder #yielded shape: (15804762, 8605399) 980TB\n",
    "#pd.get_dummies needs 285GB. \n",
    "\n",
    "\n",
    "categorical_columns = ['id.orig_h',\n",
    "                       'id.orig_p', \n",
    "                       'id.resp_h', \n",
    "                       'id.resp_p', \n",
    "                       'proto', \n",
    "                       'conn_state', \n",
    "                       'history']\n",
    "\n",
    "# encoder = OneHotEncoder(sparse_output=False)\n",
    "# encoded_data = encoder.fit_transform(df[categorical_columns])\n",
    "# encoded_df = pd.DataFrame(encoded_data, columns=encoder.get_feature_names_out(categorical_columns))\n",
    "# df_final = pd.concat([df.drop(categorical_cols, axis=1), encoded_df], axis=1)\n",
    "\n",
    "#df = pd.get_dummies(df, columns = categorical_columns)\n",
    "\n",
    "\n",
    "# from sklearn.feature_extraction import FeatureHasher\n",
    "# import scipy.sparse as sp\n",
    "# hasher = FeatureHasher(n_features=50, input_type='string')\n",
    "# # Hash each categorical column\n",
    "# hashed_features = []\n",
    "# for column in categorical_columns:\n",
    "#     hashed_feature = hasher.transform(df[column].astype(str))\n",
    "#     hashed_features.append(hashed_feature)\n",
    "# # Combine the hashed features horizontally\n",
    "# combined_features = sp.hstack(hashed_features, format='csr')\n",
    "# # Now `combined_features` is a sparse matrix representation of your dataset's categorical features\n",
    "# print(combined_features.shape)\n",
    "# print(combined_features.toarray())\n",
    "\n",
    "#Use Label encoder for now:\n",
    "le = LabelEncoder()\n",
    "for column in categorical_columns:\n",
    "    df[column + '_encoded'] = le.fit_transform(df[column])\n",
    "    df = df.drop(column,axis=1)"
   ]
  },
  {
   "cell_type": "code",
   "execution_count": 14,
   "id": "f085dd40-a5c9-4ead-b5dc-d38134dc07c2",
   "metadata": {},
   "outputs": [
    {
     "data": {
      "text/html": [
       "<div>\n",
       "<style scoped>\n",
       "    .dataframe tbody tr th:only-of-type {\n",
       "        vertical-align: middle;\n",
       "    }\n",
       "\n",
       "    .dataframe tbody tr th {\n",
       "        vertical-align: top;\n",
       "    }\n",
       "\n",
       "    .dataframe thead th {\n",
       "        text-align: right;\n",
       "    }\n",
       "</style>\n",
       "<table border=\"1\" class=\"dataframe\">\n",
       "  <thead>\n",
       "    <tr style=\"text-align: right;\">\n",
       "      <th></th>\n",
       "      <th>duration</th>\n",
       "      <th>orig_bytes</th>\n",
       "      <th>resp_bytes</th>\n",
       "      <th>orig_pkts</th>\n",
       "      <th>orig_ip_bytes</th>\n",
       "      <th>resp_pkts</th>\n",
       "      <th>resp_ip_bytes</th>\n",
       "      <th>label</th>\n",
       "      <th>hour</th>\n",
       "      <th>id.orig_h_encoded</th>\n",
       "      <th>id.orig_p_encoded</th>\n",
       "      <th>id.resp_h_encoded</th>\n",
       "      <th>id.resp_p_encoded</th>\n",
       "      <th>proto_encoded</th>\n",
       "      <th>conn_state_encoded</th>\n",
       "      <th>history_encoded</th>\n",
       "    </tr>\n",
       "  </thead>\n",
       "  <tbody>\n",
       "    <tr>\n",
       "      <th>20727743</th>\n",
       "      <td>0.000000</td>\n",
       "      <td>0</td>\n",
       "      <td>0</td>\n",
       "      <td>1.0</td>\n",
       "      <td>40.0</td>\n",
       "      <td>0.0</td>\n",
       "      <td>0.0</td>\n",
       "      <td>1</td>\n",
       "      <td>19</td>\n",
       "      <td>8940</td>\n",
       "      <td>56407</td>\n",
       "      <td>4286499</td>\n",
       "      <td>23</td>\n",
       "      <td>1</td>\n",
       "      <td>6</td>\n",
       "      <td>40</td>\n",
       "    </tr>\n",
       "    <tr>\n",
       "      <th>5932810</th>\n",
       "      <td>2.114547</td>\n",
       "      <td>0</td>\n",
       "      <td>0</td>\n",
       "      <td>2.0</td>\n",
       "      <td>80.0</td>\n",
       "      <td>0.0</td>\n",
       "      <td>0.0</td>\n",
       "      <td>1</td>\n",
       "      <td>4</td>\n",
       "      <td>8933</td>\n",
       "      <td>29446</td>\n",
       "      <td>5578569</td>\n",
       "      <td>79</td>\n",
       "      <td>1</td>\n",
       "      <td>3</td>\n",
       "      <td>38</td>\n",
       "    </tr>\n",
       "    <tr>\n",
       "      <th>16371171</th>\n",
       "      <td>0.000000</td>\n",
       "      <td>0</td>\n",
       "      <td>0</td>\n",
       "      <td>0.0</td>\n",
       "      <td>0.0</td>\n",
       "      <td>0.0</td>\n",
       "      <td>0.0</td>\n",
       "      <td>1</td>\n",
       "      <td>22</td>\n",
       "      <td>8932</td>\n",
       "      <td>6944</td>\n",
       "      <td>3303093</td>\n",
       "      <td>62237</td>\n",
       "      <td>1</td>\n",
       "      <td>0</td>\n",
       "      <td>2</td>\n",
       "    </tr>\n",
       "    <tr>\n",
       "      <th>24291095</th>\n",
       "      <td>0.000000</td>\n",
       "      <td>0</td>\n",
       "      <td>0</td>\n",
       "      <td>1.0</td>\n",
       "      <td>40.0</td>\n",
       "      <td>0.0</td>\n",
       "      <td>0.0</td>\n",
       "      <td>1</td>\n",
       "      <td>6</td>\n",
       "      <td>8940</td>\n",
       "      <td>9418</td>\n",
       "      <td>5535325</td>\n",
       "      <td>80</td>\n",
       "      <td>1</td>\n",
       "      <td>6</td>\n",
       "      <td>40</td>\n",
       "    </tr>\n",
       "    <tr>\n",
       "      <th>17642410</th>\n",
       "      <td>0.000000</td>\n",
       "      <td>0</td>\n",
       "      <td>0</td>\n",
       "      <td>0.0</td>\n",
       "      <td>0.0</td>\n",
       "      <td>0.0</td>\n",
       "      <td>0.0</td>\n",
       "      <td>1</td>\n",
       "      <td>22</td>\n",
       "      <td>8932</td>\n",
       "      <td>26749</td>\n",
       "      <td>3303093</td>\n",
       "      <td>62237</td>\n",
       "      <td>1</td>\n",
       "      <td>0</td>\n",
       "      <td>2</td>\n",
       "    </tr>\n",
       "  </tbody>\n",
       "</table>\n",
       "</div>"
      ],
      "text/plain": [
       "          duration  orig_bytes  resp_bytes  orig_pkts  orig_ip_bytes  \\\n",
       "20727743  0.000000           0           0        1.0           40.0   \n",
       "5932810   2.114547           0           0        2.0           80.0   \n",
       "16371171  0.000000           0           0        0.0            0.0   \n",
       "24291095  0.000000           0           0        1.0           40.0   \n",
       "17642410  0.000000           0           0        0.0            0.0   \n",
       "\n",
       "          resp_pkts  resp_ip_bytes  label  hour  id.orig_h_encoded  \\\n",
       "20727743        0.0            0.0      1    19               8940   \n",
       "5932810         0.0            0.0      1     4               8933   \n",
       "16371171        0.0            0.0      1    22               8932   \n",
       "24291095        0.0            0.0      1     6               8940   \n",
       "17642410        0.0            0.0      1    22               8932   \n",
       "\n",
       "          id.orig_p_encoded  id.resp_h_encoded  id.resp_p_encoded  \\\n",
       "20727743              56407            4286499                 23   \n",
       "5932810               29446            5578569                 79   \n",
       "16371171               6944            3303093              62237   \n",
       "24291095               9418            5535325                 80   \n",
       "17642410              26749            3303093              62237   \n",
       "\n",
       "          proto_encoded  conn_state_encoded  history_encoded  \n",
       "20727743              1                   6               40  \n",
       "5932810               1                   3               38  \n",
       "16371171              1                   0                2  \n",
       "24291095              1                   6               40  \n",
       "17642410              1                   0                2  "
      ]
     },
     "execution_count": 14,
     "metadata": {},
     "output_type": "execute_result"
    }
   ],
   "source": [
    "df.head()"
   ]
  },
  {
   "cell_type": "code",
   "execution_count": 16,
   "id": "5bf0fccc-fd7c-4b20-84e9-665bf7658fee",
   "metadata": {},
   "outputs": [],
   "source": [
    "## save dataset\n",
    "df.to_csv(r\"../../capstone_data/archive/compiled_clean_data_unscaled_numerics_and_labelencondedcats.csv\", index=False)"
   ]
  },
  {
   "cell_type": "markdown",
   "id": "0baa68be-9464-42e5-b692-4e7479e8bef6",
   "metadata": {},
   "source": [
    "### G. Scale Numerical Columns"
   ]
  },
  {
   "cell_type": "code",
   "execution_count": null,
   "id": "101832c0-d8de-4fa6-bde2-f0acf5d6ad93",
   "metadata": {},
   "outputs": [],
   "source": [
    "from scipy.stats import gaussian_kde\n",
    "import matplotlib.pyplot as plt\n",
    "import numpy as np\n",
    "import time\n",
    "\n",
    "\n",
    "# Histogram\n",
    "counts, bins, patches = plt.hist(df['duration'], density=True, edgecolor='black', alpha=0.5)\n",
    "\n",
    "# KDE\n",
    "kde = gaussian_kde(df['duration'])\n",
    "kde_x = np.linspace(bins.min(), bins.max(), 300)\n",
    "kde_y = kde(kde_x)\n",
    "plt.plot(kde_x, kde_y, color='red')  # KDE line in red for visibility\n",
    "\n",
    "# Adding titles and labels\n",
    "plt.title('Histogram of duration')\n",
    "plt.xlabel('Duration')\n",
    "plt.ylabel('Frequency')\n",
    "\n",
    "# Show the plot\n",
    "plt.show()\n",
    "\n",
    "# Save the figure with high dpi\n",
    "plt.savefig('duration_histogram.png', dpi=300)"
   ]
  },
  {
   "cell_type": "code",
   "execution_count": null,
   "id": "501bc959-4fcb-4113-9121-50e5d0fee70f",
   "metadata": {},
   "outputs": [],
   "source": [
    "import seaborn as sns\n",
    "\n",
    "sns.histplot(df['orig_bytes'], kde=True)\n",
    "plt.title('Histogram of orig_bytes')\n",
    "plt.xlabel('orig_bytes')\n",
    "plt.ylabel('Frequency')\n",
    "plt.show()\n",
    "\n",
    "plt.savefig('orig_bytes_histogram.png', dpi=300)"
   ]
  },
  {
   "cell_type": "code",
   "execution_count": null,
   "id": "9ef8bcb3-7c7c-483e-90ab-801f071ce112",
   "metadata": {},
   "outputs": [],
   "source": [
    "sns.histplot(df['resp_bytes'], kde=True)\n",
    "plt.title('Histogram of resp_bytes')\n",
    "plt.xlabel('resp_bytes')\n",
    "plt.ylabel('Frequency')\n",
    "plt.show()\n",
    "\n",
    "plt.savefig('resp_bytes_histogram.png', dpi=300)"
   ]
  },
  {
   "cell_type": "code",
   "execution_count": null,
   "id": "c3f3115e-bc75-459a-8b30-8c650f31f3f6",
   "metadata": {},
   "outputs": [],
   "source": [
    "import seaborn as sns\n",
    "sns.histplot(df['orig_pkts'], kde=True)\n",
    "plt.title('Histogram of orig_pkts')\n",
    "plt.xlabel('orig_pkts')\n",
    "plt.ylabel('Frequency')\n",
    "plt.show()\n",
    "\n",
    "plt.savefig('orig_pkts_histogram.png', dpi=300)"
   ]
  },
  {
   "cell_type": "code",
   "execution_count": null,
   "id": "b346efda-1480-4148-b8a0-83091fe75dbf",
   "metadata": {},
   "outputs": [],
   "source": [
    "sns.histplot(df['resp_pkts'], kde=True)\n",
    "plt.title('Histogram of resp_pkts')\n",
    "plt.xlabel('resp_pkts')\n",
    "plt.ylabel('Frequency')\n",
    "plt.show()\n",
    "\n",
    "plt.savefig('resp_pkts_histogram.png', dpi=300)"
   ]
  },
  {
   "cell_type": "code",
   "execution_count": null,
   "id": "b5cdaf0f-ce76-48ae-82cd-b6ac3d45002a",
   "metadata": {},
   "outputs": [],
   "source": [
    "sns.histplot(df['orig_ip_bytes'], kde=True)\n",
    "plt.title('Histogram of orig_ip_bytes')\n",
    "plt.xlabel('orig_ip_bytes')\n",
    "plt.ylabel('Frequency')\n",
    "plt.show()\n",
    "\n",
    "plt.savefig('orig_ip_bytes_histogram.png', dpi=300)"
   ]
  },
  {
   "cell_type": "code",
   "execution_count": null,
   "id": "e5fad752-d424-4b7c-81f7-0e06505e2b98",
   "metadata": {},
   "outputs": [],
   "source": [
    "sns.histplot(df['resp_ip_bytes'], kde=True)\n",
    "plt.title('Histogram of resp_ip_bytes')\n",
    "plt.xlabel('resp_ip_bytes')\n",
    "plt.ylabel('Frequency')\n",
    "plt.show()\n",
    "\n",
    "plt.savefig('resp_ip_bytes_histogram.png', dpi=300)"
   ]
  },
  {
   "cell_type": "code",
   "execution_count": null,
   "id": "a56e3bae-7b86-4565-9e9b-7b1fe049880f",
   "metadata": {},
   "outputs": [],
   "source": [
    "gdf = cudf.from_pandas(df)"
   ]
  },
  {
   "cell_type": "markdown",
   "id": "f398bd58-8bc6-4121-aa4d-65110f8b127f",
   "metadata": {},
   "source": [
    "# Transfer SMOTE Code HERE\n",
    "### Data Without Scaling\n",
    "\n",
    "SMOTE balances classes"
   ]
  },
  {
   "cell_type": "code",
   "execution_count": null,
   "id": "ab20b9bc-83f0-4058-9c9c-605e98dcb4e0",
   "metadata": {},
   "outputs": [],
   "source": [
    "%%time\n",
    "\n",
    "#Using SMOTE: takes 41mins to run on CPU\n",
    "from imblearn.over_sampling import SMOTE\n",
    "from imblearn.over_sampling import RandomOverSampler\n",
    "\n",
    "# ros = RandomOverSampler(random_state=seed)\n",
    "# X, y = ros.fit_resample(X, y)\n",
    "\n",
    "\n",
    "# #execute smote\n",
    "# smote = SMOTE(random_state=seed)\n",
    "# x_train_pd, y_train_pd = smote.fit_resample(X_train.to_pandas(),\n",
    "#                           y_train.to_pandas())\n",
    "\n",
    "\n",
    "# #convert back to cudf\n",
    "# X_train = cudf.DataFrame.from_pandas(pd.DataFrame(x_train_pd, columns=X_train.columns))\n",
    "# y_train = cudf.Series(y_train_pd)\n",
    "\n",
    "\n",
    "#save smote dataset as parquet\n",
    "# x_train_pd.to_parquet(r\"../../capstone_data/archive/SMOTE_train_test_split/X_train_smote.parquet\", compression='snappy')\n",
    "# y_train_df = pd.DataFrame(y_train_pd)\n",
    "# y_train_df.to_parquet(r\"../../capstone_data/archive/SMOTE_train_test_split/y_train_smote.parquet\", compression='snappy')\n",
    "# X_test.to_parquet(r\"../../capstone_data/archive/SMOTE_train_test_split/X_test_smote.parquet\", compression='snappy')\n",
    "# y_test.to_parquet(r\"../../capstone_data/archive/SMOTE_train_test_split/y_test_smote.parquet\", compression='snappy')"
   ]
  },
  {
   "cell_type": "markdown",
   "id": "af1ab6eb-b471-4845-b154-cdd03a9817dd",
   "metadata": {},
   "source": [
    "### Data With Scaling"
   ]
  },
  {
   "cell_type": "code",
   "execution_count": null,
   "id": "6a4fc285-252a-4921-8cf0-8148a4065e26",
   "metadata": {},
   "outputs": [],
   "source": []
  }
 ],
 "metadata": {
  "kernelspec": {
   "display_name": "Python 3 (ipykernel)",
   "language": "python",
   "name": "python3"
  },
  "language_info": {
   "codemirror_mode": {
    "name": "ipython",
    "version": 3
   },
   "file_extension": ".py",
   "mimetype": "text/x-python",
   "name": "python",
   "nbconvert_exporter": "python",
   "pygments_lexer": "ipython3",
   "version": "3.10.14"
  }
 },
 "nbformat": 4,
 "nbformat_minor": 5
}
