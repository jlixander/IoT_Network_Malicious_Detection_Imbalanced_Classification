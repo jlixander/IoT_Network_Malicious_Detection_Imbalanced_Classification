{
 "cells": [
  {
   "cell_type": "markdown",
   "metadata": {},
   "source": [
    "# Prepare Environment\n",
    "### Load Libraries and dependencies"
   ]
  },
  {
   "cell_type": "code",
   "execution_count": 4,
   "metadata": {
    "colab": {
     "base_uri": "https://localhost:8080/",
     "height": 35
    },
    "id": "4nLrk46BllED",
    "outputId": "52ee4841-1bb7-4369-f318-8743bd31f3d3"
   },
   "outputs": [
    {
     "data": {
      "text/plain": [
       "'24.02.02'"
      ]
     },
     "execution_count": 4,
     "metadata": {},
     "output_type": "execute_result"
    }
   ],
   "source": [
    "import cudf\n",
    "cudf.__version__"
   ]
  },
  {
   "cell_type": "code",
   "execution_count": 5,
   "metadata": {
    "colab": {
     "base_uri": "https://localhost:8080/",
     "height": 35
    },
    "id": "xgAFgI15ddf6",
    "outputId": "1be5e016-8e53-4144-c539-b33138efefef"
   },
   "outputs": [
    {
     "data": {
      "text/plain": [
       "'24.02.00'"
      ]
     },
     "execution_count": 5,
     "metadata": {},
     "output_type": "execute_result"
    }
   ],
   "source": [
    "import cuml\n",
    "cuml.__version__"
   ]
  },
  {
   "cell_type": "code",
   "execution_count": 46,
   "metadata": {
    "id": "4B5c6qNqwDjx"
   },
   "outputs": [],
   "source": [
    "import numpy as np\n",
    "import cupy as cp\n",
    "import matplotlib.pyplot as plt\n",
    "import seaborn as sns\n",
    "import os\n",
    "import torch\n",
    "import pickle\n",
    "\n",
    "#import dask_ml.model_selection as dcv\n",
    "from sklearn.model_selection import GridSearchCV\n",
    "from dask.distributed import Client, wait\n",
    "from dask_cuda import LocalCUDACluster\n",
    "\n",
    "from sklearn import datasets\n",
    "from sklearn.metrics import make_scorer, precision_score, recall_score, f1_score, roc_curve, confusion_matrix, auc\n",
    "from cuml.ensemble import RandomForestClassifier as cuRandomForestClassifier\n",
    "from cuml.model_selection import train_test_split\n",
    "from cuml.metrics.accuracy import accuracy_score\n",
    "\n",
    "import time\n",
    "from contextlib import contextmanager"
   ]
  },
  {
   "cell_type": "code",
   "execution_count": 1,
   "metadata": {},
   "outputs": [
    {
     "data": {
      "text/plain": [
       "'1.5.3'"
      ]
     },
     "execution_count": 1,
     "metadata": {},
     "output_type": "execute_result"
    }
   ],
   "source": [
    "import pandas\n",
    "pandas.__version__"
   ]
  },
  {
   "cell_type": "code",
   "execution_count": 2,
   "metadata": {},
   "outputs": [
    {
     "data": {
      "text/plain": [
       "'1.4.1.post1'"
      ]
     },
     "execution_count": 2,
     "metadata": {},
     "output_type": "execute_result"
    }
   ],
   "source": [
    "import sklearn\n",
    "sklearn.__version__"
   ]
  },
  {
   "cell_type": "markdown",
   "metadata": {},
   "source": [
    "### Create Timer Function"
   ]
  },
  {
   "cell_type": "code",
   "execution_count": null,
   "metadata": {},
   "outputs": [],
   "source": [
    "# Helping time blocks of code\n",
    "@contextmanager\n",
    "def timed(txt):\n",
    "    t0 = time.time()\n",
    "    yield\n",
    "    t1 = time.time()\n",
    "    print(\"%32s time:  %8.5f\" % (txt, t1 - t0))"
   ]
  },
  {
   "cell_type": "code",
   "execution_count": null,
   "metadata": {},
   "outputs": [],
   "source": [
    "#set global seed var\n",
    "seed =40"
   ]
  },
  {
   "cell_type": "markdown",
   "metadata": {},
   "source": [
    "### Silence Warning Prints"
   ]
  },
  {
   "cell_type": "code",
   "execution_count": 19,
   "metadata": {},
   "outputs": [],
   "source": [
    "import warnings\n",
    "warnings.filterwarnings(\"ignore\")  # Reduce number of messages/warnings displayed"
   ]
  },
  {
   "cell_type": "markdown",
   "metadata": {
    "colab": {
     "base_uri": "https://localhost:8080/"
    },
    "id": "0-Iu-ZJxpi5n",
    "outputId": "8009d0b6-3899-4d64-cd02-b3276e9c5543"
   },
   "source": [
    "# Set GPU memory when restarting kernel"
   ]
  },
  {
   "cell_type": "code",
   "execution_count": 5,
   "metadata": {},
   "outputs": [
    {
     "name": "stdout",
     "output_type": "stream",
     "text": [
      "Fri Apr 26 02:59:39 2024       \n",
      "+---------------------------------------------------------------------------------------+\n",
      "| NVIDIA-SMI 535.171.04             Driver Version: 535.171.04   CUDA Version: 12.2     |\n",
      "|-----------------------------------------+----------------------+----------------------+\n",
      "| GPU  Name                 Persistence-M | Bus-Id        Disp.A | Volatile Uncorr. ECC |\n",
      "| Fan  Temp   Perf          Pwr:Usage/Cap |         Memory-Usage | GPU-Util  Compute M. |\n",
      "|                                         |                      |               MIG M. |\n",
      "|=========================================+======================+======================|\n",
      "|   0  NVIDIA GeForce RTX 3090        Off | 00000000:01:00.0 Off |                  N/A |\n",
      "|  0%   29C    P5              40W / 420W |   1984MiB / 24576MiB |      4%      Default |\n",
      "|                                         |                      |                  N/A |\n",
      "+-----------------------------------------+----------------------+----------------------+\n",
      "|   1  NVIDIA GeForce RTX 2060 ...    Off | 00000000:03:00.0  On |                  N/A |\n",
      "| 29%   51C    P0              61W / 184W |   1452MiB /  8192MiB |     29%      Default |\n",
      "|                                         |                      |                  N/A |\n",
      "+-----------------------------------------+----------------------+----------------------+\n",
      "                                                                                         \n",
      "+---------------------------------------------------------------------------------------+\n",
      "| Processes:                                                                            |\n",
      "|  GPU   GI   CI        PID   Type   Process name                            GPU Memory |\n",
      "|        ID   ID                                                             Usage      |\n",
      "|=======================================================================================|\n",
      "|    0   N/A  N/A      1466      G   /usr/lib/xorg/Xorg                          345MiB |\n",
      "|    0   N/A  N/A      1704      G   /usr/bin/gnome-shell                         42MiB |\n",
      "|    0   N/A  N/A      3836      G   ...seed-version=20240424-080043.603000       66MiB |\n",
      "|    0   N/A  N/A     42817      C   ...x/miniconda3/envs/rapids/bin/python     1434MiB |\n",
      "|    0   N/A  N/A     43301      G   EXCEL.EXE                                    54MiB |\n",
      "|    1   N/A  N/A      1466      G   /usr/lib/xorg/Xorg                          133MiB |\n",
      "|    1   N/A  N/A     46608      C   ...x/miniconda3/envs/rapids/bin/python     1314MiB |\n",
      "+---------------------------------------------------------------------------------------+\n"
     ]
    }
   ],
   "source": [
    "!nvidia-smi"
   ]
  },
  {
   "cell_type": "code",
   "execution_count": 8,
   "metadata": {},
   "outputs": [
    {
     "name": "stdout",
     "output_type": "stream",
     "text": [
      "GPU 0: NVIDIA GeForce RTX 3090 (UUID: GPU-f95b02b8-3c1a-8104-7eb1-25ec537b65e4)\n",
      "GPU 1: NVIDIA GeForce RTX 2060 SUPER (UUID: GPU-9234d598-4065-602a-8139-1b0b2bc70750)\n"
     ]
    }
   ],
   "source": [
    "#Print GPU list\n",
    "os.environ[\"CUDA_DEVICE_ORDER\"]=\"PCI_BUS_ID\" \n",
    "!nvidia-smi -L"
   ]
  },
  {
   "cell_type": "code",
   "execution_count": 9,
   "metadata": {},
   "outputs": [
    {
     "name": "stdout",
     "output_type": "stream",
     "text": [
      "CUDA available: True\n"
     ]
    }
   ],
   "source": [
    "# Check if CUDA is available\n",
    "cuda_available = torch.cuda.is_available()\n",
    "print(f\"CUDA available: {cuda_available}\")"
   ]
  },
  {
   "cell_type": "code",
   "execution_count": 1,
   "metadata": {},
   "outputs": [
    {
     "name": "stdout",
     "output_type": "stream",
     "text": [
      "The history saving thread hit an unexpected error (OperationalError('attempt to write a readonly database')).History will not be written to the database.\n"
     ]
    },
    {
     "ename": "NameError",
     "evalue": "name 'os' is not defined",
     "output_type": "error",
     "traceback": [
      "\u001b[0;31m---------------------------------------------------------------------------\u001b[0m",
      "\u001b[0;31mNameError\u001b[0m                                 Traceback (most recent call last)",
      "Cell \u001b[0;32mIn[1], line 2\u001b[0m\n\u001b[1;32m      1\u001b[0m \u001b[38;5;66;03m#Select GPU to use\u001b[39;00m\n\u001b[0;32m----> 2\u001b[0m \u001b[43mos\u001b[49m\u001b[38;5;241m.\u001b[39menviron[\u001b[38;5;124m\"\u001b[39m\u001b[38;5;124mCUDA_VISIBLE_DEVICES\u001b[39m\u001b[38;5;124m\"\u001b[39m]\u001b[38;5;241m=\u001b[39m\u001b[38;5;124m\"\u001b[39m\u001b[38;5;124m0\u001b[39m\u001b[38;5;124m\"\u001b[39m \u001b[38;5;66;03m#select 3090\u001b[39;00m\n",
      "\u001b[0;31mNameError\u001b[0m: name 'os' is not defined"
     ]
    }
   ],
   "source": [
    "#Select GPU to use\n",
    "os.environ[\"CUDA_VISIBLE_DEVICES\"]=\"0\" #select 3090"
   ]
  },
  {
   "cell_type": "code",
   "execution_count": 11,
   "metadata": {},
   "outputs": [
    {
     "data": {
      "text/plain": [
       "2"
      ]
     },
     "execution_count": 11,
     "metadata": {},
     "output_type": "execute_result"
    }
   ],
   "source": [
    "#Clear GPU memory on 'kernel reset and run all'\n",
    "import gc\n",
    "import torch\n",
    "torch.cuda.empty_cache()\n",
    "gc.collect()"
   ]
  },
  {
   "cell_type": "markdown",
   "metadata": {},
   "source": [
    "### Spin up CUDA Cluster"
   ]
  },
  {
   "cell_type": "code",
   "execution_count": 15,
   "metadata": {},
   "outputs": [
    {
     "data": {
      "text/html": [
       "<div>\n",
       "    <div style=\"width: 24px; height: 24px; background-color: #e1e1e1; border: 3px solid #9D9D9D; border-radius: 5px; position: absolute;\"> </div>\n",
       "    <div style=\"margin-left: 48px;\">\n",
       "        <h3 style=\"margin-bottom: 0px;\">Client</h3>\n",
       "        <p style=\"color: #9D9D9D; margin-bottom: 0px;\">Client-252c4ba3-039b-11ef-9064-00d8612cd4a2</p>\n",
       "        <table style=\"width: 100%; text-align: left;\">\n",
       "\n",
       "        <tr>\n",
       "        \n",
       "            <td style=\"text-align: left;\"><strong>Connection method:</strong> Cluster object</td>\n",
       "            <td style=\"text-align: left;\"><strong>Cluster type:</strong> dask_cuda.LocalCUDACluster</td>\n",
       "        \n",
       "        </tr>\n",
       "\n",
       "        \n",
       "            <tr>\n",
       "                <td style=\"text-align: left;\">\n",
       "                    <strong>Dashboard: </strong> <a href=\"http://127.0.0.1:8787/status\" target=\"_blank\">http://127.0.0.1:8787/status</a>\n",
       "                </td>\n",
       "                <td style=\"text-align: left;\"></td>\n",
       "            </tr>\n",
       "        \n",
       "\n",
       "        </table>\n",
       "\n",
       "        \n",
       "\n",
       "        \n",
       "            <details>\n",
       "            <summary style=\"margin-bottom: 20px;\"><h3 style=\"display: inline;\">Cluster Info</h3></summary>\n",
       "            <div class=\"jp-RenderedHTMLCommon jp-RenderedHTML jp-mod-trusted jp-OutputArea-output\">\n",
       "    <div style=\"width: 24px; height: 24px; background-color: #e1e1e1; border: 3px solid #9D9D9D; border-radius: 5px; position: absolute;\">\n",
       "    </div>\n",
       "    <div style=\"margin-left: 48px;\">\n",
       "        <h3 style=\"margin-bottom: 0px; margin-top: 0px;\">LocalCUDACluster</h3>\n",
       "        <p style=\"color: #9D9D9D; margin-bottom: 0px;\">a5ace8a3</p>\n",
       "        <table style=\"width: 100%; text-align: left;\">\n",
       "            <tr>\n",
       "                <td style=\"text-align: left;\">\n",
       "                    <strong>Dashboard:</strong> <a href=\"http://127.0.0.1:8787/status\" target=\"_blank\">http://127.0.0.1:8787/status</a>\n",
       "                </td>\n",
       "                <td style=\"text-align: left;\">\n",
       "                    <strong>Workers:</strong> 1\n",
       "                </td>\n",
       "            </tr>\n",
       "            <tr>\n",
       "                <td style=\"text-align: left;\">\n",
       "                    <strong>Total threads:</strong> 1\n",
       "                </td>\n",
       "                <td style=\"text-align: left;\">\n",
       "                    <strong>Total memory:</strong> 39.03 GiB\n",
       "                </td>\n",
       "            </tr>\n",
       "            \n",
       "            <tr>\n",
       "    <td style=\"text-align: left;\"><strong>Status:</strong> running</td>\n",
       "    <td style=\"text-align: left;\"><strong>Using processes:</strong> True</td>\n",
       "</tr>\n",
       "\n",
       "            \n",
       "        </table>\n",
       "\n",
       "        <details>\n",
       "            <summary style=\"margin-bottom: 20px;\">\n",
       "                <h3 style=\"display: inline;\">Scheduler Info</h3>\n",
       "            </summary>\n",
       "\n",
       "            <div style=\"\">\n",
       "    <div>\n",
       "        <div style=\"width: 24px; height: 24px; background-color: #FFF7E5; border: 3px solid #FF6132; border-radius: 5px; position: absolute;\"> </div>\n",
       "        <div style=\"margin-left: 48px;\">\n",
       "            <h3 style=\"margin-bottom: 0px;\">Scheduler</h3>\n",
       "            <p style=\"color: #9D9D9D; margin-bottom: 0px;\">Scheduler-cdad529c-f0cf-43c5-94f4-f912389d0ea4</p>\n",
       "            <table style=\"width: 100%; text-align: left;\">\n",
       "                <tr>\n",
       "                    <td style=\"text-align: left;\">\n",
       "                        <strong>Comm:</strong> ucx://127.0.0.1:49393\n",
       "                    </td>\n",
       "                    <td style=\"text-align: left;\">\n",
       "                        <strong>Workers:</strong> 1\n",
       "                    </td>\n",
       "                </tr>\n",
       "                <tr>\n",
       "                    <td style=\"text-align: left;\">\n",
       "                        <strong>Dashboard:</strong> <a href=\"http://127.0.0.1:8787/status\" target=\"_blank\">http://127.0.0.1:8787/status</a>\n",
       "                    </td>\n",
       "                    <td style=\"text-align: left;\">\n",
       "                        <strong>Total threads:</strong> 1\n",
       "                    </td>\n",
       "                </tr>\n",
       "                <tr>\n",
       "                    <td style=\"text-align: left;\">\n",
       "                        <strong>Started:</strong> Just now\n",
       "                    </td>\n",
       "                    <td style=\"text-align: left;\">\n",
       "                        <strong>Total memory:</strong> 39.03 GiB\n",
       "                    </td>\n",
       "                </tr>\n",
       "            </table>\n",
       "        </div>\n",
       "    </div>\n",
       "\n",
       "    <details style=\"margin-left: 48px;\">\n",
       "        <summary style=\"margin-bottom: 20px;\">\n",
       "            <h3 style=\"display: inline;\">Workers</h3>\n",
       "        </summary>\n",
       "\n",
       "        \n",
       "        <div style=\"margin-bottom: 20px;\">\n",
       "            <div style=\"width: 24px; height: 24px; background-color: #DBF5FF; border: 3px solid #4CC9FF; border-radius: 5px; position: absolute;\"> </div>\n",
       "            <div style=\"margin-left: 48px;\">\n",
       "            <details>\n",
       "                <summary>\n",
       "                    <h4 style=\"margin-bottom: 0px; display: inline;\">Worker: 0</h4>\n",
       "                </summary>\n",
       "                <table style=\"width: 100%; text-align: left;\">\n",
       "                    <tr>\n",
       "                        <td style=\"text-align: left;\">\n",
       "                            <strong>Comm: </strong> ucx://127.0.0.1:33253\n",
       "                        </td>\n",
       "                        <td style=\"text-align: left;\">\n",
       "                            <strong>Total threads: </strong> 1\n",
       "                        </td>\n",
       "                    </tr>\n",
       "                    <tr>\n",
       "                        <td style=\"text-align: left;\">\n",
       "                            <strong>Dashboard: </strong> <a href=\"http://127.0.0.1:42765/status\" target=\"_blank\">http://127.0.0.1:42765/status</a>\n",
       "                        </td>\n",
       "                        <td style=\"text-align: left;\">\n",
       "                            <strong>Memory: </strong> 39.03 GiB\n",
       "                        </td>\n",
       "                    </tr>\n",
       "                    <tr>\n",
       "                        <td style=\"text-align: left;\">\n",
       "                            <strong>Nanny: </strong> ucx://127.0.0.1:50409\n",
       "                        </td>\n",
       "                        <td style=\"text-align: left;\"></td>\n",
       "                    </tr>\n",
       "                    <tr>\n",
       "                        <td colspan=\"2\" style=\"text-align: left;\">\n",
       "                            <strong>Local directory: </strong> /tmp/dask-scratch-space/worker-t68irazi\n",
       "                        </td>\n",
       "                    </tr>\n",
       "\n",
       "                    \n",
       "\n",
       "                    \n",
       "\n",
       "                </table>\n",
       "            </details>\n",
       "            </div>\n",
       "        </div>\n",
       "        \n",
       "\n",
       "    </details>\n",
       "</div>\n",
       "\n",
       "        </details>\n",
       "    </div>\n",
       "</div>\n",
       "            </details>\n",
       "        \n",
       "\n",
       "    </div>\n",
       "</div>"
      ],
      "text/plain": [
       "<Client: 'ucx://127.0.0.1:49393' processes=1 threads=1, memory=39.03 GiB>"
      ]
     },
     "execution_count": 15,
     "metadata": {},
     "output_type": "execute_result"
    }
   ],
   "source": [
    "#3090: GPU-f95b02b8-3c1a-8104-7eb1-25ec537b65e4\n",
    "#2060S: GPU-9234d598-4065-602a-8139-1b0b2bc70750\n",
    "\n",
    "cluster = LocalCUDACluster(protocol=\"ucx\", #use ucx for inter-gpu training (RDMA, exclude cpu)\n",
    "                           enable_tcp_over_ucx=None,\n",
    "                           CUDA_VISIBLE_DEVICES= \"0\")\n",
    "client = Client(cluster)\n",
    "\n",
    "client"
   ]
  },
  {
   "cell_type": "markdown",
   "metadata": {
    "id": "Ua5-VTaZmr5S"
   },
   "source": [
    "# Load Dataset"
   ]
  },
  {
   "cell_type": "code",
   "execution_count": 16,
   "metadata": {
    "colab": {
     "base_uri": "https://localhost:8080/"
    },
    "id": "KGaPoW4smsfn",
    "outputId": "df101004-2a14-44ce-e8a2-c77bc4b2f55d"
   },
   "outputs": [
    {
     "name": "stdout",
     "output_type": "stream",
     "text": [
      "<class 'pandas.core.frame.DataFrame'>\n",
      "<class 'pandas.core.series.Series'>\n",
      "<class 'pandas.core.frame.DataFrame'>\n",
      "<class 'pandas.core.series.Series'>\n"
     ]
    }
   ],
   "source": [
    "#Read Class Balanced Dataset\n",
    "X_train = pd.read_parquet(r\"../../capstone_data/archive/SMOTE_train_test_split/X_train_smote.parquet\")\n",
    "y_train = pd.read_parquet(r\"../../capstone_data/archive/SMOTE_train_test_split/y_train_smote.parquet\")['label']\n",
    "X_test = pd.read_parquet(r\"../../capstone_data/archive/SMOTE_train_test_split/X_test_smote.parquet\")\n",
    "y_test = pd.read_parquet(r\"../../capstone_data/archive/SMOTE_train_test_split/y_test_smote.parquet\")['label']\n",
    "\n",
    "#Check Data type\n",
    "print(type(X_train))\n",
    "print(type(y_train))\n",
    "print(type(X_test))\n",
    "print(type(y_test))"
   ]
  },
  {
   "cell_type": "markdown",
   "metadata": {
    "id": "JNq_fBUAo4FX"
   },
   "source": [
    "# Define GridSearch and Model Parameters"
   ]
  },
  {
   "cell_type": "code",
   "execution_count": 17,
   "metadata": {
    "id": "175e3BgwpAVY"
   },
   "outputs": [],
   "source": [
    "N_FOLDS = 5 #folds for cross validation\n",
    "N_ITER = 25 #iteration when executing random gridsearch"
   ]
  },
  {
   "cell_type": "code",
   "execution_count": 21,
   "metadata": {},
   "outputs": [],
   "source": [
    "#Define cuML RF model\n",
    "model_rf_ = cuRandomForestClassifier()\n",
    "\n",
    "\n",
    "#gridsearch will use these parameter values to find the best performing model\n",
    "params_rf = {\n",
    "    \"max_depth\": np.arange(start=3, stop=15, step=2),  # Default = 6\n",
    "    \"max_features\": [0.1, 0.50, 0.75, \"auto\"],  # default = 0.3\n",
    "    \"n_estimators\": [100, 200, 500, 1000],\n",
    "}"
   ]
  },
  {
   "cell_type": "markdown",
   "metadata": {
    "id": "ruw4pdFcp432"
   },
   "source": [
    "# Perform Gridsearch Hyperparameter Tuning\n",
    "### Define Gridsearch GPU functions"
   ]
  },
  {
   "cell_type": "code",
   "execution_count": 22,
   "metadata": {
    "id": "a_BmyTQNxi94"
   },
   "outputs": [],
   "source": [
    "#converts the y label into a float32 type. This is because some cuML models only accept this data type\n",
    "def accuracy_score_wrapper(y, y_hat):\n",
    "    \"\"\"\n",
    "    A wrapper function to convert labels to float32,\n",
    "    and pass it to accuracy_score.\n",
    "\n",
    "    Params:\n",
    "    - y: The y labels that need to be converted\n",
    "    - y_hat: The predictions made by the model\n",
    "    \"\"\"\n",
    "    y = y.astype(\"float32\")  # cuML RandomForest needs the y labels to be float32\n",
    "    return accuracy_score(y, y_hat, convert_dtype=True)\n",
    "\n",
    "\n",
    "accuracy_wrapper_scorer = make_scorer(accuracy_score_wrapper)\n",
    "cuml_accuracy_scorer = make_scorer(accuracy_score, convert_dtype=True)\n",
    "\n",
    "\n",
    "def do_HPO(model, gridsearch_params, scorer, X, y, mode=\"gpu-Grid\", n_iter=10):\n",
    "    \"\"\"\n",
    "    Perform HPO based on the mode specified\n",
    "\n",
    "    mode: default gpu-Grid. The possible options are:\n",
    "    1. gpu-grid: Perform GPU based GridSearchCV\n",
    "    2. gpu-random: Perform GPU based RandomizedSearchCV\n",
    "\n",
    "    n_iter: specified with Random option for number of parameter settings sampled\n",
    "\n",
    "    Returns the best estimator and the results of the search\n",
    "    \"\"\"\n",
    "    if mode == \"gpu-grid\":\n",
    "        print(\"gpu-grid selected\")\n",
    "        clf = GridSearchCV(model, gridsearch_params, cv=N_FOLDS, scoring=\"f1\", verbose=3)\n",
    "    elif mode == \"gpu-random\":\n",
    "        print(\"gpu-random selected\")\n",
    "        clf = GridSearchCV(\n",
    "            model, gridsearch_params, cv=N_FOLDS, scoring=\"f1\", n_iter=n_iter\n",
    "        )\n",
    "\n",
    "    else:\n",
    "        print(\"Unknown Option, please choose one of [gpu-grid, gpu-random]\")\n",
    "        return None, None\n",
    "    res = clf.fit(X, y)\n",
    "    print(\n",
    "        \"Best clf and score {} {}\\n---\\n\".format(res.best_estimator_, res.best_score_)\n",
    "    )\n",
    "    return res.best_estimator_, res\n",
    "\n",
    "\n",
    "def print_acc(model, X_train, y_train, X_test, y_test, mode_str=\"Default\"):\n",
    "    \"\"\"\n",
    "    Trains a model on the train data provided, and prints the accuracy of the trained model.\n",
    "    mode_str: User specifies what model it is to print the value\n",
    "    \"\"\"\n",
    "    y_pred = model.fit(X_train, y_train).predict(X_test)\n",
    "    score = accuracy_score(y_pred, y_test.astype(\"float32\"), convert_dtype=True)\n",
    "    print(\"{} model accuracy: {}\".format(mode_str, score))"
   ]
  },
  {
   "cell_type": "code",
   "execution_count": 23,
   "metadata": {},
   "outputs": [],
   "source": [
    "#Coerce columns as necessary for cuML models\n",
    "for col in X_train.columns:\n",
    "    X_train[col] = X_train[col].astype(\"float32\")\n",
    "y_train = y_train.astype(\"int32\")\n",
    "\n",
    "for col in X_test.columns:\n",
    "    X_test[col] = X_test[col].astype(\"float32\")\n",
    "y_test = y_test.astype(\"int32\")"
   ]
  },
  {
   "cell_type": "code",
   "execution_count": 32,
   "metadata": {},
   "outputs": [
    {
     "name": "stdout",
     "output_type": "stream",
     "text": [
      "Default acc:  0.9995993375778198\n",
      "CPU times: user 1min 11s, sys: 26.9 s, total: 1min 38s\n",
      "Wall time: 31 s\n"
     ]
    }
   ],
   "source": [
    "%%time\n",
    "#Model training without hyperparameter tuning - trains in 1min and 38s - Default acc:  0.9995993375778198\n",
    "# print(\n",
    "#     \"Default acc: \",\n",
    "#     accuracy_score(model_rf_.fit(X_train, y_train).predict(X_test), y_test),\n",
    "# )"
   ]
  },
  {
   "cell_type": "code",
   "execution_count": 33,
   "metadata": {},
   "outputs": [
    {
     "name": "stdout",
     "output_type": "stream",
     "text": [
      "gpu-grid selected\n",
      "Fitting 5 folds for each of 96 candidates, totalling 480 fits\n",
      "[CV 1/5] END max_depth=3, max_features=0.1, n_estimators=100;, score=0.925 total time=  17.0s\n",
      "[CV 2/5] END max_depth=3, max_features=0.1, n_estimators=100;, score=0.924 total time=  17.7s\n",
      "[CV 3/5] END max_depth=3, max_features=0.1, n_estimators=100;, score=0.924 total time=  18.9s\n",
      "[CV 4/5] END max_depth=3, max_features=0.1, n_estimators=100;, score=0.924 total time=  17.1s\n",
      "[CV 5/5] END max_depth=3, max_features=0.1, n_estimators=100;, score=0.924 total time=  17.6s\n",
      "[CV 1/5] END max_depth=3, max_features=0.1, n_estimators=200;, score=0.928 total time=  33.2s\n",
      "[CV 2/5] END max_depth=3, max_features=0.1, n_estimators=200;, score=0.927 total time=  30.7s\n",
      "[CV 3/5] END max_depth=3, max_features=0.1, n_estimators=200;, score=0.927 total time=  32.8s\n",
      "[CV 4/5] END max_depth=3, max_features=0.1, n_estimators=200;, score=0.927 total time=  33.5s\n",
      "[CV 5/5] END max_depth=3, max_features=0.1, n_estimators=200;, score=0.927 total time=  32.6s\n",
      "[CV 1/5] END max_depth=3, max_features=0.1, n_estimators=500;, score=0.927 total time= 1.3min\n",
      "[CV 2/5] END max_depth=3, max_features=0.1, n_estimators=500;, score=0.927 total time= 1.3min\n",
      "[CV 3/5] END max_depth=3, max_features=0.1, n_estimators=500;, score=0.927 total time= 1.4min\n",
      "[CV 4/5] END max_depth=3, max_features=0.1, n_estimators=500;, score=0.927 total time= 1.3min\n",
      "[CV 5/5] END max_depth=3, max_features=0.1, n_estimators=500;, score=0.927 total time= 1.4min\n",
      "[CV 1/5] END max_depth=3, max_features=0.1, n_estimators=1000;, score=0.927 total time= 2.7min\n",
      "[CV 2/5] END max_depth=3, max_features=0.1, n_estimators=1000;, score=0.927 total time= 2.6min\n",
      "[CV 3/5] END max_depth=3, max_features=0.1, n_estimators=1000;, score=0.927 total time= 2.7min\n",
      "[CV 4/5] END max_depth=3, max_features=0.1, n_estimators=1000;, score=0.927 total time= 2.7min\n",
      "[CV 5/5] END max_depth=3, max_features=0.1, n_estimators=1000;, score=0.927 total time= 2.5min\n",
      "[CV 1/5] END max_depth=3, max_features=0.5, n_estimators=100;, score=0.996 total time=  18.8s\n",
      "[CV 2/5] END max_depth=3, max_features=0.5, n_estimators=100;, score=0.996 total time=  20.1s\n",
      "[CV 3/5] END max_depth=3, max_features=0.5, n_estimators=100;, score=0.996 total time=  19.9s\n",
      "[CV 4/5] END max_depth=3, max_features=0.5, n_estimators=100;, score=0.996 total time=  20.0s\n",
      "[CV 5/5] END max_depth=3, max_features=0.5, n_estimators=100;, score=0.996 total time=  19.7s\n",
      "[CV 1/5] END max_depth=3, max_features=0.5, n_estimators=200;, score=0.996 total time=  38.4s\n",
      "[CV 2/5] END max_depth=3, max_features=0.5, n_estimators=200;, score=0.996 total time=  37.5s\n",
      "[CV 3/5] END max_depth=3, max_features=0.5, n_estimators=200;, score=0.996 total time=  36.5s\n",
      "[CV 4/5] END max_depth=3, max_features=0.5, n_estimators=200;, score=0.996 total time=  37.5s\n",
      "[CV 5/5] END max_depth=3, max_features=0.5, n_estimators=200;, score=0.996 total time=  38.5s\n",
      "[CV 1/5] END max_depth=3, max_features=0.5, n_estimators=500;, score=0.996 total time= 1.5min\n",
      "[CV 2/5] END max_depth=3, max_features=0.5, n_estimators=500;, score=0.996 total time= 1.6min\n",
      "[CV 3/5] END max_depth=3, max_features=0.5, n_estimators=500;, score=0.996 total time= 1.6min\n",
      "[CV 4/5] END max_depth=3, max_features=0.5, n_estimators=500;, score=0.996 total time= 1.6min\n",
      "[CV 5/5] END max_depth=3, max_features=0.5, n_estimators=500;, score=0.996 total time= 1.6min\n",
      "[CV 1/5] END max_depth=3, max_features=0.5, n_estimators=1000;, score=0.996 total time= 3.1min\n",
      "[CV 2/5] END max_depth=3, max_features=0.5, n_estimators=1000;, score=0.996 total time= 3.1min\n",
      "[CV 3/5] END max_depth=3, max_features=0.5, n_estimators=1000;, score=0.996 total time= 3.0min\n",
      "[CV 4/5] END max_depth=3, max_features=0.5, n_estimators=1000;, score=0.996 total time= 3.1min\n",
      "[CV 5/5] END max_depth=3, max_features=0.5, n_estimators=1000;, score=0.996 total time= 3.1min\n",
      "[CV 1/5] END max_depth=3, max_features=0.75, n_estimators=100;, score=0.996 total time=  23.1s\n",
      "[CV 2/5] END max_depth=3, max_features=0.75, n_estimators=100;, score=0.996 total time=  22.2s\n",
      "[CV 3/5] END max_depth=3, max_features=0.75, n_estimators=100;, score=0.996 total time=  22.9s\n",
      "[CV 4/5] END max_depth=3, max_features=0.75, n_estimators=100;, score=0.996 total time=  22.4s\n",
      "[CV 5/5] END max_depth=3, max_features=0.75, n_estimators=100;, score=0.996 total time=  22.8s\n",
      "[CV 1/5] END max_depth=3, max_features=0.75, n_estimators=200;, score=0.996 total time=  42.9s\n",
      "[CV 2/5] END max_depth=3, max_features=0.75, n_estimators=200;, score=0.996 total time=  42.9s\n",
      "[CV 3/5] END max_depth=3, max_features=0.75, n_estimators=200;, score=0.996 total time=  42.9s\n",
      "[CV 4/5] END max_depth=3, max_features=0.75, n_estimators=200;, score=0.996 total time=  43.2s\n",
      "[CV 5/5] END max_depth=3, max_features=0.75, n_estimators=200;, score=0.996 total time=  43.3s\n",
      "[CV 1/5] END max_depth=3, max_features=0.75, n_estimators=500;, score=0.996 total time= 1.8min\n",
      "[CV 2/5] END max_depth=3, max_features=0.75, n_estimators=500;, score=0.996 total time= 1.8min\n",
      "[CV 3/5] END max_depth=3, max_features=0.75, n_estimators=500;, score=0.996 total time= 1.8min\n",
      "[CV 4/5] END max_depth=3, max_features=0.75, n_estimators=500;, score=0.996 total time= 1.8min\n",
      "[CV 5/5] END max_depth=3, max_features=0.75, n_estimators=500;, score=0.996 total time= 1.8min\n",
      "[CV 1/5] END max_depth=3, max_features=0.75, n_estimators=1000;, score=0.997 total time= 3.5min\n",
      "[CV 2/5] END max_depth=3, max_features=0.75, n_estimators=1000;, score=0.997 total time= 3.6min\n",
      "[CV 3/5] END max_depth=3, max_features=0.75, n_estimators=1000;, score=0.997 total time= 3.5min\n",
      "[CV 4/5] END max_depth=3, max_features=0.75, n_estimators=1000;, score=0.997 total time= 3.5min\n",
      "[CV 5/5] END max_depth=3, max_features=0.75, n_estimators=1000;, score=0.997 total time= 3.5min\n",
      "[CV 1/5] END max_depth=3, max_features=auto, n_estimators=100;, score=0.996 total time=  17.0s\n",
      "[CV 2/5] END max_depth=3, max_features=auto, n_estimators=100;, score=0.996 total time=  17.0s\n",
      "[CV 3/5] END max_depth=3, max_features=auto, n_estimators=100;, score=0.996 total time=  17.6s\n",
      "[CV 4/5] END max_depth=3, max_features=auto, n_estimators=100;, score=0.996 total time=  17.8s\n",
      "[CV 5/5] END max_depth=3, max_features=auto, n_estimators=100;, score=0.996 total time=  18.9s\n",
      "[CV 1/5] END max_depth=3, max_features=auto, n_estimators=200;, score=0.996 total time=  33.3s\n",
      "[CV 2/5] END max_depth=3, max_features=auto, n_estimators=200;, score=0.996 total time=  33.0s\n",
      "[CV 3/5] END max_depth=3, max_features=auto, n_estimators=200;, score=0.997 total time=  32.4s\n",
      "[CV 4/5] END max_depth=3, max_features=auto, n_estimators=200;, score=0.996 total time=  33.2s\n",
      "[CV 5/5] END max_depth=3, max_features=auto, n_estimators=200;, score=0.997 total time=  33.1s\n",
      "[CV 1/5] END max_depth=3, max_features=auto, n_estimators=500;, score=0.996 total time= 1.4min\n",
      "[CV 2/5] END max_depth=3, max_features=auto, n_estimators=500;, score=0.996 total time= 1.3min\n",
      "[CV 3/5] END max_depth=3, max_features=auto, n_estimators=500;, score=0.996 total time= 1.3min\n",
      "[CV 4/5] END max_depth=3, max_features=auto, n_estimators=500;, score=0.996 total time= 1.3min\n",
      "[CV 5/5] END max_depth=3, max_features=auto, n_estimators=500;, score=0.996 total time= 1.4min\n",
      "[CV 1/5] END max_depth=3, max_features=auto, n_estimators=1000;, score=0.996 total time= 2.6min\n",
      "[CV 2/5] END max_depth=3, max_features=auto, n_estimators=1000;, score=0.996 total time= 2.6min\n",
      "[CV 3/5] END max_depth=3, max_features=auto, n_estimators=1000;, score=0.996 total time= 2.6min\n",
      "[CV 4/5] END max_depth=3, max_features=auto, n_estimators=1000;, score=0.996 total time= 2.6min\n",
      "[CV 5/5] END max_depth=3, max_features=auto, n_estimators=1000;, score=0.996 total time= 2.7min\n",
      "[CV 1/5] END max_depth=5, max_features=0.1, n_estimators=100;, score=0.965 total time=  20.1s\n",
      "[CV 2/5] END max_depth=5, max_features=0.1, n_estimators=100;, score=0.946 total time=  19.8s\n",
      "[CV 3/5] END max_depth=5, max_features=0.1, n_estimators=100;, score=0.963 total time=  19.2s\n",
      "[CV 4/5] END max_depth=5, max_features=0.1, n_estimators=100;, score=0.964 total time=  20.0s\n",
      "[CV 5/5] END max_depth=5, max_features=0.1, n_estimators=100;, score=0.963 total time=  19.1s\n",
      "[CV 1/5] END max_depth=5, max_features=0.1, n_estimators=200;, score=0.977 total time=  35.1s\n",
      "[CV 2/5] END max_depth=5, max_features=0.1, n_estimators=200;, score=0.971 total time=  35.0s\n",
      "[CV 3/5] END max_depth=5, max_features=0.1, n_estimators=200;, score=0.965 total time=  35.6s\n",
      "[CV 4/5] END max_depth=5, max_features=0.1, n_estimators=200;, score=0.983 total time=  34.8s\n",
      "[CV 5/5] END max_depth=5, max_features=0.1, n_estimators=200;, score=0.982 total time=  36.8s\n",
      "[CV 1/5] END max_depth=5, max_features=0.1, n_estimators=500;, score=0.996 total time= 1.5min\n",
      "[CV 2/5] END max_depth=5, max_features=0.1, n_estimators=500;, score=0.995 total time= 1.4min\n",
      "[CV 3/5] END max_depth=5, max_features=0.1, n_estimators=500;, score=0.986 total time= 1.4min\n",
      "[CV 4/5] END max_depth=5, max_features=0.1, n_estimators=500;, score=0.996 total time= 1.5min\n",
      "[CV 5/5] END max_depth=5, max_features=0.1, n_estimators=500;, score=0.994 total time= 1.6min\n",
      "[CV 1/5] END max_depth=5, max_features=0.1, n_estimators=1000;, score=0.982 total time= 3.0min\n",
      "[CV 2/5] END max_depth=5, max_features=0.1, n_estimators=1000;, score=0.981 total time= 2.9min\n",
      "[CV 3/5] END max_depth=5, max_features=0.1, n_estimators=1000;, score=0.968 total time= 2.8min\n",
      "[CV 4/5] END max_depth=5, max_features=0.1, n_estimators=1000;, score=0.982 total time= 2.8min\n",
      "[CV 5/5] END max_depth=5, max_features=0.1, n_estimators=1000;, score=0.975 total time= 2.7min\n",
      "[CV 1/5] END max_depth=5, max_features=0.5, n_estimators=100;, score=0.999 total time=  24.7s\n",
      "[CV 2/5] END max_depth=5, max_features=0.5, n_estimators=100;, score=0.999 total time=  24.7s\n",
      "[CV 3/5] END max_depth=5, max_features=0.5, n_estimators=100;, score=0.999 total time=  24.9s\n",
      "[CV 4/5] END max_depth=5, max_features=0.5, n_estimators=100;, score=0.999 total time=  24.8s\n",
      "[CV 5/5] END max_depth=5, max_features=0.5, n_estimators=100;, score=0.999 total time=  25.2s\n",
      "[CV 1/5] END max_depth=5, max_features=0.5, n_estimators=200;, score=0.999 total time=  48.0s\n",
      "[CV 2/5] END max_depth=5, max_features=0.5, n_estimators=200;, score=0.999 total time=  47.9s\n",
      "[CV 3/5] END max_depth=5, max_features=0.5, n_estimators=200;, score=0.999 total time=  48.0s\n",
      "[CV 4/5] END max_depth=5, max_features=0.5, n_estimators=200;, score=0.999 total time=  46.9s\n",
      "[CV 5/5] END max_depth=5, max_features=0.5, n_estimators=200;, score=0.999 total time=  48.2s\n",
      "[CV 1/5] END max_depth=5, max_features=0.5, n_estimators=500;, score=0.999 total time= 1.9min\n",
      "[CV 2/5] END max_depth=5, max_features=0.5, n_estimators=500;, score=0.999 total time= 1.9min\n",
      "[CV 3/5] END max_depth=5, max_features=0.5, n_estimators=500;, score=0.999 total time= 2.0min\n",
      "[CV 4/5] END max_depth=5, max_features=0.5, n_estimators=500;, score=0.999 total time= 2.0min\n",
      "[CV 5/5] END max_depth=5, max_features=0.5, n_estimators=500;, score=0.999 total time= 1.9min\n",
      "[CV 1/5] END max_depth=5, max_features=0.5, n_estimators=1000;, score=0.999 total time= 3.8min\n",
      "[CV 2/5] END max_depth=5, max_features=0.5, n_estimators=1000;, score=0.999 total time= 3.8min\n",
      "[CV 3/5] END max_depth=5, max_features=0.5, n_estimators=1000;, score=0.999 total time= 3.8min\n",
      "[CV 4/5] END max_depth=5, max_features=0.5, n_estimators=1000;, score=0.999 total time= 3.9min\n",
      "[CV 5/5] END max_depth=5, max_features=0.5, n_estimators=1000;, score=0.999 total time= 3.9min\n",
      "[CV 1/5] END max_depth=5, max_features=0.75, n_estimators=100;, score=0.999 total time=  30.3s\n",
      "[CV 2/5] END max_depth=5, max_features=0.75, n_estimators=100;, score=0.999 total time=  29.8s\n",
      "[CV 3/5] END max_depth=5, max_features=0.75, n_estimators=100;, score=0.999 total time=  29.2s\n",
      "[CV 4/5] END max_depth=5, max_features=0.75, n_estimators=100;, score=0.999 total time=  29.1s\n",
      "[CV 5/5] END max_depth=5, max_features=0.75, n_estimators=100;, score=0.999 total time=  29.1s\n",
      "[CV 1/5] END max_depth=5, max_features=0.75, n_estimators=200;, score=0.999 total time=  57.5s\n",
      "[CV 2/5] END max_depth=5, max_features=0.75, n_estimators=200;, score=0.999 total time=  57.1s\n",
      "[CV 3/5] END max_depth=5, max_features=0.75, n_estimators=200;, score=0.999 total time=  56.9s\n",
      "[CV 4/5] END max_depth=5, max_features=0.75, n_estimators=200;, score=0.999 total time=  57.2s\n",
      "[CV 5/5] END max_depth=5, max_features=0.75, n_estimators=200;, score=0.999 total time=  56.8s\n",
      "[CV 1/5] END max_depth=5, max_features=0.75, n_estimators=500;, score=0.999 total time= 2.3min\n",
      "[CV 2/5] END max_depth=5, max_features=0.75, n_estimators=500;, score=0.999 total time= 2.3min\n",
      "[CV 3/5] END max_depth=5, max_features=0.75, n_estimators=500;, score=0.999 total time= 2.3min\n",
      "[CV 4/5] END max_depth=5, max_features=0.75, n_estimators=500;, score=0.999 total time= 2.3min\n",
      "[CV 5/5] END max_depth=5, max_features=0.75, n_estimators=500;, score=0.999 total time= 2.3min\n",
      "[CV 1/5] END max_depth=5, max_features=0.75, n_estimators=1000;, score=0.999 total time= 4.6min\n",
      "[CV 2/5] END max_depth=5, max_features=0.75, n_estimators=1000;, score=0.999 total time= 4.7min\n",
      "[CV 3/5] END max_depth=5, max_features=0.75, n_estimators=1000;, score=0.999 total time= 4.7min\n",
      "[CV 4/5] END max_depth=5, max_features=0.75, n_estimators=1000;, score=0.999 total time= 4.7min\n",
      "[CV 5/5] END max_depth=5, max_features=0.75, n_estimators=1000;, score=0.999 total time= 4.6min\n",
      "[CV 1/5] END max_depth=5, max_features=auto, n_estimators=100;, score=0.997 total time=  19.2s\n",
      "[CV 2/5] END max_depth=5, max_features=auto, n_estimators=100;, score=0.997 total time=  20.3s\n",
      "[CV 3/5] END max_depth=5, max_features=auto, n_estimators=100;, score=0.997 total time=  20.5s\n",
      "[CV 4/5] END max_depth=5, max_features=auto, n_estimators=100;, score=0.997 total time=  19.4s\n",
      "[CV 5/5] END max_depth=5, max_features=auto, n_estimators=100;, score=0.997 total time=  20.1s\n",
      "[CV 1/5] END max_depth=5, max_features=auto, n_estimators=200;, score=0.997 total time=  38.1s\n",
      "[CV 2/5] END max_depth=5, max_features=auto, n_estimators=200;, score=0.997 total time=  38.8s\n",
      "[CV 3/5] END max_depth=5, max_features=auto, n_estimators=200;, score=0.997 total time=  38.6s\n",
      "[CV 4/5] END max_depth=5, max_features=auto, n_estimators=200;, score=0.997 total time=  38.4s\n",
      "[CV 5/5] END max_depth=5, max_features=auto, n_estimators=200;, score=0.997 total time=  39.3s\n",
      "[CV 1/5] END max_depth=5, max_features=auto, n_estimators=500;, score=0.997 total time= 1.6min\n",
      "[CV 2/5] END max_depth=5, max_features=auto, n_estimators=500;, score=0.997 total time= 1.6min\n",
      "[CV 3/5] END max_depth=5, max_features=auto, n_estimators=500;, score=0.997 total time= 1.5min\n",
      "[CV 4/5] END max_depth=5, max_features=auto, n_estimators=500;, score=0.997 total time= 1.5min\n",
      "[CV 5/5] END max_depth=5, max_features=auto, n_estimators=500;, score=0.997 total time= 1.6min\n",
      "[CV 1/5] END max_depth=5, max_features=auto, n_estimators=1000;, score=0.997 total time= 3.1min\n",
      "[CV 2/5] END max_depth=5, max_features=auto, n_estimators=1000;, score=0.997 total time= 3.1min\n",
      "[CV 3/5] END max_depth=5, max_features=auto, n_estimators=1000;, score=0.997 total time= 3.1min\n",
      "[CV 4/5] END max_depth=5, max_features=auto, n_estimators=1000;, score=0.997 total time= 3.1min\n",
      "[CV 5/5] END max_depth=5, max_features=auto, n_estimators=1000;, score=0.997 total time= 3.1min\n",
      "[CV 1/5] END max_depth=7, max_features=0.1, n_estimators=100;, score=0.989 total time=  20.3s\n",
      "[CV 2/5] END max_depth=7, max_features=0.1, n_estimators=100;, score=0.964 total time=  19.5s\n",
      "[CV 3/5] END max_depth=7, max_features=0.1, n_estimators=100;, score=0.972 total time=  19.2s\n",
      "[CV 4/5] END max_depth=7, max_features=0.1, n_estimators=100;, score=0.976 total time=  19.8s\n",
      "[CV 5/5] END max_depth=7, max_features=0.1, n_estimators=100;, score=0.965 total time=  19.2s\n",
      "[CV 1/5] END max_depth=7, max_features=0.1, n_estimators=200;, score=0.997 total time=  37.1s\n",
      "[CV 2/5] END max_depth=7, max_features=0.1, n_estimators=200;, score=0.989 total time=  37.3s\n",
      "[CV 3/5] END max_depth=7, max_features=0.1, n_estimators=200;, score=0.995 total time=  37.3s\n",
      "[CV 4/5] END max_depth=7, max_features=0.1, n_estimators=200;, score=0.997 total time=  37.7s\n",
      "[CV 5/5] END max_depth=7, max_features=0.1, n_estimators=200;, score=0.987 total time=  36.9s\n",
      "[CV 1/5] END max_depth=7, max_features=0.1, n_estimators=500;, score=0.997 total time= 1.5min\n",
      "[CV 2/5] END max_depth=7, max_features=0.1, n_estimators=500;, score=0.997 total time= 1.5min\n",
      "[CV 3/5] END max_depth=7, max_features=0.1, n_estimators=500;, score=0.997 total time= 1.5min\n",
      "[CV 4/5] END max_depth=7, max_features=0.1, n_estimators=500;, score=0.997 total time= 1.5min\n",
      "[CV 5/5] END max_depth=7, max_features=0.1, n_estimators=500;, score=0.996 total time= 1.5min\n",
      "[CV 1/5] END max_depth=7, max_features=0.1, n_estimators=1000;, score=0.997 total time= 2.9min\n",
      "[CV 2/5] END max_depth=7, max_features=0.1, n_estimators=1000;, score=0.996 total time= 2.9min\n",
      "[CV 3/5] END max_depth=7, max_features=0.1, n_estimators=1000;, score=0.995 total time= 2.9min\n",
      "[CV 4/5] END max_depth=7, max_features=0.1, n_estimators=1000;, score=0.997 total time= 3.0min\n",
      "[CV 5/5] END max_depth=7, max_features=0.1, n_estimators=1000;, score=0.994 total time= 2.9min\n",
      "[CV 1/5] END max_depth=7, max_features=0.5, n_estimators=100;, score=1.000 total time=  29.1s\n",
      "[CV 2/5] END max_depth=7, max_features=0.5, n_estimators=100;, score=1.000 total time=  29.1s\n",
      "[CV 3/5] END max_depth=7, max_features=0.5, n_estimators=100;, score=1.000 total time=  28.7s\n",
      "[CV 4/5] END max_depth=7, max_features=0.5, n_estimators=100;, score=1.000 total time=  28.2s\n",
      "[CV 5/5] END max_depth=7, max_features=0.5, n_estimators=100;, score=1.000 total time=  27.9s\n",
      "[CV 1/5] END max_depth=7, max_features=0.5, n_estimators=200;, score=1.000 total time=  55.3s\n",
      "[CV 2/5] END max_depth=7, max_features=0.5, n_estimators=200;, score=1.000 total time=  55.2s\n",
      "[CV 3/5] END max_depth=7, max_features=0.5, n_estimators=200;, score=1.000 total time=  55.7s\n",
      "[CV 4/5] END max_depth=7, max_features=0.5, n_estimators=200;, score=1.000 total time=  57.0s\n",
      "[CV 5/5] END max_depth=7, max_features=0.5, n_estimators=200;, score=1.000 total time=  57.2s\n",
      "[CV 1/5] END max_depth=7, max_features=0.5, n_estimators=500;, score=1.000 total time= 2.3min\n",
      "[CV 2/5] END max_depth=7, max_features=0.5, n_estimators=500;, score=1.000 total time= 2.2min\n",
      "[CV 3/5] END max_depth=7, max_features=0.5, n_estimators=500;, score=1.000 total time= 2.3min\n",
      "[CV 4/5] END max_depth=7, max_features=0.5, n_estimators=500;, score=1.000 total time= 2.2min\n",
      "[CV 5/5] END max_depth=7, max_features=0.5, n_estimators=500;, score=1.000 total time= 2.2min\n",
      "[CV 1/5] END max_depth=7, max_features=0.5, n_estimators=1000;, score=1.000 total time= 4.4min\n",
      "[CV 2/5] END max_depth=7, max_features=0.5, n_estimators=1000;, score=1.000 total time= 4.5min\n",
      "[CV 3/5] END max_depth=7, max_features=0.5, n_estimators=1000;, score=1.000 total time= 4.4min\n",
      "[CV 4/5] END max_depth=7, max_features=0.5, n_estimators=1000;, score=1.000 total time= 4.5min\n",
      "[CV 5/5] END max_depth=7, max_features=0.5, n_estimators=1000;, score=1.000 total time= 4.5min\n",
      "[CV 1/5] END max_depth=7, max_features=0.75, n_estimators=100;, score=0.999 total time=  35.6s\n",
      "[CV 2/5] END max_depth=7, max_features=0.75, n_estimators=100;, score=0.999 total time=  35.4s\n",
      "[CV 3/5] END max_depth=7, max_features=0.75, n_estimators=100;, score=0.999 total time=  35.1s\n",
      "[CV 4/5] END max_depth=7, max_features=0.75, n_estimators=100;, score=0.999 total time=  35.0s\n",
      "[CV 5/5] END max_depth=7, max_features=0.75, n_estimators=100;, score=0.999 total time=  35.8s\n",
      "[CV 1/5] END max_depth=7, max_features=0.75, n_estimators=200;, score=0.999 total time= 1.2min\n",
      "[CV 2/5] END max_depth=7, max_features=0.75, n_estimators=200;, score=0.999 total time= 1.1min\n",
      "[CV 3/5] END max_depth=7, max_features=0.75, n_estimators=200;, score=0.999 total time= 1.1min\n",
      "[CV 4/5] END max_depth=7, max_features=0.75, n_estimators=200;, score=0.999 total time= 1.1min\n",
      "[CV 5/5] END max_depth=7, max_features=0.75, n_estimators=200;, score=0.999 total time= 1.1min\n",
      "[CV 1/5] END max_depth=7, max_features=0.75, n_estimators=500;, score=0.999 total time= 2.8min\n",
      "[CV 2/5] END max_depth=7, max_features=0.75, n_estimators=500;, score=0.999 total time= 2.8min\n",
      "[CV 3/5] END max_depth=7, max_features=0.75, n_estimators=500;, score=0.999 total time= 2.8min\n",
      "[CV 4/5] END max_depth=7, max_features=0.75, n_estimators=500;, score=0.999 total time= 2.8min\n",
      "[CV 5/5] END max_depth=7, max_features=0.75, n_estimators=500;, score=0.999 total time= 2.8min\n"
     ]
    },
    {
     "name": "stderr",
     "output_type": "stream",
     "text": [
      "2024-04-07 04:56:11,401 - distributed.worker - ERROR - Scheduler was unaware of this worker 'ucx://127.0.0.1:43029'. Shutting down.\n",
      "2024-04-07 04:56:11,439 - distributed.core - INFO - Connection to ucx://127.0.0.1:43415 has been closed.\n"
     ]
    },
    {
     "name": "stdout",
     "output_type": "stream",
     "text": [
      "[CV 1/5] END max_depth=7, max_features=0.75, n_estimators=1000;, score=0.999 total time= 5.6min\n"
     ]
    },
    {
     "name": "stderr",
     "output_type": "stream",
     "text": [
      "2024-04-07 05:01:48,917 - distributed.worker - ERROR - Scheduler was unaware of this worker 'ucx://127.0.0.1:50999'. Shutting down.\n",
      "2024-04-07 05:01:48,963 - distributed.core - INFO - Connection to ucx://127.0.0.1:43415 has been closed.\n"
     ]
    },
    {
     "name": "stdout",
     "output_type": "stream",
     "text": [
      "[CV 2/5] END max_depth=7, max_features=0.75, n_estimators=1000;, score=0.999 total time= 5.6min\n"
     ]
    },
    {
     "name": "stderr",
     "output_type": "stream",
     "text": [
      "2024-04-07 05:01:50,968 - distributed.nanny - ERROR - Worker process died unexpectedly\n"
     ]
    },
    {
     "name": "stdout",
     "output_type": "stream",
     "text": [
      "[CV 3/5] END max_depth=7, max_features=0.75, n_estimators=1000;, score=0.999 total time= 5.6min\n",
      "[CV 4/5] END max_depth=7, max_features=0.75, n_estimators=1000;, score=0.999 total time= 5.6min\n",
      "[CV 5/5] END max_depth=7, max_features=0.75, n_estimators=1000;, score=0.999 total time= 5.6min\n",
      "[CV 1/5] END max_depth=7, max_features=auto, n_estimators=100;, score=1.000 total time=  22.0s\n",
      "[CV 2/5] END max_depth=7, max_features=auto, n_estimators=100;, score=0.999 total time=  22.5s\n",
      "[CV 3/5] END max_depth=7, max_features=auto, n_estimators=100;, score=0.999 total time=  22.2s\n",
      "[CV 4/5] END max_depth=7, max_features=auto, n_estimators=100;, score=0.999 total time=  22.6s\n",
      "[CV 5/5] END max_depth=7, max_features=auto, n_estimators=100;, score=0.999 total time=  22.1s\n",
      "[CV 1/5] END max_depth=7, max_features=auto, n_estimators=200;, score=0.999 total time=  43.2s\n",
      "[CV 2/5] END max_depth=7, max_features=auto, n_estimators=200;, score=0.999 total time=  44.4s\n",
      "[CV 3/5] END max_depth=7, max_features=auto, n_estimators=200;, score=0.999 total time=  42.9s\n",
      "[CV 4/5] END max_depth=7, max_features=auto, n_estimators=200;, score=0.999 total time=  42.7s\n",
      "[CV 5/5] END max_depth=7, max_features=auto, n_estimators=200;, score=0.999 total time=  41.8s\n",
      "[CV 1/5] END max_depth=7, max_features=auto, n_estimators=500;, score=0.999 total time= 1.7min\n",
      "[CV 2/5] END max_depth=7, max_features=auto, n_estimators=500;, score=0.999 total time= 1.7min\n",
      "[CV 3/5] END max_depth=7, max_features=auto, n_estimators=500;, score=0.999 total time= 1.7min\n",
      "[CV 4/5] END max_depth=7, max_features=auto, n_estimators=500;, score=0.999 total time= 1.7min\n",
      "[CV 5/5] END max_depth=7, max_features=auto, n_estimators=500;, score=0.999 total time= 1.8min\n",
      "[CV 1/5] END max_depth=7, max_features=auto, n_estimators=1000;, score=0.999 total time= 3.5min\n",
      "[CV 2/5] END max_depth=7, max_features=auto, n_estimators=1000;, score=0.999 total time= 3.6min\n",
      "[CV 3/5] END max_depth=7, max_features=auto, n_estimators=1000;, score=0.999 total time= 3.7min\n",
      "[CV 4/5] END max_depth=7, max_features=auto, n_estimators=1000;, score=0.999 total time= 3.5min\n",
      "[CV 5/5] END max_depth=7, max_features=auto, n_estimators=1000;, score=0.999 total time= 3.5min\n",
      "[CV 1/5] END max_depth=9, max_features=0.1, n_estimators=100;, score=0.995 total time=  19.4s\n",
      "[CV 2/5] END max_depth=9, max_features=0.1, n_estimators=100;, score=0.965 total time=  19.5s\n",
      "[CV 3/5] END max_depth=9, max_features=0.1, n_estimators=100;, score=0.994 total time=  19.6s\n",
      "[CV 4/5] END max_depth=9, max_features=0.1, n_estimators=100;, score=0.985 total time=  19.6s\n",
      "[CV 5/5] END max_depth=9, max_features=0.1, n_estimators=100;, score=0.967 total time=  19.7s\n",
      "[CV 1/5] END max_depth=9, max_features=0.1, n_estimators=200;, score=0.997 total time=  37.7s\n",
      "[CV 2/5] END max_depth=9, max_features=0.1, n_estimators=200;, score=0.996 total time=  36.8s\n",
      "[CV 3/5] END max_depth=9, max_features=0.1, n_estimators=200;, score=0.997 total time=  36.5s\n",
      "[CV 4/5] END max_depth=9, max_features=0.1, n_estimators=200;, score=0.997 total time=  37.0s\n",
      "[CV 5/5] END max_depth=9, max_features=0.1, n_estimators=200;, score=0.988 total time=  36.2s\n",
      "[CV 1/5] END max_depth=9, max_features=0.1, n_estimators=500;, score=0.997 total time= 1.5min\n",
      "[CV 2/5] END max_depth=9, max_features=0.1, n_estimators=500;, score=0.997 total time= 1.5min\n",
      "[CV 3/5] END max_depth=9, max_features=0.1, n_estimators=500;, score=0.997 total time= 1.5min\n",
      "[CV 4/5] END max_depth=9, max_features=0.1, n_estimators=500;, score=0.997 total time= 1.5min\n",
      "[CV 5/5] END max_depth=9, max_features=0.1, n_estimators=500;, score=0.997 total time= 1.5min\n",
      "[CV 1/5] END max_depth=9, max_features=0.1, n_estimators=1000;, score=0.997 total time= 3.0min\n",
      "[CV 2/5] END max_depth=9, max_features=0.1, n_estimators=1000;, score=0.997 total time= 3.0min\n",
      "[CV 3/5] END max_depth=9, max_features=0.1, n_estimators=1000;, score=0.997 total time= 2.9min\n",
      "[CV 4/5] END max_depth=9, max_features=0.1, n_estimators=1000;, score=0.997 total time= 3.0min\n",
      "[CV 5/5] END max_depth=9, max_features=0.1, n_estimators=1000;, score=0.997 total time= 3.0min\n",
      "[CV 1/5] END max_depth=9, max_features=0.5, n_estimators=100;, score=1.000 total time=  30.5s\n",
      "[CV 2/5] END max_depth=9, max_features=0.5, n_estimators=100;, score=1.000 total time=  30.4s\n",
      "[CV 3/5] END max_depth=9, max_features=0.5, n_estimators=100;, score=1.000 total time=  30.2s\n",
      "[CV 4/5] END max_depth=9, max_features=0.5, n_estimators=100;, score=1.000 total time=  30.6s\n",
      "[CV 5/5] END max_depth=9, max_features=0.5, n_estimators=100;, score=1.000 total time=  31.0s\n",
      "[CV 1/5] END max_depth=9, max_features=0.5, n_estimators=200;, score=1.000 total time=  58.7s\n",
      "[CV 2/5] END max_depth=9, max_features=0.5, n_estimators=200;, score=1.000 total time=  58.9s\n",
      "[CV 3/5] END max_depth=9, max_features=0.5, n_estimators=200;, score=1.000 total time=  59.3s\n",
      "[CV 4/5] END max_depth=9, max_features=0.5, n_estimators=200;, score=1.000 total time=  59.3s\n",
      "[CV 5/5] END max_depth=9, max_features=0.5, n_estimators=200;, score=1.000 total time=  58.9s\n",
      "[CV 1/5] END max_depth=9, max_features=0.5, n_estimators=500;, score=1.000 total time= 2.4min\n",
      "[CV 2/5] END max_depth=9, max_features=0.5, n_estimators=500;, score=1.000 total time= 2.4min\n",
      "[CV 3/5] END max_depth=9, max_features=0.5, n_estimators=500;, score=1.000 total time= 2.4min\n",
      "[CV 4/5] END max_depth=9, max_features=0.5, n_estimators=500;, score=1.000 total time= 2.4min\n",
      "[CV 5/5] END max_depth=9, max_features=0.5, n_estimators=500;, score=1.000 total time= 2.4min\n",
      "[CV 1/5] END max_depth=9, max_features=0.5, n_estimators=1000;, score=1.000 total time= 4.8min\n",
      "[CV 2/5] END max_depth=9, max_features=0.5, n_estimators=1000;, score=1.000 total time= 4.8min\n",
      "[CV 3/5] END max_depth=9, max_features=0.5, n_estimators=1000;, score=1.000 total time= 4.8min\n",
      "[CV 4/5] END max_depth=9, max_features=0.5, n_estimators=1000;, score=1.000 total time= 4.8min\n",
      "[CV 5/5] END max_depth=9, max_features=0.5, n_estimators=1000;, score=1.000 total time= 4.8min\n",
      "[CV 1/5] END max_depth=9, max_features=0.75, n_estimators=100;, score=1.000 total time=  39.8s\n",
      "[CV 2/5] END max_depth=9, max_features=0.75, n_estimators=100;, score=1.000 total time=  38.1s\n",
      "[CV 3/5] END max_depth=9, max_features=0.75, n_estimators=100;, score=1.000 total time=  38.9s\n",
      "[CV 4/5] END max_depth=9, max_features=0.75, n_estimators=100;, score=1.000 total time=  39.5s\n",
      "[CV 5/5] END max_depth=9, max_features=0.75, n_estimators=100;, score=1.000 total time=  38.7s\n",
      "[CV 1/5] END max_depth=9, max_features=0.75, n_estimators=200;, score=1.000 total time= 1.3min\n",
      "[CV 2/5] END max_depth=9, max_features=0.75, n_estimators=200;, score=1.000 total time= 1.3min\n",
      "[CV 3/5] END max_depth=9, max_features=0.75, n_estimators=200;, score=1.000 total time= 1.3min\n",
      "[CV 4/5] END max_depth=9, max_features=0.75, n_estimators=200;, score=1.000 total time= 1.3min\n",
      "[CV 5/5] END max_depth=9, max_features=0.75, n_estimators=200;, score=1.000 total time= 1.3min\n",
      "[CV 1/5] END max_depth=9, max_features=0.75, n_estimators=500;, score=1.000 total time= 3.1min\n",
      "[CV 2/5] END max_depth=9, max_features=0.75, n_estimators=500;, score=1.000 total time= 3.1min\n",
      "[CV 3/5] END max_depth=9, max_features=0.75, n_estimators=500;, score=1.000 total time= 3.1min\n",
      "[CV 4/5] END max_depth=9, max_features=0.75, n_estimators=500;, score=1.000 total time= 3.1min\n",
      "[CV 5/5] END max_depth=9, max_features=0.75, n_estimators=500;, score=1.000 total time= 3.1min\n",
      "[CV 1/5] END max_depth=9, max_features=0.75, n_estimators=1000;, score=1.000 total time= 6.2min\n",
      "[CV 2/5] END max_depth=9, max_features=0.75, n_estimators=1000;, score=1.000 total time= 6.2min\n",
      "[CV 3/5] END max_depth=9, max_features=0.75, n_estimators=1000;, score=1.000 total time= 6.2min\n",
      "[CV 4/5] END max_depth=9, max_features=0.75, n_estimators=1000;, score=1.000 total time= 6.2min\n",
      "[CV 5/5] END max_depth=9, max_features=0.75, n_estimators=1000;, score=1.000 total time= 6.2min\n",
      "[CV 1/5] END max_depth=9, max_features=auto, n_estimators=100;, score=1.000 total time=  23.1s\n",
      "[CV 2/5] END max_depth=9, max_features=auto, n_estimators=100;, score=1.000 total time=  23.6s\n",
      "[CV 3/5] END max_depth=9, max_features=auto, n_estimators=100;, score=1.000 total time=  23.7s\n",
      "[CV 4/5] END max_depth=9, max_features=auto, n_estimators=100;, score=1.000 total time=  23.1s\n",
      "[CV 5/5] END max_depth=9, max_features=auto, n_estimators=100;, score=1.000 total time=  23.5s\n",
      "[CV 1/5] END max_depth=9, max_features=auto, n_estimators=200;, score=1.000 total time=  46.3s\n",
      "[CV 2/5] END max_depth=9, max_features=auto, n_estimators=200;, score=1.000 total time=  46.0s\n",
      "[CV 3/5] END max_depth=9, max_features=auto, n_estimators=200;, score=1.000 total time=  46.7s\n",
      "[CV 4/5] END max_depth=9, max_features=auto, n_estimators=200;, score=1.000 total time=  45.7s\n",
      "[CV 5/5] END max_depth=9, max_features=auto, n_estimators=200;, score=1.000 total time=  46.7s\n",
      "[CV 1/5] END max_depth=9, max_features=auto, n_estimators=500;, score=1.000 total time= 1.8min\n",
      "[CV 2/5] END max_depth=9, max_features=auto, n_estimators=500;, score=1.000 total time= 1.9min\n",
      "[CV 3/5] END max_depth=9, max_features=auto, n_estimators=500;, score=1.000 total time= 1.8min\n",
      "[CV 4/5] END max_depth=9, max_features=auto, n_estimators=500;, score=1.000 total time= 1.9min\n",
      "[CV 5/5] END max_depth=9, max_features=auto, n_estimators=500;, score=1.000 total time= 1.8min\n",
      "[CV 1/5] END max_depth=9, max_features=auto, n_estimators=1000;, score=1.000 total time= 3.6min\n",
      "[CV 2/5] END max_depth=9, max_features=auto, n_estimators=1000;, score=1.000 total time= 3.7min\n",
      "[CV 3/5] END max_depth=9, max_features=auto, n_estimators=1000;, score=1.000 total time= 3.7min\n",
      "[CV 4/5] END max_depth=9, max_features=auto, n_estimators=1000;, score=1.000 total time= 3.7min\n",
      "[CV 5/5] END max_depth=9, max_features=auto, n_estimators=1000;, score=1.000 total time= 3.7min\n",
      "[CV 1/5] END max_depth=11, max_features=0.1, n_estimators=100;, score=0.995 total time=  20.1s\n",
      "[CV 2/5] END max_depth=11, max_features=0.1, n_estimators=100;, score=0.969 total time=  19.0s\n",
      "[CV 3/5] END max_depth=11, max_features=0.1, n_estimators=100;, score=0.995 total time=  19.7s\n",
      "[CV 4/5] END max_depth=11, max_features=0.1, n_estimators=100;, score=0.985 total time=  20.8s\n",
      "[CV 5/5] END max_depth=11, max_features=0.1, n_estimators=100;, score=0.967 total time=  19.8s\n",
      "[CV 1/5] END max_depth=11, max_features=0.1, n_estimators=200;, score=0.997 total time=  38.9s\n",
      "[CV 2/5] END max_depth=11, max_features=0.1, n_estimators=200;, score=0.996 total time=  39.0s\n",
      "[CV 3/5] END max_depth=11, max_features=0.1, n_estimators=200;, score=0.997 total time=  36.9s\n",
      "[CV 4/5] END max_depth=11, max_features=0.1, n_estimators=200;, score=0.997 total time=  38.5s\n",
      "[CV 5/5] END max_depth=11, max_features=0.1, n_estimators=200;, score=0.989 total time=  42.1s\n",
      "[CV 1/5] END max_depth=11, max_features=0.1, n_estimators=500;, score=0.997 total time= 1.5min\n",
      "[CV 2/5] END max_depth=11, max_features=0.1, n_estimators=500;, score=0.997 total time= 1.5min\n",
      "[CV 3/5] END max_depth=11, max_features=0.1, n_estimators=500;, score=0.997 total time= 1.5min\n",
      "[CV 4/5] END max_depth=11, max_features=0.1, n_estimators=500;, score=0.997 total time= 1.5min\n",
      "[CV 5/5] END max_depth=11, max_features=0.1, n_estimators=500;, score=0.997 total time= 1.5min\n",
      "[CV 1/5] END max_depth=11, max_features=0.1, n_estimators=1000;, score=0.997 total time= 3.0min\n",
      "[CV 2/5] END max_depth=11, max_features=0.1, n_estimators=1000;, score=0.997 total time= 3.0min\n",
      "[CV 3/5] END max_depth=11, max_features=0.1, n_estimators=1000;, score=0.997 total time= 3.0min\n",
      "[CV 4/5] END max_depth=11, max_features=0.1, n_estimators=1000;, score=0.997 total time= 3.0min\n",
      "[CV 5/5] END max_depth=11, max_features=0.1, n_estimators=1000;, score=0.997 total time= 3.0min\n",
      "[CV 1/5] END max_depth=11, max_features=0.5, n_estimators=100;, score=1.000 total time=  31.7s\n",
      "[CV 2/5] END max_depth=11, max_features=0.5, n_estimators=100;, score=1.000 total time=  31.0s\n",
      "[CV 3/5] END max_depth=11, max_features=0.5, n_estimators=100;, score=1.000 total time=  31.7s\n",
      "[CV 4/5] END max_depth=11, max_features=0.5, n_estimators=100;, score=1.000 total time=  31.5s\n",
      "[CV 5/5] END max_depth=11, max_features=0.5, n_estimators=100;, score=1.000 total time=  32.0s\n",
      "[CV 1/5] END max_depth=11, max_features=0.5, n_estimators=200;, score=1.000 total time= 1.0min\n",
      "[CV 2/5] END max_depth=11, max_features=0.5, n_estimators=200;, score=1.000 total time= 1.0min\n",
      "[CV 3/5] END max_depth=11, max_features=0.5, n_estimators=200;, score=1.000 total time= 1.0min\n",
      "[CV 4/5] END max_depth=11, max_features=0.5, n_estimators=200;, score=1.000 total time= 1.0min\n",
      "[CV 5/5] END max_depth=11, max_features=0.5, n_estimators=200;, score=1.000 total time= 1.0min\n",
      "[CV 1/5] END max_depth=11, max_features=0.5, n_estimators=500;, score=1.000 total time= 2.5min\n",
      "[CV 2/5] END max_depth=11, max_features=0.5, n_estimators=500;, score=1.000 total time= 2.5min\n",
      "[CV 3/5] END max_depth=11, max_features=0.5, n_estimators=500;, score=1.000 total time= 2.5min\n",
      "[CV 4/5] END max_depth=11, max_features=0.5, n_estimators=500;, score=1.000 total time= 2.5min\n",
      "[CV 5/5] END max_depth=11, max_features=0.5, n_estimators=500;, score=1.000 total time= 2.5min\n",
      "[CV 1/5] END max_depth=11, max_features=0.5, n_estimators=1000;, score=1.000 total time= 4.9min\n",
      "[CV 2/5] END max_depth=11, max_features=0.5, n_estimators=1000;, score=1.000 total time= 4.9min\n",
      "[CV 3/5] END max_depth=11, max_features=0.5, n_estimators=1000;, score=1.000 total time= 4.9min\n",
      "[CV 4/5] END max_depth=11, max_features=0.5, n_estimators=1000;, score=1.000 total time= 5.0min\n",
      "[CV 5/5] END max_depth=11, max_features=0.5, n_estimators=1000;, score=1.000 total time= 5.0min\n",
      "[CV 1/5] END max_depth=11, max_features=0.75, n_estimators=100;, score=1.000 total time=  40.8s\n",
      "[CV 2/5] END max_depth=11, max_features=0.75, n_estimators=100;, score=1.000 total time=  40.9s\n",
      "[CV 3/5] END max_depth=11, max_features=0.75, n_estimators=100;, score=1.000 total time=  40.5s\n",
      "[CV 4/5] END max_depth=11, max_features=0.75, n_estimators=100;, score=1.000 total time=  40.2s\n",
      "[CV 5/5] END max_depth=11, max_features=0.75, n_estimators=100;, score=1.000 total time=  40.7s\n",
      "[CV 1/5] END max_depth=11, max_features=0.75, n_estimators=200;, score=1.000 total time= 1.3min\n",
      "[CV 2/5] END max_depth=11, max_features=0.75, n_estimators=200;, score=1.000 total time= 1.3min\n",
      "[CV 3/5] END max_depth=11, max_features=0.75, n_estimators=200;, score=1.000 total time= 1.3min\n",
      "[CV 4/5] END max_depth=11, max_features=0.75, n_estimators=200;, score=1.000 total time= 1.3min\n",
      "[CV 5/5] END max_depth=11, max_features=0.75, n_estimators=200;, score=1.000 total time= 1.3min\n",
      "[CV 1/5] END max_depth=11, max_features=0.75, n_estimators=500;, score=1.000 total time= 3.2min\n",
      "[CV 2/5] END max_depth=11, max_features=0.75, n_estimators=500;, score=1.000 total time= 3.2min\n",
      "[CV 3/5] END max_depth=11, max_features=0.75, n_estimators=500;, score=1.000 total time= 3.2min\n",
      "[CV 4/5] END max_depth=11, max_features=0.75, n_estimators=500;, score=1.000 total time= 3.2min\n",
      "[CV 5/5] END max_depth=11, max_features=0.75, n_estimators=500;, score=1.000 total time= 3.2min\n",
      "[CV 1/5] END max_depth=11, max_features=0.75, n_estimators=1000;, score=1.000 total time= 6.5min\n",
      "[CV 2/5] END max_depth=11, max_features=0.75, n_estimators=1000;, score=1.000 total time= 6.4min\n",
      "[CV 3/5] END max_depth=11, max_features=0.75, n_estimators=1000;, score=1.000 total time= 6.4min\n",
      "[CV 4/5] END max_depth=11, max_features=0.75, n_estimators=1000;, score=1.000 total time= 6.4min\n",
      "[CV 5/5] END max_depth=11, max_features=0.75, n_estimators=1000;, score=1.000 total time= 6.5min\n",
      "[CV 1/5] END max_depth=11, max_features=auto, n_estimators=100;, score=1.000 total time=  24.8s\n",
      "[CV 2/5] END max_depth=11, max_features=auto, n_estimators=100;, score=1.000 total time=  23.7s\n",
      "[CV 3/5] END max_depth=11, max_features=auto, n_estimators=100;, score=1.000 total time=  24.6s\n",
      "[CV 4/5] END max_depth=11, max_features=auto, n_estimators=100;, score=1.000 total time=  24.5s\n",
      "[CV 5/5] END max_depth=11, max_features=auto, n_estimators=100;, score=1.000 total time=  25.8s\n",
      "[CV 1/5] END max_depth=11, max_features=auto, n_estimators=200;, score=1.000 total time=  47.0s\n",
      "[CV 2/5] END max_depth=11, max_features=auto, n_estimators=200;, score=1.000 total time=  47.1s\n",
      "[CV 3/5] END max_depth=11, max_features=auto, n_estimators=200;, score=1.000 total time=  51.9s\n",
      "[CV 4/5] END max_depth=11, max_features=auto, n_estimators=200;, score=1.000 total time=  51.2s\n",
      "[CV 5/5] END max_depth=11, max_features=auto, n_estimators=200;, score=1.000 total time=  46.5s\n",
      "[CV 1/5] END max_depth=11, max_features=auto, n_estimators=500;, score=1.000 total time= 1.9min\n",
      "[CV 2/5] END max_depth=11, max_features=auto, n_estimators=500;, score=1.000 total time= 1.9min\n",
      "[CV 3/5] END max_depth=11, max_features=auto, n_estimators=500;, score=1.000 total time= 1.9min\n",
      "[CV 4/5] END max_depth=11, max_features=auto, n_estimators=500;, score=1.000 total time= 1.9min\n",
      "[CV 5/5] END max_depth=11, max_features=auto, n_estimators=500;, score=1.000 total time= 1.9min\n",
      "[CV 1/5] END max_depth=11, max_features=auto, n_estimators=1000;, score=1.000 total time= 3.8min\n",
      "[CV 2/5] END max_depth=11, max_features=auto, n_estimators=1000;, score=1.000 total time= 3.8min\n",
      "[CV 3/5] END max_depth=11, max_features=auto, n_estimators=1000;, score=1.000 total time= 3.8min\n",
      "[CV 4/5] END max_depth=11, max_features=auto, n_estimators=1000;, score=1.000 total time= 3.8min\n",
      "[CV 5/5] END max_depth=11, max_features=auto, n_estimators=1000;, score=1.000 total time= 3.8min\n",
      "[CV 1/5] END max_depth=13, max_features=0.1, n_estimators=100;, score=0.995 total time=  19.4s\n",
      "[CV 2/5] END max_depth=13, max_features=0.1, n_estimators=100;, score=0.972 total time=  20.3s\n",
      "[CV 3/5] END max_depth=13, max_features=0.1, n_estimators=100;, score=0.995 total time=  20.0s\n",
      "[CV 4/5] END max_depth=13, max_features=0.1, n_estimators=100;, score=0.985 total time=  18.8s\n",
      "[CV 5/5] END max_depth=13, max_features=0.1, n_estimators=100;, score=0.967 total time=  19.2s\n",
      "[CV 1/5] END max_depth=13, max_features=0.1, n_estimators=200;, score=0.997 total time=  38.1s\n",
      "[CV 2/5] END max_depth=13, max_features=0.1, n_estimators=200;, score=0.997 total time=  37.4s\n",
      "[CV 3/5] END max_depth=13, max_features=0.1, n_estimators=200;, score=0.997 total time=  48.7s\n",
      "[CV 4/5] END max_depth=13, max_features=0.1, n_estimators=200;, score=0.997 total time=  40.6s\n",
      "[CV 5/5] END max_depth=13, max_features=0.1, n_estimators=200;, score=0.989 total time=  37.6s\n",
      "[CV 1/5] END max_depth=13, max_features=0.1, n_estimators=500;, score=0.997 total time= 1.5min\n",
      "[CV 2/5] END max_depth=13, max_features=0.1, n_estimators=500;, score=0.997 total time= 1.5min\n",
      "[CV 3/5] END max_depth=13, max_features=0.1, n_estimators=500;, score=0.997 total time= 1.5min\n",
      "[CV 4/5] END max_depth=13, max_features=0.1, n_estimators=500;, score=0.997 total time= 1.5min\n",
      "[CV 5/5] END max_depth=13, max_features=0.1, n_estimators=500;, score=0.997 total time= 1.5min\n",
      "[CV 1/5] END max_depth=13, max_features=0.1, n_estimators=1000;, score=0.997 total time= 3.0min\n",
      "[CV 2/5] END max_depth=13, max_features=0.1, n_estimators=1000;, score=0.997 total time= 3.0min\n",
      "[CV 3/5] END max_depth=13, max_features=0.1, n_estimators=1000;, score=0.997 total time= 3.0min\n",
      "[CV 4/5] END max_depth=13, max_features=0.1, n_estimators=1000;, score=0.997 total time= 3.0min\n",
      "[CV 5/5] END max_depth=13, max_features=0.1, n_estimators=1000;, score=0.997 total time= 3.0min\n",
      "[CV 1/5] END max_depth=13, max_features=0.5, n_estimators=100;, score=1.000 total time=  31.9s\n",
      "[CV 2/5] END max_depth=13, max_features=0.5, n_estimators=100;, score=1.000 total time=  31.7s\n",
      "[CV 3/5] END max_depth=13, max_features=0.5, n_estimators=100;, score=1.000 total time=  31.6s\n",
      "[CV 4/5] END max_depth=13, max_features=0.5, n_estimators=100;, score=1.000 total time=  33.4s\n",
      "[CV 5/5] END max_depth=13, max_features=0.5, n_estimators=100;, score=1.000 total time=  32.2s\n",
      "[CV 1/5] END max_depth=13, max_features=0.5, n_estimators=200;, score=1.000 total time= 1.1min\n",
      "[CV 2/5] END max_depth=13, max_features=0.5, n_estimators=200;, score=1.000 total time= 1.3min\n",
      "[CV 3/5] END max_depth=13, max_features=0.5, n_estimators=200;, score=1.000 total time= 1.1min\n",
      "[CV 4/5] END max_depth=13, max_features=0.5, n_estimators=200;, score=1.000 total time= 1.0min\n",
      "[CV 5/5] END max_depth=13, max_features=0.5, n_estimators=200;, score=1.000 total time= 1.0min\n",
      "[CV 1/5] END max_depth=13, max_features=0.5, n_estimators=500;, score=1.000 total time= 2.5min\n",
      "[CV 2/5] END max_depth=13, max_features=0.5, n_estimators=500;, score=1.000 total time= 2.5min\n",
      "[CV 3/5] END max_depth=13, max_features=0.5, n_estimators=500;, score=1.000 total time= 2.5min\n",
      "[CV 4/5] END max_depth=13, max_features=0.5, n_estimators=500;, score=1.000 total time= 2.5min\n",
      "[CV 5/5] END max_depth=13, max_features=0.5, n_estimators=500;, score=1.000 total time= 2.5min\n",
      "[CV 1/5] END max_depth=13, max_features=0.5, n_estimators=1000;, score=1.000 total time= 5.0min\n",
      "[CV 2/5] END max_depth=13, max_features=0.5, n_estimators=1000;, score=1.000 total time= 4.9min\n",
      "[CV 3/5] END max_depth=13, max_features=0.5, n_estimators=1000;, score=1.000 total time= 5.0min\n",
      "[CV 4/5] END max_depth=13, max_features=0.5, n_estimators=1000;, score=1.000 total time= 5.0min\n",
      "[CV 5/5] END max_depth=13, max_features=0.5, n_estimators=1000;, score=1.000 total time= 5.0min\n",
      "[CV 1/5] END max_depth=13, max_features=0.75, n_estimators=100;, score=1.000 total time=  41.9s\n",
      "[CV 2/5] END max_depth=13, max_features=0.75, n_estimators=100;, score=1.000 total time=  40.2s\n",
      "[CV 3/5] END max_depth=13, max_features=0.75, n_estimators=100;, score=1.000 total time=  40.9s\n",
      "[CV 4/5] END max_depth=13, max_features=0.75, n_estimators=100;, score=1.000 total time=  40.6s\n",
      "[CV 5/5] END max_depth=13, max_features=0.75, n_estimators=100;, score=1.000 total time=  46.7s\n",
      "[CV 1/5] END max_depth=13, max_features=0.75, n_estimators=200;, score=1.000 total time= 1.6min\n",
      "[CV 2/5] END max_depth=13, max_features=0.75, n_estimators=200;, score=1.000 total time= 1.4min\n",
      "[CV 3/5] END max_depth=13, max_features=0.75, n_estimators=200;, score=1.000 total time= 1.3min\n",
      "[CV 4/5] END max_depth=13, max_features=0.75, n_estimators=200;, score=1.000 total time= 1.3min\n",
      "[CV 5/5] END max_depth=13, max_features=0.75, n_estimators=200;, score=1.000 total time= 1.3min\n",
      "[CV 1/5] END max_depth=13, max_features=0.75, n_estimators=500;, score=1.000 total time= 3.3min\n",
      "[CV 2/5] END max_depth=13, max_features=0.75, n_estimators=500;, score=1.000 total time= 3.3min\n",
      "[CV 3/5] END max_depth=13, max_features=0.75, n_estimators=500;, score=1.000 total time= 3.3min\n",
      "[CV 4/5] END max_depth=13, max_features=0.75, n_estimators=500;, score=1.000 total time= 3.3min\n",
      "[CV 5/5] END max_depth=13, max_features=0.75, n_estimators=500;, score=1.000 total time= 3.3min\n",
      "[CV 1/5] END max_depth=13, max_features=0.75, n_estimators=1000;, score=1.000 total time= 6.5min\n",
      "[CV 2/5] END max_depth=13, max_features=0.75, n_estimators=1000;, score=1.000 total time= 6.5min\n",
      "[CV 3/5] END max_depth=13, max_features=0.75, n_estimators=1000;, score=1.000 total time= 6.5min\n",
      "[CV 4/5] END max_depth=13, max_features=0.75, n_estimators=1000;, score=1.000 total time= 6.5min\n",
      "[CV 5/5] END max_depth=13, max_features=0.75, n_estimators=1000;, score=1.000 total time= 6.6min\n",
      "[CV 1/5] END max_depth=13, max_features=auto, n_estimators=100;, score=1.000 total time=  24.5s\n",
      "[CV 2/5] END max_depth=13, max_features=auto, n_estimators=100;, score=1.000 total time=  24.6s\n",
      "[CV 3/5] END max_depth=13, max_features=auto, n_estimators=100;, score=1.000 total time=  24.6s\n",
      "[CV 4/5] END max_depth=13, max_features=auto, n_estimators=100;, score=1.000 total time=  27.0s\n",
      "[CV 5/5] END max_depth=13, max_features=auto, n_estimators=100;, score=1.000 total time=  25.1s\n",
      "[CV 1/5] END max_depth=13, max_features=auto, n_estimators=200;, score=1.000 total time=  47.0s\n",
      "[CV 2/5] END max_depth=13, max_features=auto, n_estimators=200;, score=1.000 total time=  49.8s\n",
      "[CV 3/5] END max_depth=13, max_features=auto, n_estimators=200;, score=1.000 total time=  48.0s\n",
      "[CV 4/5] END max_depth=13, max_features=auto, n_estimators=200;, score=1.000 total time=  47.0s\n",
      "[CV 5/5] END max_depth=13, max_features=auto, n_estimators=200;, score=1.000 total time=  46.5s\n",
      "[CV 1/5] END max_depth=13, max_features=auto, n_estimators=500;, score=1.000 total time= 1.9min\n",
      "[CV 2/5] END max_depth=13, max_features=auto, n_estimators=500;, score=1.000 total time= 1.9min\n",
      "[CV 3/5] END max_depth=13, max_features=auto, n_estimators=500;, score=1.000 total time= 1.9min\n",
      "[CV 4/5] END max_depth=13, max_features=auto, n_estimators=500;, score=1.000 total time= 1.9min\n",
      "[CV 5/5] END max_depth=13, max_features=auto, n_estimators=500;, score=1.000 total time= 1.9min\n",
      "[CV 1/5] END max_depth=13, max_features=auto, n_estimators=1000;, score=1.000 total time= 3.9min\n",
      "[CV 2/5] END max_depth=13, max_features=auto, n_estimators=1000;, score=1.000 total time= 3.8min\n",
      "[CV 3/5] END max_depth=13, max_features=auto, n_estimators=1000;, score=1.000 total time= 3.8min\n",
      "[CV 4/5] END max_depth=13, max_features=auto, n_estimators=1000;, score=1.000 total time= 3.9min\n",
      "[CV 5/5] END max_depth=13, max_features=auto, n_estimators=1000;, score=1.000 total time= 3.9min\n",
      "Best clf and score RandomForestClassifier() 0.9996403853303416\n",
      "---\n",
      "\n",
      "                     RF-gpu-grid time:  53034.19690\n",
      "Searched over 96 parameters\n",
      "CPU times: user 1d 11h 1min 12s, sys: 12h 1min 6s, total: 1d 23h 2min 18s\n",
      "Wall time: 14h 43min 54s\n"
     ]
    }
   ],
   "source": [
    "%%time\n",
    "#  RF-gpu-grid time:  53034.19690\n",
    "# Searched over 96 parameters\n",
    "# CPU times: user 1d 11h 1min 12s, sys: 12h 1min 6s, total: 1d 23h 2min 18s\n",
    "# Wall time: 14h 43min 54s\n",
    "\n",
    "#Set to HPO to gridsearch mode\n",
    "mode = \"gpu-grid\"\n",
    "\n",
    "#Execute HPO with 'timed' function\n",
    "with timed(\"RF-\" + mode):\n",
    "    res, results = do_HPO(\n",
    "        model_rf,\n",
    "        params_rf,\n",
    "        cuml_accuracy_scorer,\n",
    "        X_train,\n",
    "        y_train,\n",
    "        mode=mode,\n",
    "        n_iter=N_ITER,\n",
    "    )\n",
    "\n",
    "#Report Results for best model hyperparameters\n",
    "print(\"Searched over {} parameters\".format(len(results.cv_results_[\"mean_test_score\"])))"
   ]
  },
  {
   "cell_type": "code",
   "execution_count": 34,
   "metadata": {},
   "outputs": [
    {
     "name": "stdout",
     "output_type": "stream",
     "text": [
      "Improved acc:  0.9996417164802551\n"
     ]
    }
   ],
   "source": [
    "#Get improved model accuracy - Improved acc:  0.9996417164802551\n",
    "# print(\"Improved acc: \", accuracy_score(res.predict(X_test), y_test))"
   ]
  },
  {
   "cell_type": "code",
   "execution_count": 24,
   "metadata": {},
   "outputs": [],
   "source": [
    "#Tabluate gridsearch results\n",
    "# rf_gridsearch_res_df = pd.concat([pd.DataFrame(results.cv_results_[\"params\"]),pd.DataFrame(results.cv_results_[\"mean_test_score\"], columns=[\"Accuracy\"])],axis=1)\n",
    "# rf_gridsearch_res_df.to_csv('trained_models/rf_gridsearch_res.csv', index=False)\n",
    "# rf_gridsearch_res_df"
   ]
  },
  {
   "cell_type": "code",
   "execution_count": 35,
   "metadata": {},
   "outputs": [
    {
     "data": {
      "image/png": "[encoded data removed]",
      "text/plain": [
       "<Figure size 640x480 with 2 Axes>"
      ]
     },
     "metadata": {},
     "output_type": "display_data"
    }
   ],
   "source": [
    "# from cuml.experimental.hyperopt_utils import plotting_utils\n",
    "# df_gridsearch = pd.DataFrame(results.cv_results_)\n",
    "# plotting_utils.plot_heatmap(df_gridsearch, \"param_max_depth\", \"param_n_estimators\")"
   ]
  },
  {
   "cell_type": "code",
   "execution_count": 36,
   "metadata": {},
   "outputs": [
    {
     "data": {
      "text/plain": [
       "{'max_depth': 13, 'max_features': 0.5, 'n_estimators': 200}"
      ]
     },
     "execution_count": 36,
     "metadata": {},
     "output_type": "execute_result"
    }
   ],
   "source": [
    "#{'max_depth': 13, 'max_features': 0.5, 'n_estimators': 200}\n",
    "# results.best_params_"
   ]
  },
  {
   "cell_type": "markdown",
   "metadata": {},
   "source": [
    "# Train and Test with Official Parameters"
   ]
  },
  {
   "cell_type": "code",
   "execution_count": 26,
   "metadata": {},
   "outputs": [],
   "source": [
    "# best_params_rfmodel = cuRandomForestClassifier(max_depth=13, max_features=0.5, n_estimators=200)"
   ]
  },
  {
   "cell_type": "code",
   "execution_count": 27,
   "metadata": {},
   "outputs": [
    {
     "name": "stdout",
     "output_type": "stream",
     "text": [
      "CPU times: user 3min 18s, sys: 1min 15s, total: 4min 33s\n",
      "Wall time: 1min 18s\n"
     ]
    }
   ],
   "source": [
    "%%time\n",
    "\n",
    "#Executes in 1min and 18secs\n",
    "# Fit the model to the training data\n",
    "# model = best_params_rfmodel.fit(X_train, y_train)"
   ]
  },
  {
   "cell_type": "code",
   "execution_count": 28,
   "metadata": {},
   "outputs": [
    {
     "name": "stdout",
     "output_type": "stream",
     "text": [
      "CPU times: user 610 ms, sys: 235 ms, total: 845 ms\n",
      "Wall time: 583 ms\n"
     ]
    }
   ],
   "source": [
    "%%time\n",
    "#Executes in 583ms\n",
    "# Make predictions on the testing data\n",
    "# y_pred = model.predict(X_test)"
   ]
  },
  {
   "cell_type": "markdown",
   "metadata": {},
   "source": [
    "# Evaluate Model"
   ]
  },
  {
   "cell_type": "code",
   "execution_count": 48,
   "metadata": {},
   "outputs": [],
   "source": [
    "#load model if already trained\n",
    "filename = '../trained_models/cuRF_model_HPO_9996accuracy.pkl'\n",
    "\n",
    "with open(filename, 'rb') as file:\n",
    "    best_params_rfmodel = pickle.load(file)\n",
    "y_pred = best_params_rfmodel.predict(X_test)\n"
   ]
  },
  {
   "cell_type": "code",
   "execution_count": 49,
   "metadata": {},
   "outputs": [
    {
     "name": "stdout",
     "output_type": "stream",
     "text": [
      "Accuracy: 0.9996417164802551\n",
      "Precision: 0.9996419100736285\n",
      "Recall: 0.9996417191301331\n",
      "F1 Score: 0.9996416920704301\n"
     ]
    }
   ],
   "source": [
    "#Calculate Scoring Metrics\n",
    "accuracy = accuracy_score(y_test, y_pred)\n",
    "precision = precision_score(y_test, y_pred, average='macro')\n",
    "recall = recall_score(y_test, y_pred, average='macro')\n",
    "f1 = f1_score(y_test, y_pred, average='macro')\n",
    "\n",
    "print(\"Accuracy:\", accuracy)\n",
    "print(\"Precision:\", precision)\n",
    "print(\"Recall:\", recall)\n",
    "print(\"F1 Score:\", f1)"
   ]
  },
  {
   "cell_type": "markdown",
   "metadata": {},
   "source": [
    "### Confusion Matrix"
   ]
  },
  {
   "cell_type": "code",
   "execution_count": 45,
   "metadata": {
    "id": "e4FaL4KHx5v0"
   },
   "outputs": [
    {
     "data": {
      "image/png": "[encoded data removed]",
      "text/plain": [
       "<Figure size 800x600 with 2 Axes>"
      ]
     },
     "metadata": {},
     "output_type": "display_data"
    }
   ],
   "source": [
    "# Create confusion matrix\n",
    "cm = confusion_matrix(y_test, y_pred)\n",
    "\n",
    "# Plot confusion matrix\n",
    "plt.figure(figsize=(8, 6))\n",
    "sns.heatmap(cm, annot=True, fmt='g', cmap='Blues', xticklabels=['Malicious', 'Benign'], yticklabels=['Malicious', 'Benign'])\n",
    "plt.xlabel('Predicted labels')\n",
    "plt.ylabel('True labels')\n",
    "plt.title('Random Forests Confusion Matrix')\n",
    "plt.savefig('../../Graphs/Conf_Mat/RF_HPO_CM_maxdepth13_maxfeatures05_nestimators200.png')\n",
    "plt.show()"
   ]
  },
  {
   "cell_type": "markdown",
   "metadata": {
    "id": "JkxLtPCMsott"
   },
   "source": [
    "### ROC Curve"
   ]
  },
  {
   "cell_type": "code",
   "execution_count": 38,
   "metadata": {
    "id": "DtmJJCAHrq92"
   },
   "outputs": [
    {
     "data": {
      "text/html": [
       "<div>\n",
       "<style scoped>\n",
       "    .dataframe tbody tr th:only-of-type {\n",
       "        vertical-align: middle;\n",
       "    }\n",
       "\n",
       "    .dataframe tbody tr th {\n",
       "        vertical-align: top;\n",
       "    }\n",
       "\n",
       "    .dataframe thead th {\n",
       "        text-align: right;\n",
       "    }\n",
       "</style>\n",
       "<table border=\"1\" class=\"dataframe\">\n",
       "  <thead>\n",
       "    <tr style=\"text-align: right;\">\n",
       "      <th></th>\n",
       "      <th>0</th>\n",
       "      <th>1</th>\n",
       "    </tr>\n",
       "  </thead>\n",
       "  <tbody>\n",
       "    <tr>\n",
       "      <th>1705238</th>\n",
       "      <td>0.000011</td>\n",
       "      <td>0.999989</td>\n",
       "    </tr>\n",
       "    <tr>\n",
       "      <th>13645399</th>\n",
       "      <td>0.999999</td>\n",
       "      <td>0.000001</td>\n",
       "    </tr>\n",
       "    <tr>\n",
       "      <th>1483525</th>\n",
       "      <td>0.000010</td>\n",
       "      <td>0.999990</td>\n",
       "    </tr>\n",
       "    <tr>\n",
       "      <th>5277299</th>\n",
       "      <td>0.000011</td>\n",
       "      <td>0.999989</td>\n",
       "    </tr>\n",
       "    <tr>\n",
       "      <th>1209595</th>\n",
       "      <td>0.000011</td>\n",
       "      <td>0.999989</td>\n",
       "    </tr>\n",
       "  </tbody>\n",
       "</table>\n",
       "</div>"
      ],
      "text/plain": [
       "                 0         1\n",
       "1705238   0.000011  0.999989\n",
       "13645399  0.999999  0.000001\n",
       "1483525   0.000010  0.999990\n",
       "5277299   0.000011  0.999989\n",
       "1209595   0.000011  0.999989"
      ]
     },
     "execution_count": 38,
     "metadata": {},
     "output_type": "execute_result"
    }
   ],
   "source": [
    "#Calculate model prediciton probabilities\n",
    "y_probs = model.predict_proba(X_test)\n",
    "y_probs.head()"
   ]
  },
  {
   "cell_type": "code",
   "execution_count": 49,
   "metadata": {
    "id": "t4WO5wPqytad"
   },
   "outputs": [
    {
     "data": {
      "image/png": "[encoded data removed]",
      "text/plain": [
       "<Figure size 800x600 with 1 Axes>"
      ]
     },
     "metadata": {},
     "output_type": "display_data"
    }
   ],
   "source": [
    "#Calculate prediction performance metrics\n",
    "fpr, tpr, thresholds = roc_curve(y_test, y_probs[1])\n",
    "roc_auc = auc(fpr, tpr)\n",
    "\n",
    "# Plot ROC curve\n",
    "plt.figure(figsize=(8, 6))\n",
    "plt.plot(fpr, tpr, color='darkorange', lw=2, label=f'ROC curve (AUC = {roc_auc:.6f})')\n",
    "plt.plot([0, 1], [0, 1], color='navy', lw=2, linestyle='--')\n",
    "plt.xlim([-0.005, 1.0])\n",
    "plt.ylim([-0.005, 1.05])\n",
    "plt.xlabel('False Positive Rate')\n",
    "plt.ylabel('True Positive Rate')\n",
    "plt.title('ROC Curve for Binary RandomForest Classifier')\n",
    "plt.legend(loc=\"lower right\")\n",
    "plt.savefig('../../Graphs/ROC_CUR/RF_HPO_ROC_maxdepth13_maxfeatures05_nestimators200.png')\n",
    "plt.show()"
   ]
  },
  {
   "cell_type": "markdown",
   "metadata": {},
   "source": [
    "# Saving Trained Model"
   ]
  },
  {
   "cell_type": "code",
   "execution_count": 69,
   "metadata": {},
   "outputs": [],
   "source": [
    "# import pickle\n",
    "\n",
    "# # Save the trained model using pickle\n",
    "# model_filename = 'cuRF_model_HPO_9996accuracy.pkl'\n",
    "# with open(model_filename, 'wb') as file:\n",
    "#     pickle.dump(model, file)"
   ]
  },
  {
   "cell_type": "code",
   "execution_count": null,
   "metadata": {},
   "outputs": [],
   "source": []
  }
 ],
 "metadata": {
  "accelerator": "GPU",
  "colab": {
   "provenance": []
  },
  "kernelspec": {
   "display_name": "Python 3 (ipykernel)",
   "language": "python",
   "name": "python3"
  },
  "language_info": {
   "codemirror_mode": {
    "name": "ipython",
    "version": 3
   },
   "file_extension": ".py",
   "mimetype": "text/x-python",
   "name": "python",
   "nbconvert_exporter": "python",
   "pygments_lexer": "ipython3",
   "version": "3.10.14"
  }
 },
 "nbformat": 4,
 "nbformat_minor": 4
}
