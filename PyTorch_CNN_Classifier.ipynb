{
 "cells": [
  {
   "cell_type": "markdown",
   "id": "dd133d19-e141-416c-8ec7-741bc37e7285",
   "metadata": {},
   "source": [
    "# Prepare Environment\n",
    "### Load Libraries and dependencies"
   ]
  },
  {
   "cell_type": "code",
   "execution_count": 12,
   "id": "3eb3e8d4-50e0-4e5f-8d3b-7a8d080b960d",
   "metadata": {},
   "outputs": [],
   "source": [
    "import torch\n",
    "import torch.nn as nn\n",
    "import torch.optim as optim\n",
    "import torch.optim.lr_scheduler as lr_scheduler\n",
    "from torch.utils.data import DataLoader, TensorDataset\n",
    "from sklearn.preprocessing import StandardScaler\n",
    "\n",
    "from sklearn.metrics import classification_report, confusion_matrix, roc_curve, auc, accuracy_score, precision_score, recall_score, f1_score\n",
    "import matplotlib.pyplot as plt\n",
    "import numpy as np\n",
    "import numpy as np\n",
    "import pandas as pd\n",
    "import seaborn as sns\n",
    "\n",
    "import os\n",
    "import gc\n",
    "from tqdm import tqdm\n",
    "import time"
   ]
  },
  {
   "cell_type": "code",
   "execution_count": 2,
   "id": "cc203648-a5a7-47f5-98a1-703076e640b9",
   "metadata": {},
   "outputs": [
    {
     "data": {
      "text/plain": [
       "0"
      ]
     },
     "execution_count": 2,
     "metadata": {},
     "output_type": "execute_result"
    }
   ],
   "source": [
    "torch.cuda.empty_cache()\n",
    "gc.collect()"
   ]
  },
  {
   "cell_type": "markdown",
   "id": "41bd0621-fa28-4191-80fc-fe2c233b4994",
   "metadata": {},
   "source": [
    "# Set GPU"
   ]
  },
  {
   "cell_type": "code",
   "execution_count": 3,
   "id": "8e59f6f9-734d-4ddf-a14d-3a417964514e",
   "metadata": {},
   "outputs": [
    {
     "name": "stdout",
     "output_type": "stream",
     "text": [
      "Fri Apr 26 06:23:03 2024       \n",
      "+---------------------------------------------------------------------------------------+\n",
      "| NVIDIA-SMI 535.171.04             Driver Version: 535.171.04   CUDA Version: 12.2     |\n",
      "|-----------------------------------------+----------------------+----------------------+\n",
      "| GPU  Name                 Persistence-M | Bus-Id        Disp.A | Volatile Uncorr. ECC |\n",
      "| Fan  Temp   Perf          Pwr:Usage/Cap |         Memory-Usage | GPU-Util  Compute M. |\n",
      "|                                         |                      |               MIG M. |\n",
      "|=========================================+======================+======================|\n",
      "|   0  NVIDIA GeForce RTX 3090        Off | 00000000:01:00.0 Off |                  N/A |\n",
      "|  0%   31C    P5              53W / 420W |   7155MiB / 24576MiB |      4%      Default |\n",
      "|                                         |                      |                  N/A |\n",
      "+-----------------------------------------+----------------------+----------------------+\n",
      "|   1  NVIDIA GeForce RTX 2060 ...    Off | 00000000:03:00.0  On |                  N/A |\n",
      "| 31%   52C    P0              61W / 184W |    138MiB /  8192MiB |     18%      Default |\n",
      "|                                         |                      |                  N/A |\n",
      "+-----------------------------------------+----------------------+----------------------+\n",
      "                                                                                         \n",
      "+---------------------------------------------------------------------------------------+\n",
      "| Processes:                                                                            |\n",
      "|  GPU   GI   CI        PID   Type   Process name                            GPU Memory |\n",
      "|        ID   ID                                                             Usage      |\n",
      "|=======================================================================================|\n",
      "|    0   N/A  N/A      1466      G   /usr/lib/xorg/Xorg                          375MiB |\n",
      "|    0   N/A  N/A      1704      G   /usr/bin/gnome-shell                         49MiB |\n",
      "|    0   N/A  N/A      3836      G   ...seed-version=20240424-080043.603000      109MiB |\n",
      "|    0   N/A  N/A      4202      C   ...x/miniconda3/envs/rapids/bin/python     4114MiB |\n",
      "|    0   N/A  N/A     42817      C   ...x/miniconda3/envs/rapids/bin/python     1434MiB |\n",
      "|    0   N/A  N/A     43301      G   EXCEL.EXE                                    54MiB |\n",
      "|    0   N/A  N/A     75233      C   ...x/miniconda3/envs/rapids/bin/python      446MiB |\n",
      "|    0   N/A  N/A     75284      C   ...x/miniconda3/envs/rapids/bin/python      254MiB |\n",
      "|    0   N/A  N/A     78640      C   ...x/miniconda3/envs/rapids/bin/python      254MiB |\n",
      "|    1   N/A  N/A      1466      G   /usr/lib/xorg/Xorg                          133MiB |\n",
      "+---------------------------------------------------------------------------------------+\n"
     ]
    }
   ],
   "source": [
    "!nvidia-smi"
   ]
  },
  {
   "cell_type": "code",
   "execution_count": 4,
   "id": "e8311697-f0d1-4f54-958f-20b85733b3e6",
   "metadata": {},
   "outputs": [
    {
     "name": "stdout",
     "output_type": "stream",
     "text": [
      "CUDA available: True\n",
      "Using device: cuda\n",
      "GPU 0: NVIDIA GeForce RTX 3090\n",
      "GPU ID being used: 0\n",
      "GPU in use is: NVIDIA GeForce RTX 3090\n"
     ]
    }
   ],
   "source": [
    "os.environ[\"CUDA_DEVICE_ORDER\"]=\"PCI_BUS_ID\" \n",
    "os.environ[\"CUDA_VISIBLE_DEVICES\"]=\"0\" #select 3090 Super\n",
    "\n",
    "# Check if CUDA is available\n",
    "cuda_available = torch.cuda.is_available()\n",
    "print(f\"CUDA available: {cuda_available}\")\n",
    "\n",
    "# Set the device to GPU if CUDA is available\n",
    "device = torch.device(\"cuda\" if cuda_available else \"cpu\")\n",
    "print(f\"Using device: {device}\")\n",
    "\n",
    "if torch.cuda.device_count() >= 2:\n",
    "    print(f\"{torch.cuda.device_count()} GPUs are available\")\n",
    "\n",
    "num_gpus = torch.cuda.device_count()\n",
    "for i in range(num_gpus):\n",
    "    print(f\"GPU {i}: {torch.cuda.get_device_name(i)}\")\n",
    "\n",
    "    \n",
    "# Example of moving a tensor to GPU\n",
    "if cuda_available:\n",
    "    #Get ID\n",
    "    gpu_id = torch.cuda.current_device()\n",
    "    print(f\"GPU ID being used: {gpu_id}\")\n",
    "\n",
    "    # Get the name of the current GPU\n",
    "    gpu_name = torch.cuda.get_device_name(gpu_id)\n",
    "    print(f\"GPU in use is: {gpu_name}\")\n",
    "\n",
    "else:\n",
    "    print(\"CUDA is not available. No GPU is being used.\")"
   ]
  },
  {
   "cell_type": "markdown",
   "id": "f9edfa74-bdfb-4bde-a0cd-98d3163a7e78",
   "metadata": {},
   "source": [
    "# Load Data"
   ]
  },
  {
   "cell_type": "code",
   "execution_count": 6,
   "id": "42ea653f-1939-4fe4-80f5-a57a4e337b37",
   "metadata": {},
   "outputs": [
    {
     "name": "stdout",
     "output_type": "stream",
     "text": [
      "<class 'pandas.core.frame.DataFrame'>\n",
      "<class 'pandas.core.series.Series'>\n",
      "<class 'pandas.core.frame.DataFrame'>\n",
      "<class 'pandas.core.series.Series'>\n"
     ]
    }
   ],
   "source": [
    "#Read smote data back to nb ad cuda df\n",
    "X_train = pd.read_parquet(\"../../capstone_data/archive/SMOTE_train_test_split/X_train_smote.parquet\")\n",
    "y_train = pd.read_parquet(\"../../capstone_data/archive/SMOTE_train_test_split/y_train_smote.parquet\")['label']\n",
    "X_test = pd.read_parquet(\"../../capstone_data/archive/SMOTE_train_test_split/X_test_smote.parquet\")\n",
    "y_test = pd.read_parquet(\"../../capstone_data/archive/SMOTE_train_test_split/y_test_smote.parquet\")['label']\n",
    "\n",
    "print(type(X_train))\n",
    "print(type(y_train))\n",
    "print(type(X_test))\n",
    "print(type(y_test))"
   ]
  },
  {
   "cell_type": "markdown",
   "id": "17106828-0665-4dc8-887a-fa1583614e37",
   "metadata": {},
   "source": [
    "# Standardize numerical Cols"
   ]
  },
  {
   "cell_type": "code",
   "execution_count": 7,
   "id": "3d1c1f22-daff-44f6-b295-d6a38a273fd8",
   "metadata": {},
   "outputs": [],
   "source": [
    "# Scale data\n",
    "scaler = StandardScaler()\n",
    "\n",
    "\n",
    "numeric_columns = ['duration', #extremely right skewed\n",
    "                   'orig_bytes', #extremely right skewed\n",
    "                   'resp_bytes', #extremely right skewed\n",
    "                   'orig_pkts', #extremely right skewed\n",
    "                   'resp_pkts', #extremely right skewed\n",
    "                   'orig_ip_bytes', ##extremely right skewed\n",
    "                   'resp_ip_bytes'] #extremely right skewed\n",
    "\n",
    "#Log transformation for extremely right skewed distributions\n",
    "constant = 1e-6\n",
    "X_train[numeric_columns] = X_train[numeric_columns].apply(lambda x: np.log(x + constant))\n",
    "X_test[numeric_columns] = X_test[numeric_columns].apply(lambda x: np.log(x + constant))"
   ]
  },
  {
   "cell_type": "markdown",
   "id": "cf96b42d-b49f-4173-9861-e33c7533c5aa",
   "metadata": {},
   "source": [
    "# Transform Data to TensorData and Dataloaders"
   ]
  },
  {
   "cell_type": "code",
   "execution_count": 8,
   "id": "f351768c-97fa-4b13-baeb-bc9f73bba825",
   "metadata": {},
   "outputs": [],
   "source": [
    "def df_to_tensor(df):\n",
    "    \"Transform values to float32 and move to cuda device\"\n",
    "    return torch.tensor(df.values, dtype=torch.float32).to(device)\n",
    "\n",
    "X_train_tensor = df_to_tensor(X_train)\n",
    "y_train_tensor = torch.tensor(y_train.values, dtype=torch.float32).view(-1, 1).to(device)\n",
    "X_test_tensor = df_to_tensor(X_test)\n",
    "y_test_tensor = torch.tensor(y_test.values, dtype=torch.float32).view(-1, 1).to(device)\n",
    "\n",
    "# Create Tensor datasets\n",
    "train_data = TensorDataset(X_train_tensor, y_train_tensor)\n",
    "test_data = TensorDataset(X_test_tensor, y_test_tensor)\n",
    "\n",
    "# Load tensor datasets as dataloaders\n",
    "batch_size = 32\n",
    "train_loader = DataLoader(train_data, batch_size=batch_size, shuffle=True)\n",
    "test_loader = DataLoader(test_data, batch_size=batch_size, shuffle=False)"
   ]
  },
  {
   "cell_type": "markdown",
   "id": "aa421fc8-acef-45c4-b339-9a651c02cf1f",
   "metadata": {},
   "source": [
    "#https://docs.ray.io/en/latest/tune/examples/tune-pytorch-cifar.html\n",
    "\n",
    "#### Findings\n",
    "Epochs:100, batch_size:32, accuracy: 99.17%"
   ]
  },
  {
   "cell_type": "code",
   "execution_count": 11,
   "id": "ccee7f48-529e-43e4-a291-f943ed95e882",
   "metadata": {
    "scrolled": true
   },
   "outputs": [
    {
     "name": "stdout",
     "output_type": "stream",
     "text": [
      "Batch Size: 32, Learning Rate: 0.0001\n",
      "0.0001\n",
      "Epoch 1, Average Loss: 141.32121592215364, Last Loss: 17.009384155273438, Training Accuracy: 0.7316982947442845, Time: 868.18 seconds\n",
      "0.0001\n",
      "Epoch 2, Average Loss: 10.792208403621913, Last Loss: 0.597302258014679, Training Accuracy: 0.7694370390482542, Time: 838.80 seconds\n",
      "0.0001\n",
      "Epoch 3, Average Loss: 0.513576426081457, Last Loss: 0.5096282958984375, Training Accuracy: 0.7840654045806349, Time: 837.07 seconds\n",
      "0.0001\n",
      "Epoch 4, Average Loss: 0.4725075497898223, Last Loss: 0.3609428405761719, Training Accuracy: 0.709894616605986, Time: 836.68 seconds\n",
      "0.0001\n",
      "Epoch 5, Average Loss: 0.4397641075155588, Last Loss: 0.40942883491516113, Training Accuracy: 0.8261763190918909, Time: 832.63 seconds\n",
      "0.0001\n",
      "Epoch 6, Average Loss: 0.4136181048859496, Last Loss: 0.3176059126853943, Training Accuracy: 0.8175965121039505, Time: 839.28 seconds\n",
      "0.0001\n",
      "Epoch 7, Average Loss: 0.3615636662903822, Last Loss: 0.12806904315948486, Training Accuracy: 0.9331754359110793, Time: 838.18 seconds\n",
      "0.0001\n",
      "Epoch 8, Average Loss: 0.24752783472959813, Last Loss: 0.2504357099533081, Training Accuracy: 0.7491780162082509, Time: 839.47 seconds\n",
      "0.0001\n",
      "Epoch 9, Average Loss: 0.17576307653768283, Last Loss: 0.044128965586423874, Training Accuracy: 0.9819092953869292, Time: 834.15 seconds\n",
      "0.0001\n",
      "Epoch 10, Average Loss: 0.13381419012205079, Last Loss: 0.008994749747216702, Training Accuracy: 0.9843069126209818, Time: 836.14 seconds\n",
      "0.0001\n",
      "Epoch 11, Average Loss: 0.11136217426975316, Last Loss: 0.019005239009857178, Training Accuracy: 0.9861381157513536, Time: 839.13 seconds\n",
      "0.0001\n",
      "Epoch 12, Average Loss: 0.09478863344997532, Last Loss: 0.7120627164840698, Training Accuracy: 0.8954977367732436, Time: 833.97 seconds\n",
      "0.0001\n",
      "Epoch 13, Average Loss: 0.07778508571508966, Last Loss: 0.008916362188756466, Training Accuracy: 0.9853208394226646, Time: 837.15 seconds\n",
      "0.0001\n",
      "Epoch 14, Average Loss: 0.06892284813213956, Last Loss: 0.08189477771520615, Training Accuracy: 0.9855227288464833, Time: 837.42 seconds\n",
      "0.0001\n",
      "Epoch 15, Average Loss: 0.06358739982630726, Last Loss: 0.23731088638305664, Training Accuracy: 0.986545766866992, Time: 831.47 seconds\n",
      "0.0001\n",
      "Epoch 16, Average Loss: 0.06115102174232728, Last Loss: 0.010266058146953583, Training Accuracy: 0.9866412828110175, Time: 835.42 seconds\n",
      "0.0001\n",
      "Epoch 17, Average Loss: 0.060787988368899475, Last Loss: 0.014293241314589977, Training Accuracy: 0.9866110639352448, Time: 835.56 seconds\n",
      "0.0001\n",
      "Epoch 18, Average Loss: 0.06065232251148083, Last Loss: 0.011269397102296352, Training Accuracy: 0.9865610281585255, Time: 835.59 seconds\n",
      "0.0001\n",
      "Epoch 19, Average Loss: 0.06042589835881094, Last Loss: 0.5178943872451782, Training Accuracy: 0.9863613406125897, Time: 835.78 seconds\n",
      "0.0001\n",
      "Epoch 20, Average Loss: 0.060173883789817306, Last Loss: 0.005801508203148842, Training Accuracy: 0.986817736748947, Time: 842.28 seconds\n",
      "0.0001\n",
      "Epoch 21, Average Loss: 0.059996078324900386, Last Loss: 0.016802813857793808, Training Accuracy: 0.9867818992882316, Time: 831.19 seconds\n",
      "0.0001\n",
      "Epoch 22, Average Loss: 0.05963861642159384, Last Loss: 0.225556418299675, Training Accuracy: 0.9865584466465248, Time: 834.04 seconds\n",
      "0.0001\n",
      "Epoch 23, Average Loss: 0.05936075888830301, Last Loss: 0.013381903991103172, Training Accuracy: 0.9869191749852094, Time: 834.73 seconds\n",
      "0.0001\n",
      "Epoch 24, Average Loss: 0.059037764925663955, Last Loss: 0.0150845842435956, Training Accuracy: 0.9862761507165669, Time: 834.58 seconds\n",
      "0.0001\n",
      "Epoch 25, Average Loss: 0.05821397497605744, Last Loss: 0.012899508699774742, Training Accuracy: 0.986892600596967, Time: 834.18 seconds\n",
      "0.0001\n",
      "Epoch 26, Average Loss: 0.05673978815041022, Last Loss: 0.012897342443466187, Training Accuracy: 0.9871177236287919, Time: 827.99 seconds\n",
      "0.0001\n",
      "Epoch 27, Average Loss: 0.0493713451563985, Last Loss: 0.06826301664113998, Training Accuracy: 0.9872516585455337, Time: 834.71 seconds\n",
      "0.0001\n",
      "Epoch 28, Average Loss: 0.04491836064090764, Last Loss: 0.004197646863758564, Training Accuracy: 0.9889285024436288, Time: 833.87 seconds\n",
      "0.0001\n",
      "Epoch 29, Average Loss: 0.04358738442704022, Last Loss: 0.005865911953151226, Training Accuracy: 0.9866102287401857, Time: 833.33 seconds\n",
      "0.0001\n",
      "Epoch 30, Average Loss: 0.04161597185341619, Last Loss: 0.005670509766787291, Training Accuracy: 0.9890321425577743, Time: 828.26 seconds\n",
      "0.0001\n",
      "Epoch 31, Average Loss: 0.041330893643645006, Last Loss: 0.03288814797997475, Training Accuracy: 0.9917718101319183, Time: 827.77 seconds\n",
      "0.0001\n",
      "Epoch 32, Average Loss: 0.04043119072128807, Last Loss: 0.005843706429004669, Training Accuracy: 0.9890476316297784, Time: 832.49 seconds\n",
      "0.0001\n",
      "Epoch 33, Average Loss: 0.040818811754899785, Last Loss: 0.005415426101535559, Training Accuracy: 0.9917866158625105, Time: 830.89 seconds\n",
      "0.0001\n",
      "Epoch 34, Average Loss: 0.0402563681758061, Last Loss: 0.007131137885153294, Training Accuracy: 0.9890122497300042, Time: 833.86 seconds\n",
      "0.0001\n",
      "Epoch 35, Average Loss: 0.040445793181496874, Last Loss: 0.0044165439903736115, Training Accuracy: 0.9917005907714287, Time: 829.41 seconds\n",
      "0.0001\n",
      "Epoch 36, Average Loss: 0.03974217533542401, Last Loss: 0.0071210963651537895, Training Accuracy: 0.9909725284604105, Time: 828.47 seconds\n",
      "1e-05\n",
      "Epoch 37, Average Loss: 0.03992037934406066, Last Loss: 0.005863219499588013, Training Accuracy: 0.9917813009848621, Time: 832.51 seconds\n",
      "1e-05\n",
      "Epoch 38, Average Loss: 0.037898115466994065, Last Loss: 0.007555697113275528, Training Accuracy: 0.9917784157655671, Time: 832.35 seconds\n",
      "1e-05\n",
      "Epoch 39, Average Loss: 0.03788810466213546, Last Loss: 0.012530792504549026, Training Accuracy: 0.9917837306432156, Time: 828.73 seconds\n",
      "1e-05\n",
      "Epoch 40, Average Loss: 0.03761768597060316, Last Loss: 0.01495901308953762, Training Accuracy: 0.9917891214476876, Time: 828.93 seconds\n",
      "1e-05\n",
      "Epoch 41, Average Loss: 0.038229561315353176, Last Loss: 0.019464174285531044, Training Accuracy: 0.9917859325210986, Time: 833.61 seconds\n",
      "1e-05\n",
      "Epoch 42, Average Loss: 0.03774314478307059, Last Loss: 0.007240824401378632, Training Accuracy: 0.9917835787895685, Time: 829.51 seconds\n",
      "1.0000000000000002e-06\n",
      "Epoch 43, Average Loss: 0.037795522350506344, Last Loss: 0.01287296786904335, Training Accuracy: 0.9917970178373368, Time: 830.68 seconds\n",
      "1.0000000000000002e-06\n",
      "Epoch 44, Average Loss: 0.03772591991884182, Last Loss: 0.007391378749161959, Training Accuracy: 0.991790412203688, Time: 831.65 seconds\n",
      "1.0000000000000002e-06\n",
      "Epoch 45, Average Loss: 0.037736504534058204, Last Loss: 0.00606015557423234, Training Accuracy: 0.9917964104227484, Time: 834.00 seconds\n",
      "1.0000000000000002e-06\n",
      "Epoch 46, Average Loss: 0.037752287805655406, Last Loss: 0.007602532394230366, Training Accuracy: 0.9917963344959249, Time: 835.32 seconds\n",
      "1.0000000000000002e-07\n",
      "Epoch 47, Average Loss: 0.03775958377462281, Last Loss: 0.01005578227341175, Training Accuracy: 0.9917911714719235, Time: 827.28 seconds\n",
      "1.0000000000000002e-07\n",
      "Epoch 48, Average Loss: 0.03769240282687677, Last Loss: 0.0021316027268767357, Training Accuracy: 0.9917923863011002, Time: 830.69 seconds\n",
      "1.0000000000000002e-07\n",
      "Epoch 49, Average Loss: 0.03765897392311008, Last Loss: 0.2590771019458771, Training Accuracy: 0.9917932214961593, Time: 834.28 seconds\n",
      "1.0000000000000002e-07\n",
      "Epoch 50, Average Loss: 0.037652853943968945, Last Loss: 0.004414288327097893, Training Accuracy: 0.9917763657413313, Time: 829.82 seconds\n",
      "1.0000000000000004e-08\n",
      "Epoch 51, Average Loss: 0.03766798553114734, Last Loss: 0.0074228853918612, Training Accuracy: 0.9917945881789832, Time: 827.91 seconds\n",
      "1.0000000000000004e-08\n",
      "Epoch 52, Average Loss: 0.037649837243186476, Last Loss: 0.006180467549711466, Training Accuracy: 0.9917936770571006, Time: 833.10 seconds\n",
      "1.0000000000000004e-08\n",
      "Epoch 53, Average Loss: 0.037651666403771544, Last Loss: 0.0074384151957929134, Training Accuracy: 0.9917932974229828, Time: 830.19 seconds\n",
      "1.0000000000000004e-08\n",
      "Epoch 54, Average Loss: 0.03765943765826854, Last Loss: 0.020375872030854225, Training Accuracy: 0.9917926900083944, Time: 830.42 seconds\n",
      "1.0000000000000004e-08\n",
      "Epoch 55, Average Loss: 0.0376632185039169, Last Loss: 0.005436971317976713, Training Accuracy: 0.9917917029596883, Time: 833.95 seconds\n",
      "1.0000000000000004e-08\n",
      "Epoch 56, Average Loss: 0.03766487395174419, Last Loss: 0.024376414716243744, Training Accuracy: 0.9917917029596883, Time: 830.07 seconds\n",
      "1.0000000000000004e-08\n",
      "Epoch 57, Average Loss: 0.03766820764434688, Last Loss: 0.2461428940296173, Training Accuracy: 0.9917910196182764, Time: 827.92 seconds\n",
      "1.0000000000000004e-08\n",
      "Epoch 58, Average Loss: 0.037669323799914445, Last Loss: 0.013362711295485497, Training Accuracy: 0.9917908677646293, Time: 827.72 seconds\n",
      "1.0000000000000004e-08\n",
      "Epoch 59, Average Loss: 0.03766916876444114, Last Loss: 0.006196929141879082, Training Accuracy: 0.9917908677646293, Time: 834.20 seconds\n",
      "1.0000000000000004e-08\n",
      "Epoch 60, Average Loss: 0.037676399591790186, Last Loss: 0.007716094609349966, Training Accuracy: 0.9917903362768644, Time: 828.38 seconds\n",
      "1.0000000000000004e-08\n",
      "Epoch 61, Average Loss: 0.037675225744615515, Last Loss: 0.007933588698506355, Training Accuracy: 0.9917898807159231, Time: 827.60 seconds\n",
      "1.0000000000000004e-08\n",
      "Epoch 62, Average Loss: 0.0376751621765029, Last Loss: 0.023450464010238647, Training Accuracy: 0.9917890455208641, Time: 829.93 seconds\n",
      "1.0000000000000004e-08\n",
      "Epoch 63, Average Loss: 0.037675505921165794, Last Loss: 0.00627550296485424, Training Accuracy: 0.9917895010818054, Time: 833.29 seconds\n",
      "1.0000000000000004e-08\n",
      "Epoch 64, Average Loss: 0.037676274963092754, Last Loss: 0.006769568659365177, Training Accuracy: 0.9917890455208641, Time: 833.31 seconds\n",
      "1.0000000000000004e-08\n",
      "Epoch 65, Average Loss: 0.0376773552818687, Last Loss: 0.008682512678205967, Training Accuracy: 0.9917887418135699, Time: 831.98 seconds\n",
      "1.0000000000000004e-08\n",
      "Epoch 66, Average Loss: 0.03767905745867527, Last Loss: 0.0020816645119339228, Training Accuracy: 0.9917886658867463, Time: 833.05 seconds\n",
      "1.0000000000000004e-08\n",
      "Epoch 67, Average Loss: 0.03768044121251501, Last Loss: 0.007819880731403828, Training Accuracy: 0.9917881343989815, Time: 833.66 seconds\n",
      "1.0000000000000004e-08\n",
      "Epoch 68, Average Loss: 0.037684444444294515, Last Loss: 0.004758449271321297, Training Accuracy: 0.9917881343989815, Time: 827.67 seconds\n",
      "1.0000000000000004e-08\n",
      "Epoch 69, Average Loss: 0.037686678079087654, Last Loss: 0.0033722366206347942, Training Accuracy: 0.9917877547648637, Time: 824.05 seconds\n",
      "1.0000000000000004e-08\n",
      "Epoch 70, Average Loss: 0.03769060280328338, Last Loss: 0.0915006771683693, Training Accuracy: 0.991787375130746, Time: 824.79 seconds\n",
      "1.0000000000000004e-08\n",
      "Epoch 71, Average Loss: 0.03769345985385309, Last Loss: 0.009174872189760208, Training Accuracy: 0.9917870714234518, Time: 831.15 seconds\n",
      "1.0000000000000004e-08\n",
      "Epoch 72, Average Loss: 0.03769675700262686, Last Loss: 0.0034310121554881334, Training Accuracy: 0.9917859325210986, Time: 824.36 seconds\n",
      "1.0000000000000004e-08\n",
      "Epoch 73, Average Loss: 0.03769720828782519, Last Loss: 0.09705466032028198, Training Accuracy: 0.9917861603015692, Time: 828.51 seconds\n",
      "1.0000000000000004e-08\n",
      "Epoch 74, Average Loss: 0.03770206605622678, Last Loss: 0.23676225543022156, Training Accuracy: 0.9917856288138044, Time: 830.82 seconds\n",
      "1.0000000000000004e-08\n",
      "Epoch 75, Average Loss: 0.037706229228317185, Last Loss: 0.2444332391023636, Training Accuracy: 0.9917861603015692, Time: 824.79 seconds\n",
      "1.0000000000000004e-08\n",
      "Epoch 76, Average Loss: 0.03771086617341207, Last Loss: 0.008921966888010502, Training Accuracy: 0.991785021399216, Time: 825.65 seconds\n",
      "1.0000000000000004e-08\n",
      "Epoch 77, Average Loss: 0.03771241833762245, Last Loss: 0.009422537870705128, Training Accuracy: 0.9917847936187453, Time: 832.04 seconds\n",
      "1.0000000000000004e-08\n",
      "Epoch 78, Average Loss: 0.03771747011254748, Last Loss: 0.006654413416981697, Training Accuracy: 0.9917844899114511, Time: 824.44 seconds\n",
      "1.0000000000000004e-08\n",
      "Epoch 79, Average Loss: 0.03772151693536705, Last Loss: 0.0018380444962531328, Training Accuracy: 0.9917833510090979, Time: 840.72 seconds\n",
      "1.0000000000000004e-08\n",
      "Epoch 80, Average Loss: 0.03772390356515331, Last Loss: 0.006094885990023613, Training Accuracy: 0.9917825917408624, Time: 861.74 seconds\n",
      "1.0000000000000004e-08\n",
      "Epoch 81, Average Loss: 0.03772742573074313, Last Loss: 0.0035018553026020527, Training Accuracy: 0.9917827435945095, Time: 917.41 seconds\n",
      "1.0000000000000004e-08\n",
      "Epoch 82, Average Loss: 0.03773113970141026, Last Loss: 0.004754490219056606, Training Accuracy: 0.9917826676676859, Time: 889.04 seconds\n",
      "1.0000000000000004e-08\n",
      "Epoch 83, Average Loss: 0.037733973584889786, Last Loss: 0.00469506811350584, Training Accuracy: 0.9917822880335682, Time: 829.78 seconds\n",
      "1.0000000000000004e-08\n",
      "Epoch 84, Average Loss: 0.03773996758585529, Last Loss: 0.006346363108605146, Training Accuracy: 0.9917816046921563, Time: 826.98 seconds\n",
      "1.0000000000000004e-08\n",
      "Epoch 85, Average Loss: 0.0377436425970866, Last Loss: 0.00617078086361289, Training Accuracy: 0.9917809972775679, Time: 833.05 seconds\n",
      "1.0000000000000004e-08\n",
      "Epoch 86, Average Loss: 0.03774670926969931, Last Loss: 0.004452375695109367, Training Accuracy: 0.9917803898629795, Time: 830.74 seconds\n",
      "1.0000000000000004e-08\n",
      "Epoch 87, Average Loss: 0.037747658820903855, Last Loss: 0.006514549255371094, Training Accuracy: 0.991779782448391, Time: 828.68 seconds\n",
      "1.0000000000000004e-08\n",
      "Epoch 88, Average Loss: 0.03775458955482468, Last Loss: 0.0037216146010905504, Training Accuracy: 0.9917794787410968, Time: 830.67 seconds\n",
      "1.0000000000000004e-08\n",
      "Epoch 89, Average Loss: 0.03775988348700071, Last Loss: 0.0046403901651501656, Training Accuracy: 0.9917787194728613, Time: 828.50 seconds\n",
      "1.0000000000000004e-08\n",
      "Epoch 90, Average Loss: 0.037761768613789444, Last Loss: 0.003304555546492338, Training Accuracy: 0.9917779602046258, Time: 827.89 seconds\n",
      "1.0000000000000004e-08\n",
      "Epoch 91, Average Loss: 0.037764139264340975, Last Loss: 0.006559072993695736, Training Accuracy: 0.9917768213022726, Time: 828.16 seconds\n",
      "1.0000000000000004e-08\n",
      "Epoch 92, Average Loss: 0.03776805353462815, Last Loss: 0.009167300537228584, Training Accuracy: 0.9917777324241551, Time: 834.15 seconds\n",
      "1.0000000000000004e-08\n",
      "Epoch 93, Average Loss: 0.03777234924896633, Last Loss: 0.0031563150696456432, Training Accuracy: 0.9917772009363903, Time: 829.16 seconds\n",
      "1.0000000000000004e-08\n",
      "Epoch 94, Average Loss: 0.03777675522075445, Last Loss: 0.00997391901910305, Training Accuracy: 0.9917771250095668, Time: 832.81 seconds\n",
      "1.0000000000000004e-08\n",
      "Epoch 95, Average Loss: 0.037779553517128396, Last Loss: 0.004921551328152418, Training Accuracy: 0.9917766694486255, Time: 824.22 seconds\n",
      "1.0000000000000004e-08\n",
      "Epoch 96, Average Loss: 0.03778443383253441, Last Loss: 0.2424006313085556, Training Accuracy: 0.9917764416681548, Time: 839.95 seconds\n",
      "1.0000000000000004e-08\n",
      "Epoch 97, Average Loss: 0.037788519580512415, Last Loss: 0.02122645266354084, Training Accuracy: 0.9917763657413313, Time: 833.02 seconds\n",
      "1.0000000000000004e-08\n",
      "Epoch 98, Average Loss: 0.03779385935493286, Last Loss: 0.008503712713718414, Training Accuracy: 0.9917757583267429, Time: 825.11 seconds\n",
      "1.0000000000000004e-08\n",
      "Epoch 99, Average Loss: 0.03779346333386376, Last Loss: 0.007707477547228336, Training Accuracy: 0.9917753786926251, Time: 826.95 seconds\n",
      "1.0000000000000004e-08\n",
      "Epoch 100, Average Loss: 0.03780085596855246, Last Loss: 0.006029472220689058, Training Accuracy: 0.9917745434975661, Time: 833.43 seconds\n",
      "CPU times: user 22h 20min 7s, sys: 13min 17s, total: 22h 33min 24s\n",
      "Wall time: 23h 9min 51s\n"
     ]
    }
   ],
   "source": [
    "%%time\n",
    "\n",
    "lr = 0.0001 #initialize starting learning rate\n",
    "\n",
    "#Define model\n",
    "class BinaryClassifierCNN(nn.Module):\n",
    "    def __init__(self, num_features):\n",
    "        super(BinaryClassifierCNN, self).__init__()\n",
    "        self.layer1 = nn.Conv1d(1, 16, kernel_size=3, padding=1)\n",
    "        self.relu = nn.ReLU()\n",
    "        self.pool = nn.MaxPool1d(kernel_size=2)\n",
    "        self.fc1 = nn.Linear(16 * (num_features // 2), 128)\n",
    "        self.fc2 = nn.Linear(128, 1)\n",
    "\n",
    "    def forward(self, x):\n",
    "        x = x.view(x.size(0), 1, -1)  # Reshape [batch_size, channels, features]\n",
    "        x = self.pool(self.relu(self.layer1(x)))\n",
    "        x = x.view(x.size(0), -1)  # Flatten\n",
    "        x = self.relu(self.fc1(x))\n",
    "        x = self.fc2(x)\n",
    "        return x\n",
    "\n",
    "#Initialize model and move to gpu\n",
    "model = BinaryClassifierCNN(X_train_tensor.shape[1]).to(device)\n",
    "\n",
    "#Optimizer and loss function\n",
    "optimizer = optim.Adam(model.parameters(), lr=lr)\n",
    "criterion = nn.BCEWithLogitsLoss()\n",
    "\n",
    "#Initialize LR Scheduler - reduces learning rate based on plateau detection\n",
    "scheduler = lr_scheduler.ReduceLROnPlateau(optimizer, mode='min', factor=0.1, patience=3) #if loss does not decrease after three epochs, LR is decreased by a factor of 0.1.\n",
    "\n",
    "\n",
    "train_losses, val_losses = [], []\n",
    "\n",
    "#Training function\n",
    "def train_model(model, train_loader, num_epochs):\n",
    "    model.train()\n",
    "    for epoch in range(num_epochs):\n",
    "        start_time = time.time()\n",
    "        running_loss = 0.0\n",
    "        for i, (data, labels) in enumerate(train_loader):\n",
    "            optimizer.zero_grad()\n",
    "            outputs = model(data)\n",
    "            loss = criterion(outputs, labels)\n",
    "            loss.backward()\n",
    "            optimizer.step()\n",
    "            running_loss += loss.item()\n",
    "            #print(f'Epoch {epoch+1}, Iteration {i+1}, Loss: {loss.item()}')\n",
    "        train_loss = running_loss / len(train_loader)\n",
    "        \n",
    "\n",
    "        # Evaluate on training data for epoch loss and intermediate accuracy\n",
    "        val_loss, accuracy_train = evaluate_model(model, train_loader)\n",
    "        val_losses.append(val_loss)\n",
    "\n",
    "        scheduler.step(val_loss)\n",
    "        print(optimizer.param_groups[0]['lr'])\n",
    "\n",
    "        duration = time.time() - start_time\n",
    "\n",
    "        print(f'Epoch {epoch+1}, Average Loss: {train_loss}, Last Loss: {loss.item()}, Training Accuracy: {accuracy_train}, Time: {duration:.2f} seconds')\n",
    "\n",
    "\n",
    "# Evaluation function - works for train_loader and testing_loader\n",
    "def evaluate_model(model, loader):\n",
    "    model.eval()\n",
    "    total_loss = 0.0\n",
    "    correct = 0\n",
    "    total = 0\n",
    "    with torch.no_grad():\n",
    "        for data, labels in loader:\n",
    "            outputs = model(data)\n",
    "            loss = criterion(outputs, labels)  # Calculate loss\n",
    "            total_loss += loss.item()\n",
    "            predicted = (outputs > 0).float()\n",
    "            total += labels.size(0)\n",
    "            correct += (predicted == labels).sum().item()\n",
    "    average_loss = total_loss / len(loader)  # Compute average loss over all batches\n",
    "    accuracy = correct / total  # Compute accuracy\n",
    "    return average_loss, accuracy\n",
    "\n",
    "# Run training and evaluation\n",
    "print(f'Batch Size: {batch_size}, Learning Rate: {str(lr)}')\n",
    "train_model(model, train_loader, num_epochs=100)"
   ]
  },
  {
   "cell_type": "code",
   "execution_count": 22,
   "id": "79a0b637-02c7-4533-9036-c9ca3ff842ef",
   "metadata": {},
   "outputs": [
    {
     "name": "stdout",
     "output_type": "stream",
     "text": [
      "CPU times: user 1min 21s, sys: 11.8 ms, total: 1min 21s\n",
      "Wall time: 1min 21s\n"
     ]
    },
    {
     "data": {
      "text/plain": [
       "(0.03818621997688989, 0.9918379600913788)"
      ]
     },
     "execution_count": 22,
     "metadata": {},
     "output_type": "execute_result"
    }
   ],
   "source": [
    "%%time\n",
    "\n",
    "#Evaluate model on test data subset\n",
    "evaluate_model(model, test_loader)"
   ]
  },
  {
   "cell_type": "code",
   "execution_count": 14,
   "id": "715f9aec-e9e3-455b-b031-554af5357644",
   "metadata": {},
   "outputs": [],
   "source": [
    "#torch.save(model.state_dict(), 'cnn_model_ACC9918379600913788_LR00001wRELUdecay_BatchSize32.pth')"
   ]
  },
  {
   "cell_type": "markdown",
   "id": "39ce711b-0a32-4182-ad09-e3f7f23d5c83",
   "metadata": {},
   "source": [
    "# Evaluate Model "
   ]
  },
  {
   "cell_type": "code",
   "execution_count": 18,
   "id": "021ae211-8c86-4655-9cef-5958791c5636",
   "metadata": {},
   "outputs": [
    {
     "data": {
      "text/plain": [
       "BinaryClassifierCNN(\n",
       "  (layer1): Conv1d(1, 16, kernel_size=(3,), stride=(1,), padding=(1,))\n",
       "  (relu): ReLU()\n",
       "  (pool): MaxPool1d(kernel_size=2, stride=2, padding=0, dilation=1, ceil_mode=False)\n",
       "  (fc1): Linear(in_features=112, out_features=128, bias=True)\n",
       "  (fc2): Linear(in_features=128, out_features=1, bias=True)\n",
       ")"
      ]
     },
     "execution_count": 18,
     "metadata": {},
     "output_type": "execute_result"
    }
   ],
   "source": [
    "#load model if already trained\n",
    "class BinaryClassifierCNN(nn.Module):\n",
    "    def __init__(self, num_features):\n",
    "        super(BinaryClassifierCNN, self).__init__()\n",
    "        self.layer1 = nn.Conv1d(1, 16, kernel_size=3, padding=1)\n",
    "        self.relu = nn.ReLU()\n",
    "        self.pool = nn.MaxPool1d(kernel_size=2)\n",
    "        self.fc1 = nn.Linear(16 * (num_features // 2), 128)\n",
    "        self.fc2 = nn.Linear(128, 1)\n",
    "\n",
    "    def forward(self, x):\n",
    "        x = x.view(x.size(0), 1, -1)  # Reshape [batch_size, channels, features]\n",
    "        x = self.pool(self.relu(self.layer1(x)))\n",
    "        x = x.view(x.size(0), -1)  # Flatten\n",
    "        x = self.relu(self.fc1(x))\n",
    "        x = self.fc2(x)\n",
    "        return x\n",
    "        \n",
    "model_path = '../trained_models/cnn_model_ACC9918379600913788_LR00001wRELUdecay_BatchSize32.pth'\n",
    "model = BinaryClassifierCNN(num_features=15)\n",
    "model.load_state_dict(torch.load(model_path))\n",
    "if torch.cuda.is_available():\n",
    "    model.cuda()\n",
    "model.eval()"
   ]
  },
  {
   "cell_type": "code",
   "execution_count": 19,
   "id": "1c3ac318-9d95-41f4-afe0-9ca8be7fb9a6",
   "metadata": {},
   "outputs": [
    {
     "name": "stdout",
     "output_type": "stream",
     "text": [
      "Classification Report:\n",
      "              precision    recall  f1-score   support\n",
      "\n",
      "         0.0       0.99      0.99      0.99   2195209\n",
      "         1.0       0.99      0.99      0.99   2194870\n",
      "\n",
      "    accuracy                           0.99   4390079\n",
      "   macro avg       0.99      0.99      0.99   4390079\n",
      "weighted avg       0.99      0.99      0.99   4390079\n",
      "\n"
     ]
    }
   ],
   "source": [
    "# Set the model to evaluation mode\n",
    "#model.eval()\n",
    "\n",
    "# Initialize lists to store true labels and predictions\n",
    "true_labels = []\n",
    "predictions = []\n",
    "probabilities = []\n",
    "\n",
    "# No gradient is needed for evaluation\n",
    "with torch.no_grad():\n",
    "    for data, target in test_loader:\n",
    "        # If your data and model are on CUDA, ensure data is also moved to CUDA\n",
    "        if torch.cuda.is_available():\n",
    "            data = data.cuda()\n",
    "            target = target.cuda()\n",
    "\n",
    "        output = model(data)\n",
    "        # Assuming the output is for binary classification and contains logits\n",
    "        # Apply sigmoid to convert logits to probabilities\n",
    "        probs = torch.sigmoid(output)\n",
    "        pred = (probs > 0.5).int()  # Threshold probabilities to create binary predictions\n",
    "\n",
    "        # Move tensors to CPU and convert them to numpy arrays\n",
    "        true_labels.extend(target.cpu().numpy())\n",
    "        predictions.extend(pred.cpu().numpy())\n",
    "        probabilities.extend(probs.cpu().numpy())\n",
    "\n",
    "# Convert lists to numpy arrays\n",
    "true_labels = np.array(true_labels)\n",
    "predictions = np.array(predictions)\n",
    "probabilities = np.array(probabilities).flatten()  # Flatten in case probabilities have an extra dimension\n",
    "\n",
    "# Classification report\n",
    "print(\"Classification Report:\")\n",
    "print(classification_report(true_labels, predictions))"
   ]
  },
  {
   "cell_type": "code",
   "execution_count": 20,
   "id": "33a87500-61a1-4302-9c11-45f9d6d36429",
   "metadata": {},
   "outputs": [
    {
     "name": "stdout",
     "output_type": "stream",
     "text": [
      "Accuracy: 0.9918379600913788\n",
      "Precision: 0.991856733453705\n",
      "Recall: 0.9918377229705905\n",
      "F1 Score: 0.9918378792402923\n"
     ]
    }
   ],
   "source": [
    "# Calculate metrics\n",
    "accuracy = accuracy_score(true_labels, predictions)\n",
    "precision = precision_score(true_labels, predictions, average='macro')\n",
    "recall = recall_score(true_labels, predictions, average='macro')\n",
    "f1 = f1_score(true_labels, predictions, average='macro')\n",
    "\n",
    "# Print metrics\n",
    "print(\"Accuracy:\", accuracy)\n",
    "print(\"Precision:\", precision)\n",
    "print(\"Recall:\", recall)\n",
    "print(\"F1 Score:\", f1)"
   ]
  },
  {
   "cell_type": "markdown",
   "id": "57ca5af6-7b57-4976-bd84-2b4051168a9b",
   "metadata": {},
   "source": [
    "# Confusion Matrix"
   ]
  },
  {
   "cell_type": "code",
   "execution_count": 21,
   "id": "86b388e4-594c-413c-adee-b5d5231253b4",
   "metadata": {},
   "outputs": [
    {
     "name": "stdout",
     "output_type": "stream",
     "text": [
      "Confusion Matrix:\n",
      "[[2184032   11177]\n",
      " [  24655 2170215]]\n"
     ]
    },
    {
     "data": {
      "image/png": "[encoded data removed]",
      "text/plain": [
       "<Figure size 800x600 with 2 Axes>"
      ]
     },
     "metadata": {},
     "output_type": "display_data"
    }
   ],
   "source": [
    "# Confusion matrix\n",
    "cm = confusion_matrix(true_labels, predictions)\n",
    "print(\"Confusion Matrix:\")\n",
    "print(cm)\n",
    "\n",
    "\n",
    "# Plot confusion matrix\n",
    "plt.figure(figsize=(8, 6))\n",
    "sns.heatmap(cm, annot=True, fmt='g', cmap='Blues', xticklabels=['Malicious', 'Benign'], yticklabels=['Malicious', 'Benign'])\n",
    "plt.xlabel('Predicted labels')\n",
    "plt.ylabel('True labels')\n",
    "plt.title('CNN Binary Classifier Confusion Matrix')\n",
    "plt.savefig('../../Graphs/Conf_Mat/cnn_model_CONF_MAT_ACC9918379600913788_LR00001wRELUdecay_BatchSize32.png')\n",
    "plt.show()"
   ]
  },
  {
   "cell_type": "markdown",
   "id": "264304d7-8e91-4636-a1f2-5de7b9fb80cc",
   "metadata": {},
   "source": [
    "# ROC Curve"
   ]
  },
  {
   "cell_type": "code",
   "execution_count": 22,
   "id": "1f777daf-47a8-4515-bab0-bea74ccc09bd",
   "metadata": {},
   "outputs": [
    {
     "data": {
      "image/png": "[encoded data removed]",
      "text/plain": [
       "<Figure size 640x480 with 1 Axes>"
      ]
     },
     "metadata": {},
     "output_type": "display_data"
    }
   ],
   "source": [
    "# ROC curve and AUC\n",
    "fpr, tpr, _ = roc_curve(true_labels, probabilities)\n",
    "roc_auc = auc(fpr, tpr)\n",
    "\n",
    "# Plotting ROC curve\n",
    "plt.figure()\n",
    "lw = 2  # Line width\n",
    "plt.plot(fpr, tpr, color='darkorange', lw=lw, label='ROC curve (area = %0.6f)' % roc_auc)\n",
    "plt.plot([0, 1], [0, 1], color='navy', lw=lw, linestyle='--')\n",
    "plt.xlim([0.0, 1.0])\n",
    "plt.ylim([0.0, 1.05])\n",
    "plt.xlabel('False Positive Rate')\n",
    "plt.ylabel('True Positive Rate')\n",
    "plt.title('ROC Curve for CNN Classifier')\n",
    "plt.legend(loc=\"lower right\")\n",
    "plt.savefig('../../Graphs/ROC_CUR/cnn_model_ACC9918379600913788_LR00001wRELUdecay_BatchSize32.png')\n",
    "plt.show()"
   ]
  },
  {
   "cell_type": "code",
   "execution_count": null,
   "id": "1b461482-7c93-42e7-9519-c9580ce5a6e4",
   "metadata": {},
   "outputs": [],
   "source": []
  }
 ],
 "metadata": {
  "kernelspec": {
   "display_name": "Python 3 (ipykernel)",
   "language": "python",
   "name": "python3"
  },
  "language_info": {
   "codemirror_mode": {
    "name": "ipython",
    "version": 3
   },
   "file_extension": ".py",
   "mimetype": "text/x-python",
   "name": "python",
   "nbconvert_exporter": "python",
   "pygments_lexer": "ipython3",
   "version": "3.10.14"
  }
 },
 "nbformat": 4,
 "nbformat_minor": 5
}
