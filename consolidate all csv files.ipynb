{
 "cells": [
  {
   "cell_type": "code",
   "execution_count": null,
   "id": "a9d7acdb",
   "metadata": {},
   "outputs": [],
   "source": [
    "#consolidate all csv files\n",
    "# https://raredogmarketing.com/resources/combining-multiple-csv-files-into-one-file-using-python-step-by-step-guide"
   ]
  },
  {
   "cell_type": "code",
   "execution_count": 1,
   "id": "f6061ba1",
   "metadata": {},
   "outputs": [],
   "source": [
    "import pandas as pd\n",
    "import os"
   ]
  },
  {
   "cell_type": "code",
   "execution_count": 4,
   "id": "29ad4df1",
   "metadata": {},
   "outputs": [],
   "source": [
    "folder_path = r'D:\\Grad School\\capstone_data\\archive'\n",
    "\n",
    "all_files = os.listdir(folder_path)\n",
    "\n",
    "# Filter out non-CSV files\n",
    "csv_files = [f for f in all_files if f.endswith('.csv')]"
   ]
  },
  {
   "cell_type": "code",
   "execution_count": 5,
   "id": "a967ca96",
   "metadata": {},
   "outputs": [
    {
     "data": {
      "text/plain": [
       "['combined_file.csv']"
      ]
     },
     "execution_count": 5,
     "metadata": {},
     "output_type": "execute_result"
    }
   ],
   "source": [
    "csv_files"
   ]
  },
  {
   "cell_type": "code",
   "execution_count": null,
   "id": "4880f7e6",
   "metadata": {},
   "outputs": [],
   "source": [
    "# Create a list to hold the dataframes\n",
    "df_list = []\n",
    "\n",
    "for csv in csv_files:\n",
    "    file_path = os.path.join(folder_path, csv)\n",
    "    try:\n",
    "        # Try reading the file using default UTF-8 encoding\n",
    "        df = pd.read_csv(file_path, sep='|')\n",
    "        df_list.append(df)\n",
    "    except UnicodeDecodeError:\n",
    "        try:\n",
    "            # If UTF-8 fails, try reading the file using UTF-16 encoding with tab separator\n",
    "            df = pd.read_csv(file_path, sep='|', encoding='utf-16')\n",
    "            df_list.append(df)\n",
    "        except Exception as e:\n",
    "            print(f\"Could not read file {csv} because of error: {e}\")\n",
    "    except Exception as e:\n",
    "        print(f\"Could not read file {csv} because of error: {e}\")\n",
    "\n",
    "# Concatenate all data into one DataFrame\n",
    "big_df = pd.concat(df_list, ignore_index=True)"
   ]
  },
  {
   "cell_type": "code",
   "execution_count": null,
   "id": "f6abb794",
   "metadata": {},
   "outputs": [],
   "source": [
    "# Save the final result to a new CSV file\n",
    "big_df.to_csv(os.path.join(folder_path, 'combined_file.csv'), index=False)"
   ]
  },
  {
   "cell_type": "code",
   "execution_count": null,
   "id": "5cced75f",
   "metadata": {},
   "outputs": [],
   "source": [
    "big_df.head(5)"
   ]
  },
  {
   "cell_type": "markdown",
   "id": "9a8b083a",
   "metadata": {},
   "source": [
    "| Col Name | Col Desc. |\n",
    "|:--------:|:--------:|\n",
    "|  ts   |  The timestamp of the connection event   |\n",
    "|  uid   |  A unique identifier for the connection   |\n",
    "|  id.orig_h   |  The source IP address   |\n",
    "|  id.orig_p   |  The source port   |\n",
    "|  id.resp_h   |  The destination IP address   |\n",
    "|  id.resp_p   |  The destination port   |\n",
    "|  proto   |  The network protocol used (e.g., \"tcp\"   |\n",
    "|  service   |  The service associated with the connection   |\n",
    "|  duration   |  The duration of the connection   |\n",
    "|  orig_bytes   |  The number of bytes sent from the source to the destination   |\n",
    "|  resp_bytes   |  The number of bytes sent from the destination to the source   |\n",
    "|  conn_state   |  The state of the connection   |\n",
    "|  local_orig   |  Indicate whether the connection is considered local or not   |\n",
    "|  local_resp   |  Indicate whether the connection is considered local or not   |\n",
    "|  missed_bytes   |  The number of missed bytes in the connection   |\n",
    "|  history   |  A history of connection states   |\n",
    "|  orig_pkts   |  The number of packets sent from the source to the destination   |\n",
    "|  orig_ip_bytes   |  The number of IP bytes sent from the source to the destination   |\n",
    "|  resp_pkts   |  The number of packets sent from the destination to the source   |\n",
    "|  resp_ip_bytes   |  The number of IP bytes sent from the destination to the source   |\n",
    "|  tunnel_parents   |  Indicates if this connection is part of a tunnel   |\n",
    "|  label   |  A label associated with the connection (e.g., \"Malicious\" or \"Benign\")   |\n",
    "|  detailed-label   |  A more detailed description or label for the connection   |"
   ]
  },
  {
   "cell_type": "code",
   "execution_count": null,
   "id": "ad162fba",
   "metadata": {},
   "outputs": [],
   "source": []
  }
 ],
 "metadata": {
  "kernelspec": {
   "display_name": "Python 3",
   "language": "python",
   "name": "python3"
  },
  "language_info": {
   "codemirror_mode": {
    "name": "ipython",
    "version": 3
   },
   "file_extension": ".py",
   "mimetype": "text/x-python",
   "name": "python",
   "nbconvert_exporter": "python",
   "pygments_lexer": "ipython3",
   "version": "3.10.0"
  }
 },
 "nbformat": 4,
 "nbformat_minor": 5
}
